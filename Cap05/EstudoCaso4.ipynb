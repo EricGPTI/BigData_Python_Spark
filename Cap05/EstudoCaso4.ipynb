{
 "cells": [
  {
   "cell_type": "markdown",
   "id": "df4d87a1-f09e-4f54-85d4-5c39e688268b",
   "metadata": {
    "id": "df4d87a1-f09e-4f54-85d4-5c39e688268b"
   },
   "source": [
    "# <font color='blue'>Data Science Academy</font>\n",
    "# <font color='blue'>Big Data Real-Time Analytics com Python e Spark</font>\n",
    "\n",
    "## <font color='blue'>Estudo de Caso 4</font>\n",
    "\n",
    "## <font color='blue'>Engenharia de Atributos Para E-Commerce Analytics</font>"
   ]
  },
  {
   "cell_type": "markdown",
   "id": "260206d6",
   "metadata": {},
   "source": [
    "Obs: Estaremos trabalhando em um grande projeto de Ciência de Dados distribuído em 3 capítulos:\n",
    "\n",
    "- Análise Exploratória de Dados\n",
    "    - EDA Parte 1\n",
    "    - EDA Parte 2\n",
    "- **Engenharia de Atributos**\n",
    "- Pré-Processamento de Dados"
   ]
  },
  {
   "cell_type": "markdown",
   "id": "4a260304",
   "metadata": {},
   "source": [
    "A Engenharia de Atributos refere-se ao processo de usar o conhecimento do domínio (área de negócio) para remover, selecionar e transformar os dados, mantendo somente os atributos mais relevantes."
   ]
  },
  {
   "cell_type": "markdown",
   "id": "dd644005",
   "metadata": {},
   "source": [
    "![title](imagens/EstudoCaso4.png)"
   ]
  },
  {
   "cell_type": "code",
   "execution_count": 1,
   "id": "58ccbb40",
   "metadata": {},
   "outputs": [
    {
     "name": "stdout",
     "output_type": "stream",
     "text": [
      "Versão da Linguagem Python Usada Neste Jupyter Notebook: 3.8.8\n"
     ]
    }
   ],
   "source": [
    "# Versão da Linguagem Python\n",
    "from platform import python_version\n",
    "print('Versão da Linguagem Python Usada Neste Jupyter Notebook:', python_version())"
   ]
  },
  {
   "cell_type": "code",
   "execution_count": 2,
   "id": "c9795b48",
   "metadata": {},
   "outputs": [],
   "source": [
    "# Para atualizar um pacote, execute o comando abaixo no terminal ou prompt de comando:\n",
    "# pip install -U nome_pacote\n",
    "\n",
    "# Para instalar a versão exata de um pacote, execute o comando abaixo no terminal ou prompt de comando:\n",
    "#!pip install nome_pacote==versão_desejada\n",
    "\n",
    "# Depois de instalar ou atualizar o pacote, reinicie o jupyter notebook.\n",
    "\n",
    "# Instala o pacote watermark. \n",
    "# Esse pacote é usado para gravar as versões de outros pacotes usados neste jupyter notebook.\n",
    "#!pip install -q -U watermark"
   ]
  },
  {
   "cell_type": "code",
   "execution_count": 3,
   "id": "6da754d5-db10-4626-b5d3-9a0125483d6e",
   "metadata": {
    "id": "6da754d5-db10-4626-b5d3-9a0125483d6e"
   },
   "outputs": [],
   "source": [
    "# Imports\n",
    "import scipy\n",
    "import numpy as np\n",
    "import pandas as pd\n",
    "import matplotlib.pyplot as plt\n",
    "import seaborn as sns\n",
    "from scipy import stats"
   ]
  },
  {
   "cell_type": "code",
   "execution_count": 4,
   "id": "57ba4b40",
   "metadata": {},
   "outputs": [
    {
     "name": "stdout",
     "output_type": "stream",
     "text": [
      "Author: Data Science Academy\n",
      "\n",
      "scipy     : 1.6.2\n",
      "seaborn   : 0.11.2\n",
      "numpy     : 1.22.3\n",
      "pandas    : 1.4.2\n",
      "matplotlib: 3.3.4\n",
      "\n"
     ]
    }
   ],
   "source": [
    "# Versões dos pacotes usados neste jupyter notebook\n",
    "%reload_ext watermark\n",
    "%watermark -a \"Data Science Academy\" --iversions"
   ]
  },
  {
   "cell_type": "markdown",
   "id": "0402fac6-6a28-422d-ae5b-3eba35a4d3ea",
   "metadata": {
    "id": "0402fac6-6a28-422d-ae5b-3eba35a4d3ea"
   },
   "source": [
    "## Carregando o Dataset"
   ]
  },
  {
   "cell_type": "code",
   "execution_count": 5,
   "id": "898ab2f1-c855-49b6-aa37-ec6c26c3a89b",
   "metadata": {
    "id": "898ab2f1-c855-49b6-aa37-ec6c26c3a89b"
   },
   "outputs": [],
   "source": [
    "# Carrega o dataset\n",
    "df = pd.read_csv('../dados/Cap05/dataset.csv')"
   ]
  },
  {
   "cell_type": "code",
   "execution_count": 6,
   "id": "4d553627",
   "metadata": {},
   "outputs": [
    {
     "data": {
      "text/plain": [
       "(11000, 12)"
      ]
     },
     "execution_count": 6,
     "metadata": {},
     "output_type": "execute_result"
    }
   ],
   "source": [
    "df.shape"
   ]
  },
  {
   "cell_type": "code",
   "execution_count": 7,
   "id": "cd7a3458",
   "metadata": {},
   "outputs": [
    {
     "data": {
      "text/html": [
       "<div>\n",
       "<style scoped>\n",
       "    .dataframe tbody tr th:only-of-type {\n",
       "        vertical-align: middle;\n",
       "    }\n",
       "\n",
       "    .dataframe tbody tr th {\n",
       "        vertical-align: top;\n",
       "    }\n",
       "\n",
       "    .dataframe thead th {\n",
       "        text-align: right;\n",
       "    }\n",
       "</style>\n",
       "<table border=\"1\" class=\"dataframe\">\n",
       "  <thead>\n",
       "    <tr style=\"text-align: right;\">\n",
       "      <th></th>\n",
       "      <th>ID</th>\n",
       "      <th>corredor_armazem</th>\n",
       "      <th>modo_envio</th>\n",
       "      <th>numero_chamadas_cliente</th>\n",
       "      <th>avaliacao_cliente</th>\n",
       "      <th>custo_produto</th>\n",
       "      <th>compras_anteriores</th>\n",
       "      <th>prioridade_produto</th>\n",
       "      <th>genero</th>\n",
       "      <th>desconto</th>\n",
       "      <th>peso_gramas</th>\n",
       "      <th>entregue_no_prazo</th>\n",
       "    </tr>\n",
       "  </thead>\n",
       "  <tbody>\n",
       "    <tr>\n",
       "      <th>0</th>\n",
       "      <td>1</td>\n",
       "      <td>D</td>\n",
       "      <td>Aviao</td>\n",
       "      <td>4</td>\n",
       "      <td>2</td>\n",
       "      <td>177</td>\n",
       "      <td>3</td>\n",
       "      <td>baixa</td>\n",
       "      <td>F</td>\n",
       "      <td>44</td>\n",
       "      <td>1233</td>\n",
       "      <td>1</td>\n",
       "    </tr>\n",
       "    <tr>\n",
       "      <th>1</th>\n",
       "      <td>2</td>\n",
       "      <td>F</td>\n",
       "      <td>Aviao</td>\n",
       "      <td>4</td>\n",
       "      <td>5</td>\n",
       "      <td>216</td>\n",
       "      <td>2</td>\n",
       "      <td>baixa</td>\n",
       "      <td>M</td>\n",
       "      <td>59</td>\n",
       "      <td>3088</td>\n",
       "      <td>1</td>\n",
       "    </tr>\n",
       "    <tr>\n",
       "      <th>2</th>\n",
       "      <td>3</td>\n",
       "      <td>A</td>\n",
       "      <td>Aviao</td>\n",
       "      <td>2</td>\n",
       "      <td>2</td>\n",
       "      <td>183</td>\n",
       "      <td>4</td>\n",
       "      <td>baixa</td>\n",
       "      <td>M</td>\n",
       "      <td>48</td>\n",
       "      <td>3374</td>\n",
       "      <td>1</td>\n",
       "    </tr>\n",
       "    <tr>\n",
       "      <th>3</th>\n",
       "      <td>4</td>\n",
       "      <td>B</td>\n",
       "      <td>Aviao</td>\n",
       "      <td>3</td>\n",
       "      <td>3</td>\n",
       "      <td>176</td>\n",
       "      <td>4</td>\n",
       "      <td>media</td>\n",
       "      <td>M</td>\n",
       "      <td>10</td>\n",
       "      <td>1177</td>\n",
       "      <td>1</td>\n",
       "    </tr>\n",
       "    <tr>\n",
       "      <th>4</th>\n",
       "      <td>5</td>\n",
       "      <td>C</td>\n",
       "      <td>Aviao</td>\n",
       "      <td>2</td>\n",
       "      <td>2</td>\n",
       "      <td>184</td>\n",
       "      <td>3</td>\n",
       "      <td>media</td>\n",
       "      <td>F</td>\n",
       "      <td>46</td>\n",
       "      <td>2484</td>\n",
       "      <td>1</td>\n",
       "    </tr>\n",
       "  </tbody>\n",
       "</table>\n",
       "</div>"
      ],
      "text/plain": [
       "   ID corredor_armazem modo_envio  numero_chamadas_cliente  avaliacao_cliente  \\\n",
       "0   1                D      Aviao                        4                  2   \n",
       "1   2                F      Aviao                        4                  5   \n",
       "2   3                A      Aviao                        2                  2   \n",
       "3   4                B      Aviao                        3                  3   \n",
       "4   5                C      Aviao                        2                  2   \n",
       "\n",
       "   custo_produto  compras_anteriores prioridade_produto genero  desconto  \\\n",
       "0            177                   3              baixa      F        44   \n",
       "1            216                   2              baixa      M        59   \n",
       "2            183                   4              baixa      M        48   \n",
       "3            176                   4              media      M        10   \n",
       "4            184                   3              media      F        46   \n",
       "\n",
       "   peso_gramas  entregue_no_prazo  \n",
       "0         1233                  1  \n",
       "1         3088                  1  \n",
       "2         3374                  1  \n",
       "3         1177                  1  \n",
       "4         2484                  1  "
      ]
     },
     "execution_count": 7,
     "metadata": {},
     "output_type": "execute_result"
    }
   ],
   "source": [
    "df.head()"
   ]
  },
  {
   "cell_type": "code",
   "execution_count": 8,
   "id": "IyX0ACtfav2M",
   "metadata": {
    "colab": {
     "base_uri": "https://localhost:8080/"
    },
    "executionInfo": {
     "elapsed": 354,
     "status": "ok",
     "timestamp": 1649600907074,
     "user": {
      "displayName": "Muhammad Hamzah",
      "userId": "06012328832276120437"
     },
     "user_tz": -420
    },
    "id": "IyX0ACtfav2M",
    "outputId": "8cfd91bb-c186-4290-e273-fc191aee1394"
   },
   "outputs": [
    {
     "name": "stdout",
     "output_type": "stream",
     "text": [
      "<class 'pandas.core.frame.DataFrame'>\n",
      "RangeIndex: 11000 entries, 0 to 10999\n",
      "Data columns (total 12 columns):\n",
      " #   Column                   Non-Null Count  Dtype \n",
      "---  ------                   --------------  ----- \n",
      " 0   ID                       11000 non-null  int64 \n",
      " 1   corredor_armazem         11000 non-null  object\n",
      " 2   modo_envio               11000 non-null  object\n",
      " 3   numero_chamadas_cliente  11000 non-null  int64 \n",
      " 4   avaliacao_cliente        11000 non-null  int64 \n",
      " 5   custo_produto            11000 non-null  int64 \n",
      " 6   compras_anteriores       11000 non-null  int64 \n",
      " 7   prioridade_produto       11000 non-null  object\n",
      " 8   genero                   11000 non-null  object\n",
      " 9   desconto                 11000 non-null  int64 \n",
      " 10  peso_gramas              11000 non-null  int64 \n",
      " 11  entregue_no_prazo        11000 non-null  int64 \n",
      "dtypes: int64(8), object(4)\n",
      "memory usage: 1.0+ MB\n"
     ]
    }
   ],
   "source": [
    "df.info()"
   ]
  },
  {
   "cell_type": "code",
   "execution_count": 9,
   "id": "51d62145",
   "metadata": {},
   "outputs": [
    {
     "data": {
      "text/plain": [
       "Index(['ID', 'corredor_armazem', 'modo_envio', 'numero_chamadas_cliente',\n",
       "       'avaliacao_cliente', 'custo_produto', 'compras_anteriores',\n",
       "       'prioridade_produto', 'genero', 'desconto', 'peso_gramas',\n",
       "       'entregue_no_prazo'],\n",
       "      dtype='object')"
      ]
     },
     "execution_count": 9,
     "metadata": {},
     "output_type": "execute_result"
    }
   ],
   "source": [
    "df.columns"
   ]
  },
  {
   "cell_type": "code",
   "execution_count": 10,
   "id": "yhPRgkRoa48c",
   "metadata": {
    "id": "yhPRgkRoa48c"
   },
   "outputs": [],
   "source": [
    "# Variáveis numéricas\n",
    "nums = ['numero_chamadas_cliente', \n",
    "        'avaliacao_cliente', \n",
    "        'compras_anteriores', \n",
    "        'desconto', \n",
    "        'custo_produto', \n",
    "        'peso_gramas']"
   ]
  },
  {
   "cell_type": "code",
   "execution_count": 11,
   "id": "7b592703",
   "metadata": {},
   "outputs": [],
   "source": [
    "# Variáveis categóricas\n",
    "cats = ['modo_envio', \n",
    "        'prioridade_produto', \n",
    "        'genero',\n",
    "        'corredor_armazem']"
   ]
  },
  {
   "cell_type": "code",
   "execution_count": 12,
   "id": "8e091a44",
   "metadata": {},
   "outputs": [],
   "source": [
    "# Variável target\n",
    "target = ['entregue_no_prazo'] "
   ]
  },
  {
   "cell_type": "code",
   "execution_count": 13,
   "id": "p02KGYfsa_X8",
   "metadata": {
    "colab": {
     "base_uri": "https://localhost:8080/",
     "height": 300
    },
    "executionInfo": {
     "elapsed": 359,
     "status": "ok",
     "timestamp": 1649600947048,
     "user": {
      "displayName": "Muhammad Hamzah",
      "userId": "06012328832276120437"
     },
     "user_tz": -420
    },
    "id": "p02KGYfsa_X8",
    "outputId": "bdbaf862-8223-4663-a2a5-ecee41d34afa"
   },
   "outputs": [
    {
     "data": {
      "text/html": [
       "<div>\n",
       "<style scoped>\n",
       "    .dataframe tbody tr th:only-of-type {\n",
       "        vertical-align: middle;\n",
       "    }\n",
       "\n",
       "    .dataframe tbody tr th {\n",
       "        vertical-align: top;\n",
       "    }\n",
       "\n",
       "    .dataframe thead th {\n",
       "        text-align: right;\n",
       "    }\n",
       "</style>\n",
       "<table border=\"1\" class=\"dataframe\">\n",
       "  <thead>\n",
       "    <tr style=\"text-align: right;\">\n",
       "      <th></th>\n",
       "      <th>numero_chamadas_cliente</th>\n",
       "      <th>avaliacao_cliente</th>\n",
       "      <th>compras_anteriores</th>\n",
       "      <th>desconto</th>\n",
       "      <th>custo_produto</th>\n",
       "      <th>peso_gramas</th>\n",
       "    </tr>\n",
       "  </thead>\n",
       "  <tbody>\n",
       "    <tr>\n",
       "      <th>count</th>\n",
       "      <td>11000.000000</td>\n",
       "      <td>11000.000000</td>\n",
       "      <td>11000.000000</td>\n",
       "      <td>11000.000000</td>\n",
       "      <td>11000.000000</td>\n",
       "      <td>11000.000000</td>\n",
       "    </tr>\n",
       "    <tr>\n",
       "      <th>mean</th>\n",
       "      <td>4.054455</td>\n",
       "      <td>2.990455</td>\n",
       "      <td>3.567727</td>\n",
       "      <td>13.372545</td>\n",
       "      <td>210.200909</td>\n",
       "      <td>3633.844455</td>\n",
       "    </tr>\n",
       "    <tr>\n",
       "      <th>std</th>\n",
       "      <td>1.141438</td>\n",
       "      <td>1.413570</td>\n",
       "      <td>1.522852</td>\n",
       "      <td>16.204943</td>\n",
       "      <td>48.062985</td>\n",
       "      <td>1635.402722</td>\n",
       "    </tr>\n",
       "    <tr>\n",
       "      <th>min</th>\n",
       "      <td>2.000000</td>\n",
       "      <td>1.000000</td>\n",
       "      <td>2.000000</td>\n",
       "      <td>1.000000</td>\n",
       "      <td>96.000000</td>\n",
       "      <td>1001.000000</td>\n",
       "    </tr>\n",
       "    <tr>\n",
       "      <th>25%</th>\n",
       "      <td>3.000000</td>\n",
       "      <td>2.000000</td>\n",
       "      <td>3.000000</td>\n",
       "      <td>4.000000</td>\n",
       "      <td>169.000000</td>\n",
       "      <td>1839.000000</td>\n",
       "    </tr>\n",
       "    <tr>\n",
       "      <th>50%</th>\n",
       "      <td>4.000000</td>\n",
       "      <td>3.000000</td>\n",
       "      <td>3.000000</td>\n",
       "      <td>7.000000</td>\n",
       "      <td>214.000000</td>\n",
       "      <td>4149.000000</td>\n",
       "    </tr>\n",
       "    <tr>\n",
       "      <th>75%</th>\n",
       "      <td>5.000000</td>\n",
       "      <td>4.000000</td>\n",
       "      <td>4.000000</td>\n",
       "      <td>10.000000</td>\n",
       "      <td>251.000000</td>\n",
       "      <td>5050.000000</td>\n",
       "    </tr>\n",
       "    <tr>\n",
       "      <th>max</th>\n",
       "      <td>7.000000</td>\n",
       "      <td>5.000000</td>\n",
       "      <td>10.000000</td>\n",
       "      <td>65.000000</td>\n",
       "      <td>310.000000</td>\n",
       "      <td>7846.000000</td>\n",
       "    </tr>\n",
       "  </tbody>\n",
       "</table>\n",
       "</div>"
      ],
      "text/plain": [
       "       numero_chamadas_cliente  avaliacao_cliente  compras_anteriores  \\\n",
       "count             11000.000000       11000.000000        11000.000000   \n",
       "mean                  4.054455           2.990455            3.567727   \n",
       "std                   1.141438           1.413570            1.522852   \n",
       "min                   2.000000           1.000000            2.000000   \n",
       "25%                   3.000000           2.000000            3.000000   \n",
       "50%                   4.000000           3.000000            3.000000   \n",
       "75%                   5.000000           4.000000            4.000000   \n",
       "max                   7.000000           5.000000           10.000000   \n",
       "\n",
       "           desconto  custo_produto   peso_gramas  \n",
       "count  11000.000000   11000.000000  11000.000000  \n",
       "mean      13.372545     210.200909   3633.844455  \n",
       "std       16.204943      48.062985   1635.402722  \n",
       "min        1.000000      96.000000   1001.000000  \n",
       "25%        4.000000     169.000000   1839.000000  \n",
       "50%        7.000000     214.000000   4149.000000  \n",
       "75%       10.000000     251.000000   5050.000000  \n",
       "max       65.000000     310.000000   7846.000000  "
      ]
     },
     "execution_count": 13,
     "metadata": {},
     "output_type": "execute_result"
    }
   ],
   "source": [
    "df[nums].describe()"
   ]
  },
  {
   "cell_type": "code",
   "execution_count": 14,
   "id": "AiTAj4CvbTLN",
   "metadata": {
    "colab": {
     "base_uri": "https://localhost:8080/",
     "height": 175
    },
    "executionInfo": {
     "elapsed": 344,
     "status": "ok",
     "timestamp": 1649601019859,
     "user": {
      "displayName": "Muhammad Hamzah",
      "userId": "06012328832276120437"
     },
     "user_tz": -420
    },
    "id": "AiTAj4CvbTLN",
    "outputId": "edd61641-0ef3-49a1-9588-ac3b881f9afe"
   },
   "outputs": [
    {
     "data": {
      "text/html": [
       "<div>\n",
       "<style scoped>\n",
       "    .dataframe tbody tr th:only-of-type {\n",
       "        vertical-align: middle;\n",
       "    }\n",
       "\n",
       "    .dataframe tbody tr th {\n",
       "        vertical-align: top;\n",
       "    }\n",
       "\n",
       "    .dataframe thead th {\n",
       "        text-align: right;\n",
       "    }\n",
       "</style>\n",
       "<table border=\"1\" class=\"dataframe\">\n",
       "  <thead>\n",
       "    <tr style=\"text-align: right;\">\n",
       "      <th></th>\n",
       "      <th>modo_envio</th>\n",
       "      <th>prioridade_produto</th>\n",
       "      <th>genero</th>\n",
       "      <th>corredor_armazem</th>\n",
       "    </tr>\n",
       "  </thead>\n",
       "  <tbody>\n",
       "    <tr>\n",
       "      <th>count</th>\n",
       "      <td>11000</td>\n",
       "      <td>11000</td>\n",
       "      <td>11000</td>\n",
       "      <td>11000</td>\n",
       "    </tr>\n",
       "    <tr>\n",
       "      <th>unique</th>\n",
       "      <td>3</td>\n",
       "      <td>3</td>\n",
       "      <td>2</td>\n",
       "      <td>5</td>\n",
       "    </tr>\n",
       "    <tr>\n",
       "      <th>top</th>\n",
       "      <td>Navio</td>\n",
       "      <td>baixa</td>\n",
       "      <td>F</td>\n",
       "      <td>F</td>\n",
       "    </tr>\n",
       "    <tr>\n",
       "      <th>freq</th>\n",
       "      <td>7463</td>\n",
       "      <td>5298</td>\n",
       "      <td>5546</td>\n",
       "      <td>3666</td>\n",
       "    </tr>\n",
       "  </tbody>\n",
       "</table>\n",
       "</div>"
      ],
      "text/plain": [
       "       modo_envio prioridade_produto genero corredor_armazem\n",
       "count       11000              11000  11000            11000\n",
       "unique          3                  3      2                5\n",
       "top         Navio              baixa      F                F\n",
       "freq         7463               5298   5546             3666"
      ]
     },
     "execution_count": 14,
     "metadata": {},
     "output_type": "execute_result"
    }
   ],
   "source": [
    "df[cats].describe()"
   ]
  },
  {
   "cell_type": "code",
   "execution_count": 15,
   "id": "6de7d5fc",
   "metadata": {},
   "outputs": [
    {
     "data": {
      "text/plain": [
       "entregue_no_prazo\n",
       "1                    6563\n",
       "0                    4437\n",
       "dtype: int64"
      ]
     },
     "execution_count": 15,
     "metadata": {},
     "output_type": "execute_result"
    }
   ],
   "source": [
    "df[target].value_counts()"
   ]
  },
  {
   "cell_type": "markdown",
   "id": "50f87511-3781-4138-8f04-0d7bdaef817e",
   "metadata": {
    "id": "50f87511-3781-4138-8f04-0d7bdaef817e"
   },
   "source": [
    "## Limpeza de Dados"
   ]
  },
  {
   "cell_type": "markdown",
   "id": "d5ed63e6-3812-4887-88a7-4af466fcc580",
   "metadata": {
    "id": "d5ed63e6-3812-4887-88a7-4af466fcc580"
   },
   "source": [
    "### Tratamento de Valores Ausentes\n",
    "\n",
    "**ATENÇÃO**: Valor ausente significa ausência de informação e não ausência de dado!\n",
    "\n",
    "O tratamento pode ser feito antes, durante ou depois da Análise Exploratória, mas idealmente deve ser feito antes da Engenharia de Atributos. Mas fique atento: a Engenharia de Atributos e o Pré-Processamento podem gerar valores ausentes, o que precisa ser tratado."
   ]
  },
  {
   "cell_type": "code",
   "execution_count": 16,
   "id": "23e03b6b",
   "metadata": {},
   "outputs": [
    {
     "data": {
      "text/html": [
       "<div>\n",
       "<style scoped>\n",
       "    .dataframe tbody tr th:only-of-type {\n",
       "        vertical-align: middle;\n",
       "    }\n",
       "\n",
       "    .dataframe tbody tr th {\n",
       "        vertical-align: top;\n",
       "    }\n",
       "\n",
       "    .dataframe thead th {\n",
       "        text-align: right;\n",
       "    }\n",
       "</style>\n",
       "<table border=\"1\" class=\"dataframe\">\n",
       "  <thead>\n",
       "    <tr style=\"text-align: right;\">\n",
       "      <th></th>\n",
       "      <th>ID</th>\n",
       "      <th>corredor_armazem</th>\n",
       "      <th>modo_envio</th>\n",
       "      <th>numero_chamadas_cliente</th>\n",
       "      <th>avaliacao_cliente</th>\n",
       "      <th>custo_produto</th>\n",
       "      <th>compras_anteriores</th>\n",
       "      <th>prioridade_produto</th>\n",
       "      <th>genero</th>\n",
       "      <th>desconto</th>\n",
       "      <th>peso_gramas</th>\n",
       "      <th>entregue_no_prazo</th>\n",
       "    </tr>\n",
       "  </thead>\n",
       "  <tbody>\n",
       "    <tr>\n",
       "      <th>0</th>\n",
       "      <td>1</td>\n",
       "      <td>D</td>\n",
       "      <td>Aviao</td>\n",
       "      <td>4</td>\n",
       "      <td>2</td>\n",
       "      <td>177</td>\n",
       "      <td>3</td>\n",
       "      <td>baixa</td>\n",
       "      <td>F</td>\n",
       "      <td>44</td>\n",
       "      <td>1233</td>\n",
       "      <td>1</td>\n",
       "    </tr>\n",
       "    <tr>\n",
       "      <th>1</th>\n",
       "      <td>2</td>\n",
       "      <td>F</td>\n",
       "      <td>Aviao</td>\n",
       "      <td>4</td>\n",
       "      <td>5</td>\n",
       "      <td>216</td>\n",
       "      <td>2</td>\n",
       "      <td>baixa</td>\n",
       "      <td>M</td>\n",
       "      <td>59</td>\n",
       "      <td>3088</td>\n",
       "      <td>1</td>\n",
       "    </tr>\n",
       "    <tr>\n",
       "      <th>2</th>\n",
       "      <td>3</td>\n",
       "      <td>A</td>\n",
       "      <td>Aviao</td>\n",
       "      <td>2</td>\n",
       "      <td>2</td>\n",
       "      <td>183</td>\n",
       "      <td>4</td>\n",
       "      <td>baixa</td>\n",
       "      <td>M</td>\n",
       "      <td>48</td>\n",
       "      <td>3374</td>\n",
       "      <td>1</td>\n",
       "    </tr>\n",
       "  </tbody>\n",
       "</table>\n",
       "</div>"
      ],
      "text/plain": [
       "   ID corredor_armazem modo_envio  numero_chamadas_cliente  avaliacao_cliente  \\\n",
       "0   1                D      Aviao                        4                  2   \n",
       "1   2                F      Aviao                        4                  5   \n",
       "2   3                A      Aviao                        2                  2   \n",
       "\n",
       "   custo_produto  compras_anteriores prioridade_produto genero  desconto  \\\n",
       "0            177                   3              baixa      F        44   \n",
       "1            216                   2              baixa      M        59   \n",
       "2            183                   4              baixa      M        48   \n",
       "\n",
       "   peso_gramas  entregue_no_prazo  \n",
       "0         1233                  1  \n",
       "1         3088                  1  \n",
       "2         3374                  1  "
      ]
     },
     "execution_count": 16,
     "metadata": {},
     "output_type": "execute_result"
    }
   ],
   "source": [
    "df.head(3)"
   ]
  },
  {
   "cell_type": "code",
   "execution_count": 17,
   "id": "ce59c078-5223-48ec-a354-f150c1eadb25",
   "metadata": {
    "colab": {
     "base_uri": "https://localhost:8080/"
    },
    "executionInfo": {
     "elapsed": 358,
     "status": "ok",
     "timestamp": 1649601122441,
     "user": {
      "displayName": "Muhammad Hamzah",
      "userId": "06012328832276120437"
     },
     "user_tz": -420
    },
    "id": "ce59c078-5223-48ec-a354-f150c1eadb25",
    "outputId": "57db3686-acb6-44fd-bd5a-d7d25ccf1f22"
   },
   "outputs": [
    {
     "data": {
      "text/plain": [
       "ID                         0\n",
       "corredor_armazem           0\n",
       "modo_envio                 0\n",
       "numero_chamadas_cliente    0\n",
       "avaliacao_cliente          0\n",
       "custo_produto              0\n",
       "compras_anteriores         0\n",
       "prioridade_produto         0\n",
       "genero                     0\n",
       "desconto                   0\n",
       "peso_gramas                0\n",
       "entregue_no_prazo          0\n",
       "dtype: int64"
      ]
     },
     "execution_count": 17,
     "metadata": {},
     "output_type": "execute_result"
    }
   ],
   "source": [
    "# Verifica se há valores ausentes\n",
    "df.isna().sum()"
   ]
  },
  {
   "cell_type": "markdown",
   "id": "866d65e4-acc7-488b-b72d-478796a02252",
   "metadata": {
    "id": "866d65e4-acc7-488b-b72d-478796a02252",
    "tags": []
   },
   "source": [
    "### Tratamento de Valores Duplicados\n",
    "\n",
    "Valores duplicados significam duplicidade dos dados em toda a linha (todo o registro).\n",
    "\n",
    "O tratamento pode ser feito antes, durante ou depois da Análise Exploratória, mas idealmente deve ser feito antes da Engenharia de Atributos."
   ]
  },
  {
   "cell_type": "code",
   "execution_count": 18,
   "id": "5017d977",
   "metadata": {},
   "outputs": [
    {
     "data": {
      "text/html": [
       "<div>\n",
       "<style scoped>\n",
       "    .dataframe tbody tr th:only-of-type {\n",
       "        vertical-align: middle;\n",
       "    }\n",
       "\n",
       "    .dataframe tbody tr th {\n",
       "        vertical-align: top;\n",
       "    }\n",
       "\n",
       "    .dataframe thead th {\n",
       "        text-align: right;\n",
       "    }\n",
       "</style>\n",
       "<table border=\"1\" class=\"dataframe\">\n",
       "  <thead>\n",
       "    <tr style=\"text-align: right;\">\n",
       "      <th></th>\n",
       "      <th>ID</th>\n",
       "      <th>corredor_armazem</th>\n",
       "      <th>modo_envio</th>\n",
       "      <th>numero_chamadas_cliente</th>\n",
       "      <th>avaliacao_cliente</th>\n",
       "      <th>custo_produto</th>\n",
       "      <th>compras_anteriores</th>\n",
       "      <th>prioridade_produto</th>\n",
       "      <th>genero</th>\n",
       "      <th>desconto</th>\n",
       "      <th>peso_gramas</th>\n",
       "      <th>entregue_no_prazo</th>\n",
       "    </tr>\n",
       "  </thead>\n",
       "  <tbody>\n",
       "    <tr>\n",
       "      <th>0</th>\n",
       "      <td>1</td>\n",
       "      <td>D</td>\n",
       "      <td>Aviao</td>\n",
       "      <td>4</td>\n",
       "      <td>2</td>\n",
       "      <td>177</td>\n",
       "      <td>3</td>\n",
       "      <td>baixa</td>\n",
       "      <td>F</td>\n",
       "      <td>44</td>\n",
       "      <td>1233</td>\n",
       "      <td>1</td>\n",
       "    </tr>\n",
       "    <tr>\n",
       "      <th>1</th>\n",
       "      <td>2</td>\n",
       "      <td>F</td>\n",
       "      <td>Aviao</td>\n",
       "      <td>4</td>\n",
       "      <td>5</td>\n",
       "      <td>216</td>\n",
       "      <td>2</td>\n",
       "      <td>baixa</td>\n",
       "      <td>M</td>\n",
       "      <td>59</td>\n",
       "      <td>3088</td>\n",
       "      <td>1</td>\n",
       "    </tr>\n",
       "    <tr>\n",
       "      <th>2</th>\n",
       "      <td>3</td>\n",
       "      <td>A</td>\n",
       "      <td>Aviao</td>\n",
       "      <td>2</td>\n",
       "      <td>2</td>\n",
       "      <td>183</td>\n",
       "      <td>4</td>\n",
       "      <td>baixa</td>\n",
       "      <td>M</td>\n",
       "      <td>48</td>\n",
       "      <td>3374</td>\n",
       "      <td>1</td>\n",
       "    </tr>\n",
       "  </tbody>\n",
       "</table>\n",
       "</div>"
      ],
      "text/plain": [
       "   ID corredor_armazem modo_envio  numero_chamadas_cliente  avaliacao_cliente  \\\n",
       "0   1                D      Aviao                        4                  2   \n",
       "1   2                F      Aviao                        4                  5   \n",
       "2   3                A      Aviao                        2                  2   \n",
       "\n",
       "   custo_produto  compras_anteriores prioridade_produto genero  desconto  \\\n",
       "0            177                   3              baixa      F        44   \n",
       "1            216                   2              baixa      M        59   \n",
       "2            183                   4              baixa      M        48   \n",
       "\n",
       "   peso_gramas  entregue_no_prazo  \n",
       "0         1233                  1  \n",
       "1         3088                  1  \n",
       "2         3374                  1  "
      ]
     },
     "execution_count": 18,
     "metadata": {},
     "output_type": "execute_result"
    }
   ],
   "source": [
    "df.head(3)"
   ]
  },
  {
   "cell_type": "code",
   "execution_count": 19,
   "id": "2a592cca-7137-45ef-a701-d247650f1f14",
   "metadata": {
    "colab": {
     "base_uri": "https://localhost:8080/"
    },
    "executionInfo": {
     "elapsed": 361,
     "status": "ok",
     "timestamp": 1649601167857,
     "user": {
      "displayName": "Muhammad Hamzah",
      "userId": "06012328832276120437"
     },
     "user_tz": -420
    },
    "id": "2a592cca-7137-45ef-a701-d247650f1f14",
    "outputId": "77f10718-dbc0-4b06-94a7-c4f0602b2d74"
   },
   "outputs": [
    {
     "data": {
      "text/plain": [
       "0"
      ]
     },
     "execution_count": 19,
     "metadata": {},
     "output_type": "execute_result"
    }
   ],
   "source": [
    "# Verifica se há valores duplicados\n",
    "df.duplicated().sum()"
   ]
  },
  {
   "cell_type": "markdown",
   "id": "dd8b23e3-f25e-45c2-bdcb-25b57c038f83",
   "metadata": {
    "id": "dd8b23e3-f25e-45c2-bdcb-25b57c038f83"
   },
   "source": [
    "### Tratamento de Valores Outliers\n",
    "\n",
    "Leia o manual em pdf com a definição do que é o z-score e a definição de valor outlier.\n",
    "\n",
    "O tratamento pode ser feito antes, durante ou depois da Análise Exploratória, mas idealmente deve ser feito antes da Engenharia de Atributos. "
   ]
  },
  {
   "cell_type": "code",
   "execution_count": 20,
   "id": "019a8b2e",
   "metadata": {},
   "outputs": [
    {
     "name": "stdout",
     "output_type": "stream",
     "text": [
      "Número de linhas antes de filtrar valores extremos (outliers): 11000\n"
     ]
    }
   ],
   "source": [
    "print(f'Número de linhas antes de filtrar valores extremos (outliers): {len(df)}')"
   ]
  },
  {
   "cell_type": "code",
   "execution_count": 21,
   "id": "93f9981e",
   "metadata": {},
   "outputs": [
    {
     "data": {
      "text/html": [
       "<div>\n",
       "<style scoped>\n",
       "    .dataframe tbody tr th:only-of-type {\n",
       "        vertical-align: middle;\n",
       "    }\n",
       "\n",
       "    .dataframe tbody tr th {\n",
       "        vertical-align: top;\n",
       "    }\n",
       "\n",
       "    .dataframe thead th {\n",
       "        text-align: right;\n",
       "    }\n",
       "</style>\n",
       "<table border=\"1\" class=\"dataframe\">\n",
       "  <thead>\n",
       "    <tr style=\"text-align: right;\">\n",
       "      <th></th>\n",
       "      <th>numero_chamadas_cliente</th>\n",
       "      <th>avaliacao_cliente</th>\n",
       "      <th>compras_anteriores</th>\n",
       "      <th>desconto</th>\n",
       "      <th>custo_produto</th>\n",
       "      <th>peso_gramas</th>\n",
       "    </tr>\n",
       "  </thead>\n",
       "  <tbody>\n",
       "    <tr>\n",
       "      <th>0</th>\n",
       "      <td>4</td>\n",
       "      <td>2</td>\n",
       "      <td>3</td>\n",
       "      <td>44</td>\n",
       "      <td>177</td>\n",
       "      <td>1233</td>\n",
       "    </tr>\n",
       "    <tr>\n",
       "      <th>1</th>\n",
       "      <td>4</td>\n",
       "      <td>5</td>\n",
       "      <td>2</td>\n",
       "      <td>59</td>\n",
       "      <td>216</td>\n",
       "      <td>3088</td>\n",
       "    </tr>\n",
       "    <tr>\n",
       "      <th>2</th>\n",
       "      <td>2</td>\n",
       "      <td>2</td>\n",
       "      <td>4</td>\n",
       "      <td>48</td>\n",
       "      <td>183</td>\n",
       "      <td>3374</td>\n",
       "    </tr>\n",
       "    <tr>\n",
       "      <th>3</th>\n",
       "      <td>3</td>\n",
       "      <td>3</td>\n",
       "      <td>4</td>\n",
       "      <td>10</td>\n",
       "      <td>176</td>\n",
       "      <td>1177</td>\n",
       "    </tr>\n",
       "    <tr>\n",
       "      <th>4</th>\n",
       "      <td>2</td>\n",
       "      <td>2</td>\n",
       "      <td>3</td>\n",
       "      <td>46</td>\n",
       "      <td>184</td>\n",
       "      <td>2484</td>\n",
       "    </tr>\n",
       "  </tbody>\n",
       "</table>\n",
       "</div>"
      ],
      "text/plain": [
       "   numero_chamadas_cliente  avaliacao_cliente  compras_anteriores  desconto  \\\n",
       "0                        4                  2                   3        44   \n",
       "1                        4                  5                   2        59   \n",
       "2                        2                  2                   4        48   \n",
       "3                        3                  3                   4        10   \n",
       "4                        2                  2                   3        46   \n",
       "\n",
       "   custo_produto  peso_gramas  \n",
       "0            177         1233  \n",
       "1            216         3088  \n",
       "2            183         3374  \n",
       "3            176         1177  \n",
       "4            184         2484  "
      ]
     },
     "execution_count": 21,
     "metadata": {},
     "output_type": "execute_result"
    }
   ],
   "source": [
    "df[nums].head()"
   ]
  },
  {
   "cell_type": "code",
   "execution_count": 22,
   "id": "0f1d890d",
   "metadata": {},
   "outputs": [
    {
     "data": {
      "text/plain": [
       "13.372545454545454"
      ]
     },
     "execution_count": 22,
     "metadata": {},
     "output_type": "execute_result"
    }
   ],
   "source": [
    "df.desconto.mean()"
   ]
  },
  {
   "cell_type": "code",
   "execution_count": 23,
   "id": "c0294a08",
   "metadata": {},
   "outputs": [
    {
     "data": {
      "text/plain": [
       "16.20494287359407"
      ]
     },
     "execution_count": 23,
     "metadata": {},
     "output_type": "execute_result"
    }
   ],
   "source": [
    "df.desconto.std()"
   ]
  },
  {
   "cell_type": "code",
   "execution_count": 24,
   "id": "5e72ab50",
   "metadata": {},
   "outputs": [
    {
     "data": {
      "text/plain": [
       "<AxesSubplot:>"
      ]
     },
     "execution_count": 24,
     "metadata": {},
     "output_type": "execute_result"
    },
    {
     "data": {
      "image/png": "[encoded data removed]",
      "text/plain": [
       "<Figure size 432x288 with 1 Axes>"
      ]
     },
     "metadata": {
      "needs_background": "light"
     },
     "output_type": "display_data"
    }
   ],
   "source": [
    "df.desconto.hist()"
   ]
  },
  {
   "cell_type": "code",
   "execution_count": 25,
   "id": "4704463a",
   "metadata": {},
   "outputs": [
    {
     "name": "stdout",
     "output_type": "stream",
     "text": [
      "Valor superior: 61.987374075327665\n",
      "Valor inferior: -35.24228316623676\n"
     ]
    }
   ],
   "source": [
    "# Calcula os limites superior e inferior\n",
    "# Um valor outlier é aquele que está abaixo do limite inferior ou acima do limite superior\n",
    "limite_superior = df.desconto.mean() + 3 * df.desconto.std()\n",
    "print(\"Valor superior:\", limite_superior)\n",
    "limite_inferior = df.desconto.mean() - 3 * df.desconto.std()\n",
    "print(\"Valor inferior:\", limite_inferior)"
   ]
  },
  {
   "cell_type": "code",
   "execution_count": 26,
   "id": "d3926c70",
   "metadata": {},
   "outputs": [
    {
     "data": {
      "text/html": [
       "<div>\n",
       "<style scoped>\n",
       "    .dataframe tbody tr th:only-of-type {\n",
       "        vertical-align: middle;\n",
       "    }\n",
       "\n",
       "    .dataframe tbody tr th {\n",
       "        vertical-align: top;\n",
       "    }\n",
       "\n",
       "    .dataframe thead th {\n",
       "        text-align: right;\n",
       "    }\n",
       "</style>\n",
       "<table border=\"1\" class=\"dataframe\">\n",
       "  <thead>\n",
       "    <tr style=\"text-align: right;\">\n",
       "      <th></th>\n",
       "      <th>ID</th>\n",
       "      <th>corredor_armazem</th>\n",
       "      <th>modo_envio</th>\n",
       "      <th>numero_chamadas_cliente</th>\n",
       "      <th>avaliacao_cliente</th>\n",
       "      <th>custo_produto</th>\n",
       "      <th>compras_anteriores</th>\n",
       "      <th>prioridade_produto</th>\n",
       "      <th>genero</th>\n",
       "      <th>desconto</th>\n",
       "      <th>peso_gramas</th>\n",
       "      <th>entregue_no_prazo</th>\n",
       "    </tr>\n",
       "  </thead>\n",
       "  <tbody>\n",
       "    <tr>\n",
       "      <th>36</th>\n",
       "      <td>37</td>\n",
       "      <td>D</td>\n",
       "      <td>Navio</td>\n",
       "      <td>3</td>\n",
       "      <td>5</td>\n",
       "      <td>137</td>\n",
       "      <td>4</td>\n",
       "      <td>alta</td>\n",
       "      <td>F</td>\n",
       "      <td>62</td>\n",
       "      <td>1477</td>\n",
       "      <td>1</td>\n",
       "    </tr>\n",
       "    <tr>\n",
       "      <th>60</th>\n",
       "      <td>61</td>\n",
       "      <td>D</td>\n",
       "      <td>Navio</td>\n",
       "      <td>3</td>\n",
       "      <td>1</td>\n",
       "      <td>221</td>\n",
       "      <td>3</td>\n",
       "      <td>baixa</td>\n",
       "      <td>F</td>\n",
       "      <td>64</td>\n",
       "      <td>2794</td>\n",
       "      <td>1</td>\n",
       "    </tr>\n",
       "    <tr>\n",
       "      <th>62</th>\n",
       "      <td>63</td>\n",
       "      <td>A</td>\n",
       "      <td>Navio</td>\n",
       "      <td>5</td>\n",
       "      <td>1</td>\n",
       "      <td>105</td>\n",
       "      <td>6</td>\n",
       "      <td>media</td>\n",
       "      <td>M</td>\n",
       "      <td>62</td>\n",
       "      <td>1292</td>\n",
       "      <td>1</td>\n",
       "    </tr>\n",
       "    <tr>\n",
       "      <th>111</th>\n",
       "      <td>112</td>\n",
       "      <td>B</td>\n",
       "      <td>Caminhao</td>\n",
       "      <td>4</td>\n",
       "      <td>2</td>\n",
       "      <td>239</td>\n",
       "      <td>3</td>\n",
       "      <td>baixa</td>\n",
       "      <td>F</td>\n",
       "      <td>65</td>\n",
       "      <td>3679</td>\n",
       "      <td>1</td>\n",
       "    </tr>\n",
       "    <tr>\n",
       "      <th>122</th>\n",
       "      <td>123</td>\n",
       "      <td>A</td>\n",
       "      <td>Caminhao</td>\n",
       "      <td>4</td>\n",
       "      <td>2</td>\n",
       "      <td>160</td>\n",
       "      <td>3</td>\n",
       "      <td>baixa</td>\n",
       "      <td>M</td>\n",
       "      <td>64</td>\n",
       "      <td>1714</td>\n",
       "      <td>1</td>\n",
       "    </tr>\n",
       "  </tbody>\n",
       "</table>\n",
       "</div>"
      ],
      "text/plain": [
       "      ID corredor_armazem modo_envio  numero_chamadas_cliente  \\\n",
       "36    37                D      Navio                        3   \n",
       "60    61                D      Navio                        3   \n",
       "62    63                A      Navio                        5   \n",
       "111  112                B   Caminhao                        4   \n",
       "122  123                A   Caminhao                        4   \n",
       "\n",
       "     avaliacao_cliente  custo_produto  compras_anteriores prioridade_produto  \\\n",
       "36                   5            137                   4               alta   \n",
       "60                   1            221                   3              baixa   \n",
       "62                   1            105                   6              media   \n",
       "111                  2            239                   3              baixa   \n",
       "122                  2            160                   3              baixa   \n",
       "\n",
       "    genero  desconto  peso_gramas  entregue_no_prazo  \n",
       "36       F        62         1477                  1  \n",
       "60       F        64         2794                  1  \n",
       "62       M        62         1292                  1  \n",
       "111      F        65         3679                  1  \n",
       "122      M        64         1714                  1  "
      ]
     },
     "execution_count": 26,
     "metadata": {},
     "output_type": "execute_result"
    }
   ],
   "source": [
    "# Extra os registros com outliers na coluna desconto\n",
    "df_outliers_desconto = df[(df.desconto <= limite_inferior) | (df.desconto >= limite_superior)]\n",
    "df_outliers_desconto.head()"
   ]
  },
  {
   "cell_type": "code",
   "execution_count": 27,
   "id": "819ddf51",
   "metadata": {},
   "outputs": [],
   "source": [
    "# Filtra o dataframe removendo os registros com outliers na coluna desconto\n",
    "df = df[(df.desconto > limite_inferior) & (df.desconto < limite_superior)]"
   ]
  },
  {
   "cell_type": "code",
   "execution_count": 28,
   "id": "a02c1fe5",
   "metadata": {},
   "outputs": [
    {
     "name": "stdout",
     "output_type": "stream",
     "text": [
      "Número de linhas antes de filtrar valores extremos (outliers): 10819\n"
     ]
    }
   ],
   "source": [
    "print(f'Número de linhas antes de filtrar valores extremos (outliers): {len(df)}')"
   ]
  },
  {
   "cell_type": "code",
   "execution_count": 29,
   "id": "f42e24f0",
   "metadata": {},
   "outputs": [],
   "source": [
    "registros = np.array([True] * len(df))"
   ]
  },
  {
   "cell_type": "code",
   "execution_count": 30,
   "id": "3ff63400",
   "metadata": {},
   "outputs": [
    {
     "data": {
      "text/plain": [
       "numpy.ndarray"
      ]
     },
     "execution_count": 30,
     "metadata": {},
     "output_type": "execute_result"
    }
   ],
   "source": [
    "type(registros)"
   ]
  },
  {
   "cell_type": "code",
   "execution_count": 31,
   "id": "cf342424",
   "metadata": {},
   "outputs": [
    {
     "data": {
      "text/plain": [
       "10819"
      ]
     },
     "execution_count": 31,
     "metadata": {},
     "output_type": "execute_result"
    }
   ],
   "source": [
    "np.count_nonzero(registros == True)"
   ]
  },
  {
   "cell_type": "code",
   "execution_count": 32,
   "id": "98278eb8",
   "metadata": {},
   "outputs": [
    {
     "data": {
      "text/plain": [
       "0"
      ]
     },
     "execution_count": 32,
     "metadata": {},
     "output_type": "execute_result"
    }
   ],
   "source": [
    "np.count_nonzero(registros == False)"
   ]
  },
  {
   "cell_type": "code",
   "execution_count": 33,
   "id": "8994172e",
   "metadata": {},
   "outputs": [],
   "source": [
    "# Variáveis numéricas (sem a variável desconto)\n",
    "nums2 = ['numero_chamadas_cliente', \n",
    "         'avaliacao_cliente', \n",
    "         'compras_anteriores', \n",
    "         'custo_produto', \n",
    "         'peso_gramas']"
   ]
  },
  {
   "cell_type": "code",
   "execution_count": 34,
   "id": "13b607c6-a356-4363-9e7b-90ee8afded0b",
   "metadata": {
    "colab": {
     "base_uri": "https://localhost:8080/"
    },
    "executionInfo": {
     "elapsed": 391,
     "status": "ok",
     "timestamp": 1649601507694,
     "user": {
      "displayName": "Muhammad Hamzah",
      "userId": "06012328832276120437"
     },
     "user_tz": -420
    },
    "id": "13b607c6-a356-4363-9e7b-90ee8afded0b",
    "outputId": "beead67b-10ef-4600-bac7-333af80fb4f3"
   },
   "outputs": [],
   "source": [
    "# Loop por cada variável numérica\n",
    "for col in nums2:\n",
    "    \n",
    "    # Calcula o z-score absoluto\n",
    "    zscore = abs(stats.zscore(df[col])) \n",
    "    \n",
    "    # Mantém valores com menos de 3 z-score absoluto\n",
    "    registros = (zscore < 3) & registros"
   ]
  },
  {
   "cell_type": "code",
   "execution_count": 35,
   "id": "03c1d054",
   "metadata": {},
   "outputs": [
    {
     "data": {
      "text/plain": [
       "10643"
      ]
     },
     "execution_count": 35,
     "metadata": {},
     "output_type": "execute_result"
    }
   ],
   "source": [
    "np.count_nonzero(registros == True)"
   ]
  },
  {
   "cell_type": "code",
   "execution_count": 36,
   "id": "84f86d7f",
   "metadata": {},
   "outputs": [
    {
     "data": {
      "text/plain": [
       "176"
      ]
     },
     "execution_count": 36,
     "metadata": {},
     "output_type": "execute_result"
    }
   ],
   "source": [
    "np.count_nonzero(registros == False)"
   ]
  },
  {
   "cell_type": "code",
   "execution_count": 37,
   "id": "65811cb0",
   "metadata": {},
   "outputs": [],
   "source": [
    "# Removemos registros com o z-score abaixo de 3 nas colunas numéricas\n",
    "df = df[registros] "
   ]
  },
  {
   "cell_type": "code",
   "execution_count": 38,
   "id": "7b862a1b",
   "metadata": {},
   "outputs": [
    {
     "name": "stdout",
     "output_type": "stream",
     "text": [
      "Número de linhas após filtrar valores extremos (outliers): 10643\n"
     ]
    }
   ],
   "source": [
    "print(f'Número de linhas após filtrar valores extremos (outliers): {len(df)}')"
   ]
  },
  {
   "cell_type": "markdown",
   "id": "564a0063-8a1e-484e-9185-b85840f6feec",
   "metadata": {
    "id": "564a0063-8a1e-484e-9185-b85840f6feec"
   },
   "source": [
    "### Tratamento de Desbalanceamento de Classe\n",
    "\n",
    "Deve ser feito nos dados de treino, após o pré-processamento dos dados."
   ]
  },
  {
   "cell_type": "code",
   "execution_count": 39,
   "id": "48407098",
   "metadata": {},
   "outputs": [
    {
     "data": {
      "text/plain": [
       "Index(['ID', 'corredor_armazem', 'modo_envio', 'numero_chamadas_cliente',\n",
       "       'avaliacao_cliente', 'custo_produto', 'compras_anteriores',\n",
       "       'prioridade_produto', 'genero', 'desconto', 'peso_gramas',\n",
       "       'entregue_no_prazo'],\n",
       "      dtype='object')"
      ]
     },
     "execution_count": 39,
     "metadata": {},
     "output_type": "execute_result"
    }
   ],
   "source": [
    "df.columns"
   ]
  },
  {
   "cell_type": "code",
   "execution_count": 40,
   "id": "b91b405b-e1b0-42c0-8b9d-d110d5e47d3a",
   "metadata": {
    "colab": {
     "base_uri": "https://localhost:8080/"
    },
    "executionInfo": {
     "elapsed": 9,
     "status": "ok",
     "timestamp": 1649600790202,
     "user": {
      "displayName": "Gesta Putra Gemilang",
      "userId": "17182360166228029414"
     },
     "user_tz": -420
    },
    "id": "b91b405b-e1b0-42c0-8b9d-d110d5e47d3a",
    "outputId": "a44d54ec-f245-4f22-b37a-15e99f88f3fe"
   },
   "outputs": [
    {
     "data": {
      "text/plain": [
       "1    6282\n",
       "0    4361\n",
       "Name: entregue_no_prazo, dtype: int64"
      ]
     },
     "execution_count": 40,
     "metadata": {},
     "output_type": "execute_result"
    }
   ],
   "source": [
    "df['entregue_no_prazo'].value_counts()"
   ]
  },
  {
   "cell_type": "markdown",
   "id": "4de40fb6-9c8e-4704-b328-9c2d0d09d099",
   "metadata": {
    "id": "4de40fb6-9c8e-4704-b328-9c2d0d09d099"
   },
   "source": [
    "## Engenharia de Atributos"
   ]
  },
  {
   "cell_type": "markdown",
   "id": "40d1fc91-742b-411e-a154-6f52a15df395",
   "metadata": {
    "id": "40d1fc91-742b-411e-a154-6f52a15df395"
   },
   "source": [
    "## Feature Selection \n",
    "\n",
    "Aqui tomamos as decisões sobre quais variáveis serão usadas na Engenharia de Atributos."
   ]
  },
  {
   "cell_type": "code",
   "execution_count": 41,
   "id": "5e22db0e",
   "metadata": {},
   "outputs": [
    {
     "data": {
      "text/plain": [
       "Index(['ID', 'corredor_armazem', 'modo_envio', 'numero_chamadas_cliente',\n",
       "       'avaliacao_cliente', 'custo_produto', 'compras_anteriores',\n",
       "       'prioridade_produto', 'genero', 'desconto', 'peso_gramas',\n",
       "       'entregue_no_prazo'],\n",
       "      dtype='object')"
      ]
     },
     "execution_count": 41,
     "metadata": {},
     "output_type": "execute_result"
    }
   ],
   "source": [
    "df.columns"
   ]
  },
  {
   "cell_type": "code",
   "execution_count": 42,
   "id": "a9863b63",
   "metadata": {},
   "outputs": [
    {
     "data": {
      "text/html": [
       "<div>\n",
       "<style scoped>\n",
       "    .dataframe tbody tr th:only-of-type {\n",
       "        vertical-align: middle;\n",
       "    }\n",
       "\n",
       "    .dataframe tbody tr th {\n",
       "        vertical-align: top;\n",
       "    }\n",
       "\n",
       "    .dataframe thead th {\n",
       "        text-align: right;\n",
       "    }\n",
       "</style>\n",
       "<table border=\"1\" class=\"dataframe\">\n",
       "  <thead>\n",
       "    <tr style=\"text-align: right;\">\n",
       "      <th></th>\n",
       "      <th>ID</th>\n",
       "      <th>corredor_armazem</th>\n",
       "      <th>modo_envio</th>\n",
       "      <th>numero_chamadas_cliente</th>\n",
       "      <th>avaliacao_cliente</th>\n",
       "      <th>custo_produto</th>\n",
       "      <th>compras_anteriores</th>\n",
       "      <th>prioridade_produto</th>\n",
       "      <th>genero</th>\n",
       "      <th>desconto</th>\n",
       "      <th>peso_gramas</th>\n",
       "      <th>entregue_no_prazo</th>\n",
       "    </tr>\n",
       "  </thead>\n",
       "  <tbody>\n",
       "    <tr>\n",
       "      <th>9985</th>\n",
       "      <td>9986</td>\n",
       "      <td>F</td>\n",
       "      <td>Caminhao</td>\n",
       "      <td>4</td>\n",
       "      <td>4</td>\n",
       "      <td>233</td>\n",
       "      <td>3</td>\n",
       "      <td>baixa</td>\n",
       "      <td>M</td>\n",
       "      <td>9</td>\n",
       "      <td>4300</td>\n",
       "      <td>1</td>\n",
       "    </tr>\n",
       "    <tr>\n",
       "      <th>5369</th>\n",
       "      <td>5370</td>\n",
       "      <td>F</td>\n",
       "      <td>Navio</td>\n",
       "      <td>4</td>\n",
       "      <td>2</td>\n",
       "      <td>197</td>\n",
       "      <td>3</td>\n",
       "      <td>baixa</td>\n",
       "      <td>F</td>\n",
       "      <td>6</td>\n",
       "      <td>5826</td>\n",
       "      <td>0</td>\n",
       "    </tr>\n",
       "    <tr>\n",
       "      <th>8686</th>\n",
       "      <td>8687</td>\n",
       "      <td>C</td>\n",
       "      <td>Navio</td>\n",
       "      <td>3</td>\n",
       "      <td>2</td>\n",
       "      <td>150</td>\n",
       "      <td>2</td>\n",
       "      <td>media</td>\n",
       "      <td>M</td>\n",
       "      <td>5</td>\n",
       "      <td>5264</td>\n",
       "      <td>0</td>\n",
       "    </tr>\n",
       "    <tr>\n",
       "      <th>6389</th>\n",
       "      <td>6390</td>\n",
       "      <td>F</td>\n",
       "      <td>Navio</td>\n",
       "      <td>4</td>\n",
       "      <td>2</td>\n",
       "      <td>197</td>\n",
       "      <td>2</td>\n",
       "      <td>baixa</td>\n",
       "      <td>F</td>\n",
       "      <td>1</td>\n",
       "      <td>4977</td>\n",
       "      <td>0</td>\n",
       "    </tr>\n",
       "    <tr>\n",
       "      <th>10688</th>\n",
       "      <td>10689</td>\n",
       "      <td>A</td>\n",
       "      <td>Aviao</td>\n",
       "      <td>2</td>\n",
       "      <td>2</td>\n",
       "      <td>237</td>\n",
       "      <td>5</td>\n",
       "      <td>baixa</td>\n",
       "      <td>M</td>\n",
       "      <td>8</td>\n",
       "      <td>4461</td>\n",
       "      <td>0</td>\n",
       "    </tr>\n",
       "  </tbody>\n",
       "</table>\n",
       "</div>"
      ],
      "text/plain": [
       "          ID corredor_armazem modo_envio  numero_chamadas_cliente  \\\n",
       "9985    9986                F   Caminhao                        4   \n",
       "5369    5370                F      Navio                        4   \n",
       "8686    8687                C      Navio                        3   \n",
       "6389    6390                F      Navio                        4   \n",
       "10688  10689                A      Aviao                        2   \n",
       "\n",
       "       avaliacao_cliente  custo_produto  compras_anteriores  \\\n",
       "9985                   4            233                   3   \n",
       "5369                   2            197                   3   \n",
       "8686                   2            150                   2   \n",
       "6389                   2            197                   2   \n",
       "10688                  2            237                   5   \n",
       "\n",
       "      prioridade_produto genero  desconto  peso_gramas  entregue_no_prazo  \n",
       "9985               baixa      M         9         4300                  1  \n",
       "5369               baixa      F         6         5826                  0  \n",
       "8686               media      M         5         5264                  0  \n",
       "6389               baixa      F         1         4977                  0  \n",
       "10688              baixa      M         8         4461                  0  "
      ]
     },
     "execution_count": 42,
     "metadata": {},
     "output_type": "execute_result"
    }
   ],
   "source": [
    "df.sample(5)"
   ]
  },
  {
   "cell_type": "code",
   "execution_count": 43,
   "id": "73c655bf-0c0b-4931-a6a4-c7f4ed89982d",
   "metadata": {
    "colab": {
     "base_uri": "https://localhost:8080/",
     "height": 364
    },
    "executionInfo": {
     "elapsed": 344,
     "status": "ok",
     "timestamp": 1649600810502,
     "user": {
      "displayName": "Gesta Putra Gemilang",
      "userId": "17182360166228029414"
     },
     "user_tz": -420
    },
    "id": "73c655bf-0c0b-4931-a6a4-c7f4ed89982d",
    "outputId": "3968bac7-f785-4f76-e238-6f8011f6e95a"
   },
   "outputs": [
    {
     "data": {
      "text/html": [
       "<div>\n",
       "<style scoped>\n",
       "    .dataframe tbody tr th:only-of-type {\n",
       "        vertical-align: middle;\n",
       "    }\n",
       "\n",
       "    .dataframe tbody tr th {\n",
       "        vertical-align: top;\n",
       "    }\n",
       "\n",
       "    .dataframe thead th {\n",
       "        text-align: right;\n",
       "    }\n",
       "</style>\n",
       "<table border=\"1\" class=\"dataframe\">\n",
       "  <thead>\n",
       "    <tr style=\"text-align: right;\">\n",
       "      <th></th>\n",
       "      <th>ID</th>\n",
       "      <th>numero_chamadas_cliente</th>\n",
       "      <th>avaliacao_cliente</th>\n",
       "      <th>custo_produto</th>\n",
       "      <th>compras_anteriores</th>\n",
       "      <th>desconto</th>\n",
       "      <th>peso_gramas</th>\n",
       "      <th>entregue_no_prazo</th>\n",
       "    </tr>\n",
       "  </thead>\n",
       "  <tbody>\n",
       "    <tr>\n",
       "      <th>ID</th>\n",
       "      <td>1.000000</td>\n",
       "      <td>0.190104</td>\n",
       "      <td>-0.008010</td>\n",
       "      <td>0.197842</td>\n",
       "      <td>0.184451</td>\n",
       "      <td>-0.591557</td>\n",
       "      <td>0.263811</td>\n",
       "      <td>-0.403501</td>\n",
       "    </tr>\n",
       "    <tr>\n",
       "      <th>numero_chamadas_cliente</th>\n",
       "      <td>0.190104</td>\n",
       "      <td>1.000000</td>\n",
       "      <td>0.013398</td>\n",
       "      <td>0.328148</td>\n",
       "      <td>0.246604</td>\n",
       "      <td>-0.132172</td>\n",
       "      <td>-0.285186</td>\n",
       "      <td>-0.066327</td>\n",
       "    </tr>\n",
       "    <tr>\n",
       "      <th>avaliacao_cliente</th>\n",
       "      <td>-0.008010</td>\n",
       "      <td>0.013398</td>\n",
       "      <td>1.000000</td>\n",
       "      <td>0.006332</td>\n",
       "      <td>0.004893</td>\n",
       "      <td>0.000551</td>\n",
       "      <td>-0.004440</td>\n",
       "      <td>0.014809</td>\n",
       "    </tr>\n",
       "    <tr>\n",
       "      <th>custo_produto</th>\n",
       "      <td>0.197842</td>\n",
       "      <td>0.328148</td>\n",
       "      <td>0.006332</td>\n",
       "      <td>1.000000</td>\n",
       "      <td>0.163395</td>\n",
       "      <td>-0.137703</td>\n",
       "      <td>-0.146885</td>\n",
       "      <td>-0.071954</td>\n",
       "    </tr>\n",
       "    <tr>\n",
       "      <th>compras_anteriores</th>\n",
       "      <td>0.184451</td>\n",
       "      <td>0.246604</td>\n",
       "      <td>0.004893</td>\n",
       "      <td>0.163395</td>\n",
       "      <td>1.000000</td>\n",
       "      <td>-0.106093</td>\n",
       "      <td>-0.235066</td>\n",
       "      <td>-0.062599</td>\n",
       "    </tr>\n",
       "    <tr>\n",
       "      <th>desconto</th>\n",
       "      <td>-0.591557</td>\n",
       "      <td>-0.132172</td>\n",
       "      <td>0.000551</td>\n",
       "      <td>-0.137703</td>\n",
       "      <td>-0.106093</td>\n",
       "      <td>1.000000</td>\n",
       "      <td>-0.365062</td>\n",
       "      <td>0.388192</td>\n",
       "    </tr>\n",
       "    <tr>\n",
       "      <th>peso_gramas</th>\n",
       "      <td>0.263811</td>\n",
       "      <td>-0.285186</td>\n",
       "      <td>-0.004440</td>\n",
       "      <td>-0.146885</td>\n",
       "      <td>-0.235066</td>\n",
       "      <td>-0.365062</td>\n",
       "      <td>1.000000</td>\n",
       "      <td>-0.258815</td>\n",
       "    </tr>\n",
       "    <tr>\n",
       "      <th>entregue_no_prazo</th>\n",
       "      <td>-0.403501</td>\n",
       "      <td>-0.066327</td>\n",
       "      <td>0.014809</td>\n",
       "      <td>-0.071954</td>\n",
       "      <td>-0.062599</td>\n",
       "      <td>0.388192</td>\n",
       "      <td>-0.258815</td>\n",
       "      <td>1.000000</td>\n",
       "    </tr>\n",
       "  </tbody>\n",
       "</table>\n",
       "</div>"
      ],
      "text/plain": [
       "                               ID  numero_chamadas_cliente  avaliacao_cliente  \\\n",
       "ID                       1.000000                 0.190104          -0.008010   \n",
       "numero_chamadas_cliente  0.190104                 1.000000           0.013398   \n",
       "avaliacao_cliente       -0.008010                 0.013398           1.000000   \n",
       "custo_produto            0.197842                 0.328148           0.006332   \n",
       "compras_anteriores       0.184451                 0.246604           0.004893   \n",
       "desconto                -0.591557                -0.132172           0.000551   \n",
       "peso_gramas              0.263811                -0.285186          -0.004440   \n",
       "entregue_no_prazo       -0.403501                -0.066327           0.014809   \n",
       "\n",
       "                         custo_produto  compras_anteriores  desconto  \\\n",
       "ID                            0.197842            0.184451 -0.591557   \n",
       "numero_chamadas_cliente       0.328148            0.246604 -0.132172   \n",
       "avaliacao_cliente             0.006332            0.004893  0.000551   \n",
       "custo_produto                 1.000000            0.163395 -0.137703   \n",
       "compras_anteriores            0.163395            1.000000 -0.106093   \n",
       "desconto                     -0.137703           -0.106093  1.000000   \n",
       "peso_gramas                  -0.146885           -0.235066 -0.365062   \n",
       "entregue_no_prazo            -0.071954           -0.062599  0.388192   \n",
       "\n",
       "                         peso_gramas  entregue_no_prazo  \n",
       "ID                          0.263811          -0.403501  \n",
       "numero_chamadas_cliente    -0.285186          -0.066327  \n",
       "avaliacao_cliente          -0.004440           0.014809  \n",
       "custo_produto              -0.146885          -0.071954  \n",
       "compras_anteriores         -0.235066          -0.062599  \n",
       "desconto                   -0.365062           0.388192  \n",
       "peso_gramas                 1.000000          -0.258815  \n",
       "entregue_no_prazo          -0.258815           1.000000  "
      ]
     },
     "execution_count": 43,
     "metadata": {},
     "output_type": "execute_result"
    }
   ],
   "source": [
    "# Correlação\n",
    "df.corr()"
   ]
  },
  {
   "cell_type": "code",
   "execution_count": 44,
   "id": "M3_XZxy888Q7",
   "metadata": {
    "colab": {
     "base_uri": "https://localhost:8080/",
     "height": 583
    },
    "executionInfo": {
     "elapsed": 1942,
     "status": "ok",
     "timestamp": 1649602189041,
     "user": {
      "displayName": "Muhammad Hamzah",
      "userId": "06012328832276120437"
     },
     "user_tz": -420
    },
    "id": "M3_XZxy888Q7",
    "outputId": "77acb944-4aad-4720-cc80-cc71f2ca2718"
   },
   "outputs": [
    {
     "data": {
      "image/png": "[encoded data removed]",
      "text/plain": [
       "<Figure size 720x576 with 2 Axes>"
      ]
     },
     "metadata": {
      "needs_background": "light"
     },
     "output_type": "display_data"
    }
   ],
   "source": [
    "# Mapa de correlação \n",
    "plt.figure(figsize = (10, 8))\n",
    "sns.heatmap(df.corr(), cmap = 'Purples', annot = True, fmt = '.2f');"
   ]
  },
  {
   "cell_type": "markdown",
   "id": "19ee8612-bec0-43b1-94d8-de8892788658",
   "metadata": {
    "id": "19ee8612-bec0-43b1-94d8-de8892788658"
   },
   "source": [
    "**Decisão**: Na figura acima, os recursos que ultrapassaram o limite (+/- 0,05) na correlação com o recurso de destino (entregue_no_prazo) serão escolhidos para serem processados na Engenharia de Atributos, nesse caso: numero_chamadas_cliente, custo_produto, compras_anteriores, desconto e peso_gramas.\n",
    "\n",
    "A variável avaliacao_cliente não parece relevante e não será processada na Engenharia de Atributos. A variável ID será descartada, pois não representa informação útil."
   ]
  },
  {
   "cell_type": "code",
   "execution_count": 45,
   "id": "2IP6FmC6A6u5",
   "metadata": {
    "colab": {
     "base_uri": "https://localhost:8080/",
     "height": 357
    },
    "executionInfo": {
     "elapsed": 1529,
     "status": "ok",
     "timestamp": 1649603246718,
     "user": {
      "displayName": "Gesta Putra Gemilang",
      "userId": "17182360166228029414"
     },
     "user_tz": -420
    },
    "id": "2IP6FmC6A6u5",
    "outputId": "0d07705b-ceec-4eb0-d86b-f917ff6fa41c"
   },
   "outputs": [
    {
     "data": {
      "image/png": "[encoded data removed]",
      "text/plain": [
       "<Figure size 1440x576 with 4 Axes>"
      ]
     },
     "metadata": {
      "needs_background": "light"
     },
     "output_type": "display_data"
    }
   ],
   "source": [
    "# Gráfico de barras\n",
    "df_sample = df.sample(1000, random_state = 42)\n",
    "plt.figure(figsize = (20,8))\n",
    "for i in range(0, len(cats)):\n",
    "    plt.subplot(2, 3, i+1)\n",
    "    sns.countplot(x = df_sample[cats[i]], color = 'blue', orient = 'v')\n",
    "    plt.tight_layout()"
   ]
  },
  {
   "cell_type": "markdown",
   "id": "Lf7_I-g4Ckxx",
   "metadata": {
    "id": "Lf7_I-g4Ckxx"
   },
   "source": [
    "**Decisão**: Na figura acima pode-se ver que todas as variáveis categóricas têm uma diferença bastante grande em termos de contagens das classes, exceto a variável de Gênero. Sendo assim, não vamos considerar a variável genero na Engenharia de Atributos."
   ]
  },
  {
   "cell_type": "markdown",
   "id": "37076d1c",
   "metadata": {},
   "source": [
    "**Obs: Como as tarefas a seguir são complexas, demonstraremos apenas como algumas colunas. Fique à vontade para refazer a Engenharia de Atributos usando todas as colunas selecionadas conforme regras definidas acima.**"
   ]
  },
  {
   "cell_type": "markdown",
   "id": "63d7030e-f55f-4aad-9245-e0ce3609c674",
   "metadata": {
    "id": "63d7030e-f55f-4aad-9245-e0ce3609c674"
   },
   "source": [
    "## Feature Extraction \n",
    "\n",
    "Aqui fazemos a extração de novas variáveis a partir da informação contida em outras variáveis."
   ]
  },
  {
   "cell_type": "code",
   "execution_count": 46,
   "id": "8c445bd5",
   "metadata": {},
   "outputs": [
    {
     "data": {
      "text/plain": [
       "Index(['ID', 'corredor_armazem', 'modo_envio', 'numero_chamadas_cliente',\n",
       "       'avaliacao_cliente', 'custo_produto', 'compras_anteriores',\n",
       "       'prioridade_produto', 'genero', 'desconto', 'peso_gramas',\n",
       "       'entregue_no_prazo'],\n",
       "      dtype='object')"
      ]
     },
     "execution_count": 46,
     "metadata": {},
     "output_type": "execute_result"
    }
   ],
   "source": [
    "df.columns"
   ]
  },
  {
   "cell_type": "code",
   "execution_count": 47,
   "id": "bb32d9b1",
   "metadata": {},
   "outputs": [
    {
     "data": {
      "text/html": [
       "<div>\n",
       "<style scoped>\n",
       "    .dataframe tbody tr th:only-of-type {\n",
       "        vertical-align: middle;\n",
       "    }\n",
       "\n",
       "    .dataframe tbody tr th {\n",
       "        vertical-align: top;\n",
       "    }\n",
       "\n",
       "    .dataframe thead th {\n",
       "        text-align: right;\n",
       "    }\n",
       "</style>\n",
       "<table border=\"1\" class=\"dataframe\">\n",
       "  <thead>\n",
       "    <tr style=\"text-align: right;\">\n",
       "      <th></th>\n",
       "      <th>ID</th>\n",
       "      <th>corredor_armazem</th>\n",
       "      <th>modo_envio</th>\n",
       "      <th>numero_chamadas_cliente</th>\n",
       "      <th>avaliacao_cliente</th>\n",
       "      <th>custo_produto</th>\n",
       "      <th>compras_anteriores</th>\n",
       "      <th>prioridade_produto</th>\n",
       "      <th>genero</th>\n",
       "      <th>desconto</th>\n",
       "      <th>peso_gramas</th>\n",
       "      <th>entregue_no_prazo</th>\n",
       "    </tr>\n",
       "  </thead>\n",
       "  <tbody>\n",
       "    <tr>\n",
       "      <th>0</th>\n",
       "      <td>1</td>\n",
       "      <td>D</td>\n",
       "      <td>Aviao</td>\n",
       "      <td>4</td>\n",
       "      <td>2</td>\n",
       "      <td>177</td>\n",
       "      <td>3</td>\n",
       "      <td>baixa</td>\n",
       "      <td>F</td>\n",
       "      <td>44</td>\n",
       "      <td>1233</td>\n",
       "      <td>1</td>\n",
       "    </tr>\n",
       "    <tr>\n",
       "      <th>1</th>\n",
       "      <td>2</td>\n",
       "      <td>F</td>\n",
       "      <td>Aviao</td>\n",
       "      <td>4</td>\n",
       "      <td>5</td>\n",
       "      <td>216</td>\n",
       "      <td>2</td>\n",
       "      <td>baixa</td>\n",
       "      <td>M</td>\n",
       "      <td>59</td>\n",
       "      <td>3088</td>\n",
       "      <td>1</td>\n",
       "    </tr>\n",
       "    <tr>\n",
       "      <th>2</th>\n",
       "      <td>3</td>\n",
       "      <td>A</td>\n",
       "      <td>Aviao</td>\n",
       "      <td>2</td>\n",
       "      <td>2</td>\n",
       "      <td>183</td>\n",
       "      <td>4</td>\n",
       "      <td>baixa</td>\n",
       "      <td>M</td>\n",
       "      <td>48</td>\n",
       "      <td>3374</td>\n",
       "      <td>1</td>\n",
       "    </tr>\n",
       "    <tr>\n",
       "      <th>3</th>\n",
       "      <td>4</td>\n",
       "      <td>B</td>\n",
       "      <td>Aviao</td>\n",
       "      <td>3</td>\n",
       "      <td>3</td>\n",
       "      <td>176</td>\n",
       "      <td>4</td>\n",
       "      <td>media</td>\n",
       "      <td>M</td>\n",
       "      <td>10</td>\n",
       "      <td>1177</td>\n",
       "      <td>1</td>\n",
       "    </tr>\n",
       "    <tr>\n",
       "      <th>4</th>\n",
       "      <td>5</td>\n",
       "      <td>C</td>\n",
       "      <td>Aviao</td>\n",
       "      <td>2</td>\n",
       "      <td>2</td>\n",
       "      <td>184</td>\n",
       "      <td>3</td>\n",
       "      <td>media</td>\n",
       "      <td>F</td>\n",
       "      <td>46</td>\n",
       "      <td>2484</td>\n",
       "      <td>1</td>\n",
       "    </tr>\n",
       "  </tbody>\n",
       "</table>\n",
       "</div>"
      ],
      "text/plain": [
       "   ID corredor_armazem modo_envio  numero_chamadas_cliente  avaliacao_cliente  \\\n",
       "0   1                D      Aviao                        4                  2   \n",
       "1   2                F      Aviao                        4                  5   \n",
       "2   3                A      Aviao                        2                  2   \n",
       "3   4                B      Aviao                        3                  3   \n",
       "4   5                C      Aviao                        2                  2   \n",
       "\n",
       "   custo_produto  compras_anteriores prioridade_produto genero  desconto  \\\n",
       "0            177                   3              baixa      F        44   \n",
       "1            216                   2              baixa      M        59   \n",
       "2            183                   4              baixa      M        48   \n",
       "3            176                   4              media      M        10   \n",
       "4            184                   3              media      F        46   \n",
       "\n",
       "   peso_gramas  entregue_no_prazo  \n",
       "0         1233                  1  \n",
       "1         3088                  1  \n",
       "2         3374                  1  \n",
       "3         1177                  1  \n",
       "4         2484                  1  "
      ]
     },
     "execution_count": 47,
     "metadata": {},
     "output_type": "execute_result"
    }
   ],
   "source": [
    "df.head()"
   ]
  },
  {
   "cell_type": "code",
   "execution_count": 48,
   "id": "bcb550fa",
   "metadata": {},
   "outputs": [],
   "source": [
    "# Cria uma cópia do dataframe\n",
    "df_eng = df.copy()"
   ]
  },
  {
   "cell_type": "code",
   "execution_count": 49,
   "id": "da986b32",
   "metadata": {},
   "outputs": [
    {
     "data": {
      "text/plain": [
       "(10643, 12)"
      ]
     },
     "execution_count": 49,
     "metadata": {},
     "output_type": "execute_result"
    }
   ],
   "source": [
    "df_eng.shape"
   ]
  },
  {
   "cell_type": "code",
   "execution_count": 50,
   "id": "5bfa47a0",
   "metadata": {},
   "outputs": [
    {
     "data": {
      "text/plain": [
       "ID                          int64\n",
       "corredor_armazem           object\n",
       "modo_envio                 object\n",
       "numero_chamadas_cliente     int64\n",
       "avaliacao_cliente           int64\n",
       "custo_produto               int64\n",
       "compras_anteriores          int64\n",
       "prioridade_produto         object\n",
       "genero                     object\n",
       "desconto                    int64\n",
       "peso_gramas                 int64\n",
       "entregue_no_prazo           int64\n",
       "dtype: object"
      ]
     },
     "execution_count": 50,
     "metadata": {},
     "output_type": "execute_result"
    }
   ],
   "source": [
    "df_eng.dtypes"
   ]
  },
  {
   "cell_type": "markdown",
   "id": "2d6379c0",
   "metadata": {},
   "source": [
    "### 1- Performance de Envio do Produto Por Prioridade do Produto\n",
    "\n",
    "Todo atraso no envio dos produtos é igual, ou seja, tem a mesma proporção? A prioridade de envio dos produtos gera mais ou menos atrasos?\n",
    "\n",
    "Criaremos uma nova variável que representa a performance do envio do produto com base na seguinte regra de negócio:\n",
    "\n",
    "- Se a prioridade do produto era alta e houve atraso no envio, o atraso é crítico.\n",
    "- Se a prioridade do produto era média e houve atraso no envio, o atraso é problemático.\n",
    "- Se a prioridade do produto era baixa e houve atraso no envio, o atraso é tolerável.\n",
    "- Outra opção significa que o envio foi feito no prazo e não apresenta problema."
   ]
  },
  {
   "cell_type": "code",
   "execution_count": 51,
   "id": "df49a985",
   "metadata": {},
   "outputs": [
    {
     "data": {
      "text/plain": [
       "baixa    5174\n",
       "media    4587\n",
       "alta      882\n",
       "Name: prioridade_produto, dtype: int64"
      ]
     },
     "execution_count": 51,
     "metadata": {},
     "output_type": "execute_result"
    }
   ],
   "source": [
    "df_eng.prioridade_produto.value_counts()"
   ]
  },
  {
   "cell_type": "code",
   "execution_count": 52,
   "id": "44bc8dd1",
   "metadata": {},
   "outputs": [],
   "source": [
    "# Criamos a variável e preenchemos com nan\n",
    "df_eng['performance_prioridade_envio'] = np.nan"
   ]
  },
  {
   "cell_type": "code",
   "execution_count": 53,
   "id": "51323de1",
   "metadata": {},
   "outputs": [],
   "source": [
    "# ATENÇÃO!!!! Apenas para compreender o conceito!!!\n",
    "df_eng['performance_prioridade_envio'] = np.where(\n",
    "    (df_eng['prioridade_produto'] == 'alta') & (df_eng['entregue_no_prazo'] == 0), \"Ruim\", \"Excelente\")"
   ]
  },
  {
   "cell_type": "code",
   "execution_count": 54,
   "id": "0318dbe5",
   "metadata": {},
   "outputs": [
    {
     "data": {
      "text/plain": [
       "Excelente    10333\n",
       "Ruim           310\n",
       "Name: performance_prioridade_envio, dtype: int64"
      ]
     },
     "execution_count": 54,
     "metadata": {},
     "output_type": "execute_result"
    }
   ],
   "source": [
    "df_eng['performance_prioridade_envio'].value_counts()"
   ]
  },
  {
   "cell_type": "code",
   "execution_count": 55,
   "id": "90825b0c",
   "metadata": {},
   "outputs": [],
   "source": [
    "# Limpamos todos os valores da variável\n",
    "df_eng['performance_prioridade_envio'] = np.nan"
   ]
  },
  {
   "cell_type": "code",
   "execution_count": 56,
   "id": "61c3c28c",
   "metadata": {},
   "outputs": [],
   "source": [
    "# Agora sim a solução!!!\n",
    "df_eng['performance_prioridade_envio'] = np.where(\n",
    "        (df_eng['prioridade_produto'] == 'alta') & (df_eng['entregue_no_prazo'] == 0), \"Atraso Crítico\", \n",
    "    np.where(\n",
    "        (df_eng['prioridade_produto'] == 'media') & (df_eng['entregue_no_prazo'] == 0), \"Atraso Problemático\",\n",
    "    np.where(\n",
    "        (df_eng['prioridade_produto'] == 'baixa') & (df_eng['entregue_no_prazo'] == 0), \"Atraso Tolerável\", \n",
    "    \"Não Houve Atraso\")))"
   ]
  },
  {
   "cell_type": "code",
   "execution_count": 57,
   "id": "4eb390b2",
   "metadata": {},
   "outputs": [
    {
     "data": {
      "text/plain": [
       "Não Houve Atraso       6282\n",
       "Atraso Tolerável       2134\n",
       "Atraso Problemático    1917\n",
       "Atraso Crítico          310\n",
       "Name: performance_prioridade_envio, dtype: int64"
      ]
     },
     "execution_count": 57,
     "metadata": {},
     "output_type": "execute_result"
    }
   ],
   "source": [
    "df_eng['performance_prioridade_envio'].value_counts()"
   ]
  },
  {
   "cell_type": "code",
   "execution_count": 58,
   "id": "19e3945b-abab-4fb5-bb82-48cf9845cbd2",
   "metadata": {
    "id": "19e3945b-abab-4fb5-bb82-48cf9845cbd2"
   },
   "outputs": [
    {
     "data": {
      "text/html": [
       "<div>\n",
       "<style scoped>\n",
       "    .dataframe tbody tr th:only-of-type {\n",
       "        vertical-align: middle;\n",
       "    }\n",
       "\n",
       "    .dataframe tbody tr th {\n",
       "        vertical-align: top;\n",
       "    }\n",
       "\n",
       "    .dataframe thead th {\n",
       "        text-align: right;\n",
       "    }\n",
       "</style>\n",
       "<table border=\"1\" class=\"dataframe\">\n",
       "  <thead>\n",
       "    <tr style=\"text-align: right;\">\n",
       "      <th></th>\n",
       "      <th>ID</th>\n",
       "      <th>corredor_armazem</th>\n",
       "      <th>modo_envio</th>\n",
       "      <th>numero_chamadas_cliente</th>\n",
       "      <th>avaliacao_cliente</th>\n",
       "      <th>custo_produto</th>\n",
       "      <th>compras_anteriores</th>\n",
       "      <th>prioridade_produto</th>\n",
       "      <th>genero</th>\n",
       "      <th>desconto</th>\n",
       "      <th>peso_gramas</th>\n",
       "      <th>entregue_no_prazo</th>\n",
       "      <th>performance_prioridade_envio</th>\n",
       "    </tr>\n",
       "  </thead>\n",
       "  <tbody>\n",
       "    <tr>\n",
       "      <th>5816</th>\n",
       "      <td>5817</td>\n",
       "      <td>A</td>\n",
       "      <td>Navio</td>\n",
       "      <td>3</td>\n",
       "      <td>1</td>\n",
       "      <td>213</td>\n",
       "      <td>3</td>\n",
       "      <td>alta</td>\n",
       "      <td>F</td>\n",
       "      <td>6</td>\n",
       "      <td>5535</td>\n",
       "      <td>0</td>\n",
       "      <td>Atraso Crítico</td>\n",
       "    </tr>\n",
       "    <tr>\n",
       "      <th>1089</th>\n",
       "      <td>1090</td>\n",
       "      <td>B</td>\n",
       "      <td>Caminhao</td>\n",
       "      <td>3</td>\n",
       "      <td>1</td>\n",
       "      <td>112</td>\n",
       "      <td>5</td>\n",
       "      <td>media</td>\n",
       "      <td>F</td>\n",
       "      <td>41</td>\n",
       "      <td>1249</td>\n",
       "      <td>1</td>\n",
       "      <td>Não Houve Atraso</td>\n",
       "    </tr>\n",
       "    <tr>\n",
       "      <th>7454</th>\n",
       "      <td>7455</td>\n",
       "      <td>A</td>\n",
       "      <td>Navio</td>\n",
       "      <td>3</td>\n",
       "      <td>3</td>\n",
       "      <td>177</td>\n",
       "      <td>4</td>\n",
       "      <td>media</td>\n",
       "      <td>F</td>\n",
       "      <td>4</td>\n",
       "      <td>1560</td>\n",
       "      <td>1</td>\n",
       "      <td>Não Houve Atraso</td>\n",
       "    </tr>\n",
       "    <tr>\n",
       "      <th>4086</th>\n",
       "      <td>4087</td>\n",
       "      <td>D</td>\n",
       "      <td>Caminhao</td>\n",
       "      <td>4</td>\n",
       "      <td>4</td>\n",
       "      <td>164</td>\n",
       "      <td>2</td>\n",
       "      <td>baixa</td>\n",
       "      <td>F</td>\n",
       "      <td>9</td>\n",
       "      <td>1949</td>\n",
       "      <td>1</td>\n",
       "      <td>Não Houve Atraso</td>\n",
       "    </tr>\n",
       "    <tr>\n",
       "      <th>5982</th>\n",
       "      <td>5983</td>\n",
       "      <td>D</td>\n",
       "      <td>Navio</td>\n",
       "      <td>4</td>\n",
       "      <td>3</td>\n",
       "      <td>269</td>\n",
       "      <td>2</td>\n",
       "      <td>media</td>\n",
       "      <td>M</td>\n",
       "      <td>2</td>\n",
       "      <td>4158</td>\n",
       "      <td>0</td>\n",
       "      <td>Atraso Problemático</td>\n",
       "    </tr>\n",
       "  </tbody>\n",
       "</table>\n",
       "</div>"
      ],
      "text/plain": [
       "        ID corredor_armazem modo_envio  numero_chamadas_cliente  \\\n",
       "5816  5817                A      Navio                        3   \n",
       "1089  1090                B   Caminhao                        3   \n",
       "7454  7455                A      Navio                        3   \n",
       "4086  4087                D   Caminhao                        4   \n",
       "5982  5983                D      Navio                        4   \n",
       "\n",
       "      avaliacao_cliente  custo_produto  compras_anteriores prioridade_produto  \\\n",
       "5816                  1            213                   3               alta   \n",
       "1089                  1            112                   5              media   \n",
       "7454                  3            177                   4              media   \n",
       "4086                  4            164                   2              baixa   \n",
       "5982                  3            269                   2              media   \n",
       "\n",
       "     genero  desconto  peso_gramas  entregue_no_prazo  \\\n",
       "5816      F         6         5535                  0   \n",
       "1089      F        41         1249                  1   \n",
       "7454      F         4         1560                  1   \n",
       "4086      F         9         1949                  1   \n",
       "5982      M         2         4158                  0   \n",
       "\n",
       "     performance_prioridade_envio  \n",
       "5816               Atraso Crítico  \n",
       "1089             Não Houve Atraso  \n",
       "7454             Não Houve Atraso  \n",
       "4086             Não Houve Atraso  \n",
       "5982          Atraso Problemático  "
      ]
     },
     "execution_count": 58,
     "metadata": {},
     "output_type": "execute_result"
    }
   ],
   "source": [
    "df_eng.sample(5)"
   ]
  },
  {
   "cell_type": "code",
   "execution_count": 59,
   "id": "20b35fdc",
   "metadata": {},
   "outputs": [
    {
     "data": {
      "text/html": [
       "<div>\n",
       "<style scoped>\n",
       "    .dataframe tbody tr th:only-of-type {\n",
       "        vertical-align: middle;\n",
       "    }\n",
       "\n",
       "    .dataframe tbody tr th {\n",
       "        vertical-align: top;\n",
       "    }\n",
       "\n",
       "    .dataframe thead tr th {\n",
       "        text-align: left;\n",
       "    }\n",
       "</style>\n",
       "<table border=\"1\" class=\"dataframe\">\n",
       "  <thead>\n",
       "    <tr>\n",
       "      <th></th>\n",
       "      <th>performance_prioridade_envio</th>\n",
       "      <th>entregue_no_prazo</th>\n",
       "      <th>prioridade_produto</th>\n",
       "    </tr>\n",
       "    <tr>\n",
       "      <th></th>\n",
       "      <th></th>\n",
       "      <th></th>\n",
       "      <th>count</th>\n",
       "    </tr>\n",
       "  </thead>\n",
       "  <tbody>\n",
       "    <tr>\n",
       "      <th>0</th>\n",
       "      <td>Atraso Crítico</td>\n",
       "      <td>0</td>\n",
       "      <td>310</td>\n",
       "    </tr>\n",
       "    <tr>\n",
       "      <th>1</th>\n",
       "      <td>Atraso Problemático</td>\n",
       "      <td>0</td>\n",
       "      <td>1917</td>\n",
       "    </tr>\n",
       "    <tr>\n",
       "      <th>2</th>\n",
       "      <td>Atraso Tolerável</td>\n",
       "      <td>0</td>\n",
       "      <td>2134</td>\n",
       "    </tr>\n",
       "    <tr>\n",
       "      <th>3</th>\n",
       "      <td>Não Houve Atraso</td>\n",
       "      <td>1</td>\n",
       "      <td>6282</td>\n",
       "    </tr>\n",
       "  </tbody>\n",
       "</table>\n",
       "</div>"
      ],
      "text/plain": [
       "  performance_prioridade_envio entregue_no_prazo prioridade_produto\n",
       "                                                              count\n",
       "0               Atraso Crítico                 0                310\n",
       "1          Atraso Problemático                 0               1917\n",
       "2             Atraso Tolerável                 0               2134\n",
       "3             Não Houve Atraso                 1               6282"
      ]
     },
     "execution_count": 59,
     "metadata": {},
     "output_type": "execute_result"
    }
   ],
   "source": [
    "# Agrupamos os dados para análise\n",
    "df_report1 = df_eng.groupby(['performance_prioridade_envio', \n",
    "                             'entregue_no_prazo']).agg({'prioridade_produto': ['count']}).reset_index()\n",
    "df_report1.head()"
   ]
  },
  {
   "cell_type": "code",
   "execution_count": 60,
   "id": "95bc24b3",
   "metadata": {},
   "outputs": [
    {
     "data": {
      "text/html": [
       "<div>\n",
       "<style scoped>\n",
       "    .dataframe tbody tr th:only-of-type {\n",
       "        vertical-align: middle;\n",
       "    }\n",
       "\n",
       "    .dataframe tbody tr th {\n",
       "        vertical-align: top;\n",
       "    }\n",
       "\n",
       "    .dataframe thead th {\n",
       "        text-align: right;\n",
       "    }\n",
       "</style>\n",
       "<table border=\"1\" class=\"dataframe\">\n",
       "  <thead>\n",
       "    <tr style=\"text-align: right;\">\n",
       "      <th></th>\n",
       "      <th>performance_prioridade_envio</th>\n",
       "      <th>entregue_no_prazo</th>\n",
       "      <th>contagem</th>\n",
       "    </tr>\n",
       "  </thead>\n",
       "  <tbody>\n",
       "    <tr>\n",
       "      <th>0</th>\n",
       "      <td>Atraso Crítico</td>\n",
       "      <td>0</td>\n",
       "      <td>310</td>\n",
       "    </tr>\n",
       "    <tr>\n",
       "      <th>1</th>\n",
       "      <td>Atraso Problemático</td>\n",
       "      <td>0</td>\n",
       "      <td>1917</td>\n",
       "    </tr>\n",
       "    <tr>\n",
       "      <th>2</th>\n",
       "      <td>Atraso Tolerável</td>\n",
       "      <td>0</td>\n",
       "      <td>2134</td>\n",
       "    </tr>\n",
       "    <tr>\n",
       "      <th>3</th>\n",
       "      <td>Não Houve Atraso</td>\n",
       "      <td>1</td>\n",
       "      <td>6282</td>\n",
       "    </tr>\n",
       "  </tbody>\n",
       "</table>\n",
       "</div>"
      ],
      "text/plain": [
       "  performance_prioridade_envio  entregue_no_prazo  contagem\n",
       "0               Atraso Crítico                  0       310\n",
       "1          Atraso Problemático                  0      1917\n",
       "2             Atraso Tolerável                  0      2134\n",
       "3             Não Houve Atraso                  1      6282"
      ]
     },
     "execution_count": 60,
     "metadata": {},
     "output_type": "execute_result"
    }
   ],
   "source": [
    "# Ajustamos os nomes das colunas\n",
    "df_report1.columns = ['performance_prioridade_envio', 'entregue_no_prazo', 'contagem']\n",
    "df_report1.head()"
   ]
  },
  {
   "cell_type": "code",
   "execution_count": 61,
   "id": "df3e92ce",
   "metadata": {},
   "outputs": [
    {
     "data": {
      "text/html": [
       "<div>\n",
       "<style scoped>\n",
       "    .dataframe tbody tr th:only-of-type {\n",
       "        vertical-align: middle;\n",
       "    }\n",
       "\n",
       "    .dataframe tbody tr th {\n",
       "        vertical-align: top;\n",
       "    }\n",
       "\n",
       "    .dataframe thead th {\n",
       "        text-align: right;\n",
       "    }\n",
       "</style>\n",
       "<table border=\"1\" class=\"dataframe\">\n",
       "  <thead>\n",
       "    <tr style=\"text-align: right;\">\n",
       "      <th>entregue_no_prazo</th>\n",
       "      <th>performance_prioridade_envio</th>\n",
       "      <th>0</th>\n",
       "      <th>1</th>\n",
       "    </tr>\n",
       "  </thead>\n",
       "  <tbody>\n",
       "    <tr>\n",
       "      <th>0</th>\n",
       "      <td>Atraso Crítico</td>\n",
       "      <td>310.0</td>\n",
       "      <td>NaN</td>\n",
       "    </tr>\n",
       "    <tr>\n",
       "      <th>1</th>\n",
       "      <td>Atraso Problemático</td>\n",
       "      <td>1917.0</td>\n",
       "      <td>NaN</td>\n",
       "    </tr>\n",
       "    <tr>\n",
       "      <th>2</th>\n",
       "      <td>Atraso Tolerável</td>\n",
       "      <td>2134.0</td>\n",
       "      <td>NaN</td>\n",
       "    </tr>\n",
       "    <tr>\n",
       "      <th>3</th>\n",
       "      <td>Não Houve Atraso</td>\n",
       "      <td>NaN</td>\n",
       "      <td>6282.0</td>\n",
       "    </tr>\n",
       "  </tbody>\n",
       "</table>\n",
       "</div>"
      ],
      "text/plain": [
       "entregue_no_prazo performance_prioridade_envio       0       1\n",
       "0                               Atraso Crítico   310.0     NaN\n",
       "1                          Atraso Problemático  1917.0     NaN\n",
       "2                             Atraso Tolerável  2134.0     NaN\n",
       "3                             Não Houve Atraso     NaN  6282.0"
      ]
     },
     "execution_count": 61,
     "metadata": {},
     "output_type": "execute_result"
    }
   ],
   "source": [
    "# Pivot\n",
    "df_report1 = pd.pivot_table(df_report1,\n",
    "                             index = 'performance_prioridade_envio',\n",
    "                             columns = 'entregue_no_prazo',\n",
    "                             values = 'contagem').reset_index()\n",
    "df_report1.head()"
   ]
  },
  {
   "cell_type": "code",
   "execution_count": 62,
   "id": "30c44d9d",
   "metadata": {},
   "outputs": [
    {
     "data": {
      "text/html": [
       "<div>\n",
       "<style scoped>\n",
       "    .dataframe tbody tr th:only-of-type {\n",
       "        vertical-align: middle;\n",
       "    }\n",
       "\n",
       "    .dataframe tbody tr th {\n",
       "        vertical-align: top;\n",
       "    }\n",
       "\n",
       "    .dataframe thead th {\n",
       "        text-align: right;\n",
       "    }\n",
       "</style>\n",
       "<table border=\"1\" class=\"dataframe\">\n",
       "  <thead>\n",
       "    <tr style=\"text-align: right;\">\n",
       "      <th></th>\n",
       "      <th>Status do Envio</th>\n",
       "      <th>Total Atraso</th>\n",
       "      <th>Total no Prazo</th>\n",
       "    </tr>\n",
       "  </thead>\n",
       "  <tbody>\n",
       "    <tr>\n",
       "      <th>0</th>\n",
       "      <td>Atraso Crítico</td>\n",
       "      <td>310.0</td>\n",
       "      <td>NaN</td>\n",
       "    </tr>\n",
       "    <tr>\n",
       "      <th>1</th>\n",
       "      <td>Atraso Problemático</td>\n",
       "      <td>1917.0</td>\n",
       "      <td>NaN</td>\n",
       "    </tr>\n",
       "    <tr>\n",
       "      <th>2</th>\n",
       "      <td>Atraso Tolerável</td>\n",
       "      <td>2134.0</td>\n",
       "      <td>NaN</td>\n",
       "    </tr>\n",
       "    <tr>\n",
       "      <th>3</th>\n",
       "      <td>Não Houve Atraso</td>\n",
       "      <td>NaN</td>\n",
       "      <td>6282.0</td>\n",
       "    </tr>\n",
       "  </tbody>\n",
       "</table>\n",
       "</div>"
      ],
      "text/plain": [
       "       Status do Envio  Total Atraso  Total no Prazo\n",
       "0       Atraso Crítico         310.0             NaN\n",
       "1  Atraso Problemático        1917.0             NaN\n",
       "2     Atraso Tolerável        2134.0             NaN\n",
       "3     Não Houve Atraso           NaN          6282.0"
      ]
     },
     "execution_count": 62,
     "metadata": {},
     "output_type": "execute_result"
    }
   ],
   "source": [
    "# Novo ajuste nos nomes das colunas\n",
    "df_report1.columns = ['Status do Envio', 'Total Atraso', 'Total no Prazo']\n",
    "df_report1.head()"
   ]
  },
  {
   "cell_type": "code",
   "execution_count": 63,
   "id": "b5a227e0",
   "metadata": {},
   "outputs": [
    {
     "data": {
      "text/html": [
       "<div>\n",
       "<style scoped>\n",
       "    .dataframe tbody tr th:only-of-type {\n",
       "        vertical-align: middle;\n",
       "    }\n",
       "\n",
       "    .dataframe tbody tr th {\n",
       "        vertical-align: top;\n",
       "    }\n",
       "\n",
       "    .dataframe thead th {\n",
       "        text-align: right;\n",
       "    }\n",
       "</style>\n",
       "<table border=\"1\" class=\"dataframe\">\n",
       "  <thead>\n",
       "    <tr style=\"text-align: right;\">\n",
       "      <th></th>\n",
       "      <th>Status do Envio</th>\n",
       "      <th>Total Atraso</th>\n",
       "      <th>Total no Prazo</th>\n",
       "    </tr>\n",
       "  </thead>\n",
       "  <tbody>\n",
       "    <tr>\n",
       "      <th>0</th>\n",
       "      <td>Atraso Crítico</td>\n",
       "      <td>310.0</td>\n",
       "      <td>0.0</td>\n",
       "    </tr>\n",
       "    <tr>\n",
       "      <th>1</th>\n",
       "      <td>Atraso Problemático</td>\n",
       "      <td>1917.0</td>\n",
       "      <td>0.0</td>\n",
       "    </tr>\n",
       "    <tr>\n",
       "      <th>2</th>\n",
       "      <td>Atraso Tolerável</td>\n",
       "      <td>2134.0</td>\n",
       "      <td>0.0</td>\n",
       "    </tr>\n",
       "    <tr>\n",
       "      <th>3</th>\n",
       "      <td>Não Houve Atraso</td>\n",
       "      <td>0.0</td>\n",
       "      <td>6282.0</td>\n",
       "    </tr>\n",
       "  </tbody>\n",
       "</table>\n",
       "</div>"
      ],
      "text/plain": [
       "       Status do Envio  Total Atraso  Total no Prazo\n",
       "0       Atraso Crítico         310.0             0.0\n",
       "1  Atraso Problemático        1917.0             0.0\n",
       "2     Atraso Tolerável        2134.0             0.0\n",
       "3     Não Houve Atraso           0.0          6282.0"
      ]
     },
     "execution_count": 63,
     "metadata": {},
     "output_type": "execute_result"
    }
   ],
   "source": [
    "# Replace do valor nan por zero\n",
    "df_report1['Total Atraso'] = df_report1['Total Atraso'].replace(np.nan, 0)\n",
    "df_report1['Total no Prazo'] = df_report1['Total no Prazo'].replace(np.nan, 0)\n",
    "df_report1.head()"
   ]
  },
  {
   "cell_type": "code",
   "execution_count": 64,
   "id": "f2ab3366",
   "metadata": {},
   "outputs": [
    {
     "data": {
      "text/html": [
       "<div>\n",
       "<style scoped>\n",
       "    .dataframe tbody tr th:only-of-type {\n",
       "        vertical-align: middle;\n",
       "    }\n",
       "\n",
       "    .dataframe tbody tr th {\n",
       "        vertical-align: top;\n",
       "    }\n",
       "\n",
       "    .dataframe thead th {\n",
       "        text-align: right;\n",
       "    }\n",
       "</style>\n",
       "<table border=\"1\" class=\"dataframe\">\n",
       "  <thead>\n",
       "    <tr style=\"text-align: right;\">\n",
       "      <th></th>\n",
       "      <th>Status do Envio</th>\n",
       "      <th>Total Atraso</th>\n",
       "      <th>Total no Prazo</th>\n",
       "      <th>Total</th>\n",
       "    </tr>\n",
       "  </thead>\n",
       "  <tbody>\n",
       "    <tr>\n",
       "      <th>0</th>\n",
       "      <td>Atraso Crítico</td>\n",
       "      <td>310.0</td>\n",
       "      <td>0.0</td>\n",
       "      <td>310.0</td>\n",
       "    </tr>\n",
       "    <tr>\n",
       "      <th>1</th>\n",
       "      <td>Atraso Problemático</td>\n",
       "      <td>1917.0</td>\n",
       "      <td>0.0</td>\n",
       "      <td>1917.0</td>\n",
       "    </tr>\n",
       "    <tr>\n",
       "      <th>2</th>\n",
       "      <td>Atraso Tolerável</td>\n",
       "      <td>2134.0</td>\n",
       "      <td>0.0</td>\n",
       "      <td>2134.0</td>\n",
       "    </tr>\n",
       "    <tr>\n",
       "      <th>3</th>\n",
       "      <td>Não Houve Atraso</td>\n",
       "      <td>0.0</td>\n",
       "      <td>6282.0</td>\n",
       "      <td>6282.0</td>\n",
       "    </tr>\n",
       "  </tbody>\n",
       "</table>\n",
       "</div>"
      ],
      "text/plain": [
       "       Status do Envio  Total Atraso  Total no Prazo   Total\n",
       "0       Atraso Crítico         310.0             0.0   310.0\n",
       "1  Atraso Problemático        1917.0             0.0  1917.0\n",
       "2     Atraso Tolerável        2134.0             0.0  2134.0\n",
       "3     Não Houve Atraso           0.0          6282.0  6282.0"
      ]
     },
     "execution_count": 64,
     "metadata": {},
     "output_type": "execute_result"
    }
   ],
   "source": [
    "# Concatena colunas criando uma terceira variável\n",
    "df_report1[\"Total\"] = df_report1[\"Total Atraso\"] + df_report1[\"Total no Prazo\"]\n",
    "df_report1.head()"
   ]
  },
  {
   "cell_type": "code",
   "execution_count": 65,
   "id": "081a7ba2",
   "metadata": {},
   "outputs": [
    {
     "data": {
      "text/html": [
       "<div>\n",
       "<style scoped>\n",
       "    .dataframe tbody tr th:only-of-type {\n",
       "        vertical-align: middle;\n",
       "    }\n",
       "\n",
       "    .dataframe tbody tr th {\n",
       "        vertical-align: top;\n",
       "    }\n",
       "\n",
       "    .dataframe thead th {\n",
       "        text-align: right;\n",
       "    }\n",
       "</style>\n",
       "<table border=\"1\" class=\"dataframe\">\n",
       "  <thead>\n",
       "    <tr style=\"text-align: right;\">\n",
       "      <th></th>\n",
       "      <th>Status do Envio</th>\n",
       "      <th>Total</th>\n",
       "    </tr>\n",
       "  </thead>\n",
       "  <tbody>\n",
       "    <tr>\n",
       "      <th>0</th>\n",
       "      <td>Atraso Crítico</td>\n",
       "      <td>310.0</td>\n",
       "    </tr>\n",
       "    <tr>\n",
       "      <th>1</th>\n",
       "      <td>Atraso Problemático</td>\n",
       "      <td>1917.0</td>\n",
       "    </tr>\n",
       "    <tr>\n",
       "      <th>2</th>\n",
       "      <td>Atraso Tolerável</td>\n",
       "      <td>2134.0</td>\n",
       "    </tr>\n",
       "    <tr>\n",
       "      <th>3</th>\n",
       "      <td>Não Houve Atraso</td>\n",
       "      <td>6282.0</td>\n",
       "    </tr>\n",
       "  </tbody>\n",
       "</table>\n",
       "</div>"
      ],
      "text/plain": [
       "       Status do Envio   Total\n",
       "0       Atraso Crítico   310.0\n",
       "1  Atraso Problemático  1917.0\n",
       "2     Atraso Tolerável  2134.0\n",
       "3     Não Houve Atraso  6282.0"
      ]
     },
     "execution_count": 65,
     "metadata": {},
     "output_type": "execute_result"
    }
   ],
   "source": [
    "# Não precisamos mais das colunas usadas na concatenação. Vamos removê-las.\n",
    "df_report1.drop(df_report1.columns[[1, 2]], axis = 1, inplace = True)\n",
    "df_report1.head()"
   ]
  },
  {
   "cell_type": "code",
   "execution_count": 66,
   "id": "DxrsPztLHnlY",
   "metadata": {
    "colab": {
     "base_uri": "https://localhost:8080/",
     "height": 569
    },
    "executionInfo": {
     "elapsed": 14,
     "status": "ok",
     "timestamp": 1649555836724,
     "user": {
      "displayName": "Fajar Ariev",
      "userId": "18314973382710209713"
     },
     "user_tz": -420
    },
    "id": "DxrsPztLHnlY",
    "outputId": "18c69a2d-af48-4610-fb92-c2dc47df3589"
   },
   "outputs": [
    {
     "data": {
      "image/png": "[encoded data removed]",
      "text/plain": [
       "<Figure size 864x576 with 1 Axes>"
      ]
     },
     "metadata": {
      "needs_background": "light"
     },
     "output_type": "display_data"
    }
   ],
   "source": [
    "# Plot\n",
    "df_report1.set_index(\"Status do Envio\").plot(kind = 'bar', \n",
    "                title = 'Total de Envios dos Produtos Por Status',\n",
    "                ylabel = 'Total', \n",
    "                xlabel = '\\nStatus do Envio',\n",
    "                colormap = 'jet',\n",
    "                figsize=(12,8))\n",
    "plt.xticks(rotation = 0)\n",
    "plt.show()"
   ]
  },
  {
   "cell_type": "markdown",
   "id": "4fd0efaf",
   "metadata": {},
   "source": [
    "### 2- Performance de Envio do Produto Por Prioridade de Envio e Modo de Envio\n",
    "\n",
    "O modo de envio dos produtos associado à proridade de envio dos produtos, tem impacto no atraso dos produtos?\n",
    "\n",
    "Criaremos uma nova variável que representa a performance do envio do produto com base na seguinte regra de negócio:\n",
    "\n",
    "- Se a prioridade do produto era alta, o modo de envio era Navio e houve atraso no envio, o atraso é crítico por Navio.\n",
    "- Se a prioridade do produto era média, o modo de envio era Navio e houve atraso no envio, o atraso é problemático por Navio.\n",
    "- Se a prioridade do produto era baixa, o modo de envio era Navio e houve atraso no envio, o atraso é tolerável por Navio.\n",
    "- Se a prioridade do produto era alta, o modo de envio era Aviao e houve atraso no envio, o atraso é crítico por Aviao.\n",
    "- Se a prioridade do produto era média, o modo de envio era Aviao e houve atraso no envio, o atraso é problemático por Aviao.\n",
    "- Se a prioridade do produto era baixa, o modo de envio era Aviao e houve atraso no envio, o atraso é tolerável por Aviao.\n",
    "- Se a prioridade do produto era alta, o modo de envio era Caminhao e houve atraso no envio, o atraso é crítico por Caminhao.\n",
    "- Se a prioridade do produto era média, o modo de envio era Caminhao e houve atraso no envio, o atraso é problemático por Caminhao.\n",
    "- Se a prioridade do produto era baixa, o modo de envio era Caminhao e houve atraso no envio, o atraso é tolerável por Caminhao.\n",
    "- Outra opção significa que o envio foi feito no prazo e não apresenta problema."
   ]
  },
  {
   "cell_type": "code",
   "execution_count": 67,
   "id": "6cc22bb9",
   "metadata": {},
   "outputs": [
    {
     "data": {
      "text/plain": [
       "Index(['ID', 'corredor_armazem', 'modo_envio', 'numero_chamadas_cliente',\n",
       "       'avaliacao_cliente', 'custo_produto', 'compras_anteriores',\n",
       "       'prioridade_produto', 'genero', 'desconto', 'peso_gramas',\n",
       "       'entregue_no_prazo', 'performance_prioridade_envio'],\n",
       "      dtype='object')"
      ]
     },
     "execution_count": 67,
     "metadata": {},
     "output_type": "execute_result"
    }
   ],
   "source": [
    "df_eng.columns"
   ]
  },
  {
   "cell_type": "code",
   "execution_count": 68,
   "id": "9802ff57",
   "metadata": {},
   "outputs": [
    {
     "data": {
      "text/plain": [
       "Navio       7212\n",
       "Aviao       1728\n",
       "Caminhao    1703\n",
       "Name: modo_envio, dtype: int64"
      ]
     },
     "execution_count": 68,
     "metadata": {},
     "output_type": "execute_result"
    }
   ],
   "source": [
    "df_eng.modo_envio.value_counts()"
   ]
  },
  {
   "cell_type": "code",
   "execution_count": 69,
   "id": "5584c242",
   "metadata": {},
   "outputs": [],
   "source": [
    "# Solução\n",
    "df_eng['performance_modo_envio'] = np.where(\n",
    "        (df_eng['prioridade_produto'] == 'alta') & (df_eng['modo_envio'] == 'Navio') & (df_eng['entregue_no_prazo'] == 0), \"Atraso Crítico na Entrega Por Navio\", \n",
    "    np.where(\n",
    "        (df_eng['prioridade_produto'] == 'media') & (df_eng['modo_envio'] == 'Navio') & (df_eng['entregue_no_prazo'] == 0), \"Atraso Problemático na Entrega Por Navio\",\n",
    "    np.where(\n",
    "        (df_eng['prioridade_produto'] == 'baixa') & (df_eng['modo_envio'] == 'Navio') & (df_eng['entregue_no_prazo'] == 0), \"Atraso Tolerável na Entrega Por Navio\", \n",
    "    np.where(\n",
    "        (df_eng['prioridade_produto'] == 'alta') & (df_eng['modo_envio'] == 'Aviao') & (df_eng['entregue_no_prazo'] == 0), \"Atraso Crítico na Entrega Por Aviao\", \n",
    "    np.where(\n",
    "        (df_eng['prioridade_produto'] == 'media') & (df_eng['modo_envio'] == 'Aviao') & (df_eng['entregue_no_prazo'] == 0), \"Atraso Problemático na Entrega Por Aviao\",\n",
    "    np.where(\n",
    "        (df_eng['prioridade_produto'] == 'baixa') & (df_eng['modo_envio'] == 'Aviao') & (df_eng['entregue_no_prazo'] == 0), \"Atraso Tolerável na Entrega Por Aviao\", \n",
    "    np.where(\n",
    "        (df_eng['prioridade_produto'] == 'alta') & (df_eng['modo_envio'] == 'Caminhao') & (df_eng['entregue_no_prazo'] == 0), \"Atraso Crítico na Entrega Por Caminhao\", \n",
    "    np.where(\n",
    "        (df_eng['prioridade_produto'] == 'media') & (df_eng['modo_envio'] == 'Caminhao') & (df_eng['entregue_no_prazo'] == 0), \"Atraso Problemático na Entrega Por Caminhao\",\n",
    "    np.where(\n",
    "        (df_eng['prioridade_produto'] == 'baixa') & (df_eng['modo_envio'] == 'Caminhao') & (df_eng['entregue_no_prazo'] == 0), \"Atraso Tolerável na Entrega Por Caminhao\", \n",
    "    \"Não Houve Atraso\")))))))))"
   ]
  },
  {
   "cell_type": "code",
   "execution_count": 70,
   "id": "ae814a3a",
   "metadata": {},
   "outputs": [
    {
     "data": {
      "text/html": [
       "<div>\n",
       "<style scoped>\n",
       "    .dataframe tbody tr th:only-of-type {\n",
       "        vertical-align: middle;\n",
       "    }\n",
       "\n",
       "    .dataframe tbody tr th {\n",
       "        vertical-align: top;\n",
       "    }\n",
       "\n",
       "    .dataframe thead th {\n",
       "        text-align: right;\n",
       "    }\n",
       "</style>\n",
       "<table border=\"1\" class=\"dataframe\">\n",
       "  <thead>\n",
       "    <tr style=\"text-align: right;\">\n",
       "      <th></th>\n",
       "      <th>ID</th>\n",
       "      <th>corredor_armazem</th>\n",
       "      <th>modo_envio</th>\n",
       "      <th>numero_chamadas_cliente</th>\n",
       "      <th>avaliacao_cliente</th>\n",
       "      <th>custo_produto</th>\n",
       "      <th>compras_anteriores</th>\n",
       "      <th>prioridade_produto</th>\n",
       "      <th>genero</th>\n",
       "      <th>desconto</th>\n",
       "      <th>peso_gramas</th>\n",
       "      <th>entregue_no_prazo</th>\n",
       "      <th>performance_prioridade_envio</th>\n",
       "      <th>performance_modo_envio</th>\n",
       "    </tr>\n",
       "  </thead>\n",
       "  <tbody>\n",
       "    <tr>\n",
       "      <th>7284</th>\n",
       "      <td>7285</td>\n",
       "      <td>D</td>\n",
       "      <td>Navio</td>\n",
       "      <td>5</td>\n",
       "      <td>4</td>\n",
       "      <td>257</td>\n",
       "      <td>2</td>\n",
       "      <td>media</td>\n",
       "      <td>M</td>\n",
       "      <td>10</td>\n",
       "      <td>5095</td>\n",
       "      <td>0</td>\n",
       "      <td>Atraso Problemático</td>\n",
       "      <td>Atraso Problemático na Entrega Por Navio</td>\n",
       "    </tr>\n",
       "    <tr>\n",
       "      <th>8729</th>\n",
       "      <td>8730</td>\n",
       "      <td>F</td>\n",
       "      <td>Navio</td>\n",
       "      <td>4</td>\n",
       "      <td>4</td>\n",
       "      <td>239</td>\n",
       "      <td>3</td>\n",
       "      <td>media</td>\n",
       "      <td>M</td>\n",
       "      <td>6</td>\n",
       "      <td>5632</td>\n",
       "      <td>0</td>\n",
       "      <td>Atraso Problemático</td>\n",
       "      <td>Atraso Problemático na Entrega Por Navio</td>\n",
       "    </tr>\n",
       "    <tr>\n",
       "      <th>7718</th>\n",
       "      <td>7719</td>\n",
       "      <td>A</td>\n",
       "      <td>Navio</td>\n",
       "      <td>3</td>\n",
       "      <td>3</td>\n",
       "      <td>183</td>\n",
       "      <td>5</td>\n",
       "      <td>baixa</td>\n",
       "      <td>F</td>\n",
       "      <td>3</td>\n",
       "      <td>1504</td>\n",
       "      <td>0</td>\n",
       "      <td>Atraso Tolerável</td>\n",
       "      <td>Atraso Tolerável na Entrega Por Navio</td>\n",
       "    </tr>\n",
       "    <tr>\n",
       "      <th>10700</th>\n",
       "      <td>10701</td>\n",
       "      <td>A</td>\n",
       "      <td>Aviao</td>\n",
       "      <td>2</td>\n",
       "      <td>5</td>\n",
       "      <td>277</td>\n",
       "      <td>3</td>\n",
       "      <td>media</td>\n",
       "      <td>F</td>\n",
       "      <td>6</td>\n",
       "      <td>1057</td>\n",
       "      <td>0</td>\n",
       "      <td>Atraso Problemático</td>\n",
       "      <td>Atraso Problemático na Entrega Por Aviao</td>\n",
       "    </tr>\n",
       "    <tr>\n",
       "      <th>3545</th>\n",
       "      <td>3546</td>\n",
       "      <td>F</td>\n",
       "      <td>Caminhao</td>\n",
       "      <td>4</td>\n",
       "      <td>3</td>\n",
       "      <td>186</td>\n",
       "      <td>3</td>\n",
       "      <td>baixa</td>\n",
       "      <td>M</td>\n",
       "      <td>7</td>\n",
       "      <td>5156</td>\n",
       "      <td>1</td>\n",
       "      <td>Não Houve Atraso</td>\n",
       "      <td>Não Houve Atraso</td>\n",
       "    </tr>\n",
       "  </tbody>\n",
       "</table>\n",
       "</div>"
      ],
      "text/plain": [
       "          ID corredor_armazem modo_envio  numero_chamadas_cliente  \\\n",
       "7284    7285                D      Navio                        5   \n",
       "8729    8730                F      Navio                        4   \n",
       "7718    7719                A      Navio                        3   \n",
       "10700  10701                A      Aviao                        2   \n",
       "3545    3546                F   Caminhao                        4   \n",
       "\n",
       "       avaliacao_cliente  custo_produto  compras_anteriores  \\\n",
       "7284                   4            257                   2   \n",
       "8729                   4            239                   3   \n",
       "7718                   3            183                   5   \n",
       "10700                  5            277                   3   \n",
       "3545                   3            186                   3   \n",
       "\n",
       "      prioridade_produto genero  desconto  peso_gramas  entregue_no_prazo  \\\n",
       "7284               media      M        10         5095                  0   \n",
       "8729               media      M         6         5632                  0   \n",
       "7718               baixa      F         3         1504                  0   \n",
       "10700              media      F         6         1057                  0   \n",
       "3545               baixa      M         7         5156                  1   \n",
       "\n",
       "      performance_prioridade_envio                    performance_modo_envio  \n",
       "7284           Atraso Problemático  Atraso Problemático na Entrega Por Navio  \n",
       "8729           Atraso Problemático  Atraso Problemático na Entrega Por Navio  \n",
       "7718              Atraso Tolerável     Atraso Tolerável na Entrega Por Navio  \n",
       "10700          Atraso Problemático  Atraso Problemático na Entrega Por Aviao  \n",
       "3545              Não Houve Atraso                          Não Houve Atraso  "
      ]
     },
     "execution_count": 70,
     "metadata": {},
     "output_type": "execute_result"
    }
   ],
   "source": [
    "df_eng.sample(5)"
   ]
  },
  {
   "cell_type": "code",
   "execution_count": 71,
   "id": "63374f92",
   "metadata": {},
   "outputs": [
    {
     "data": {
      "text/plain": [
       "Não Houve Atraso                               6282\n",
       "Atraso Tolerável na Entrega Por Navio          1453\n",
       "Atraso Problemático na Entrega Por Navio       1307\n",
       "Atraso Tolerável na Entrega Por Caminhao        350\n",
       "Atraso Tolerável na Entrega Por Aviao           331\n",
       "Atraso Problemático na Entrega Por Caminhao     310\n",
       "Atraso Problemático na Entrega Por Aviao        300\n",
       "Atraso Crítico na Entrega Por Navio             194\n",
       "Atraso Crítico na Entrega Por Aviao              65\n",
       "Atraso Crítico na Entrega Por Caminhao           51\n",
       "Name: performance_modo_envio, dtype: int64"
      ]
     },
     "execution_count": 71,
     "metadata": {},
     "output_type": "execute_result"
    }
   ],
   "source": [
    "df_eng.performance_modo_envio.value_counts()"
   ]
  },
  {
   "cell_type": "code",
   "execution_count": 72,
   "id": "ac443456",
   "metadata": {},
   "outputs": [
    {
     "data": {
      "text/html": [
       "<div>\n",
       "<style scoped>\n",
       "    .dataframe tbody tr th:only-of-type {\n",
       "        vertical-align: middle;\n",
       "    }\n",
       "\n",
       "    .dataframe tbody tr th {\n",
       "        vertical-align: top;\n",
       "    }\n",
       "\n",
       "    .dataframe thead tr th {\n",
       "        text-align: left;\n",
       "    }\n",
       "</style>\n",
       "<table border=\"1\" class=\"dataframe\">\n",
       "  <thead>\n",
       "    <tr>\n",
       "      <th></th>\n",
       "      <th>performance_modo_envio</th>\n",
       "      <th>entregue_no_prazo</th>\n",
       "      <th>prioridade_produto</th>\n",
       "    </tr>\n",
       "    <tr>\n",
       "      <th></th>\n",
       "      <th></th>\n",
       "      <th></th>\n",
       "      <th>count</th>\n",
       "    </tr>\n",
       "  </thead>\n",
       "  <tbody>\n",
       "    <tr>\n",
       "      <th>0</th>\n",
       "      <td>Atraso Crítico na Entrega Por Aviao</td>\n",
       "      <td>0</td>\n",
       "      <td>65</td>\n",
       "    </tr>\n",
       "    <tr>\n",
       "      <th>1</th>\n",
       "      <td>Atraso Crítico na Entrega Por Caminhao</td>\n",
       "      <td>0</td>\n",
       "      <td>51</td>\n",
       "    </tr>\n",
       "    <tr>\n",
       "      <th>2</th>\n",
       "      <td>Atraso Crítico na Entrega Por Navio</td>\n",
       "      <td>0</td>\n",
       "      <td>194</td>\n",
       "    </tr>\n",
       "    <tr>\n",
       "      <th>3</th>\n",
       "      <td>Atraso Problemático na Entrega Por Aviao</td>\n",
       "      <td>0</td>\n",
       "      <td>300</td>\n",
       "    </tr>\n",
       "    <tr>\n",
       "      <th>4</th>\n",
       "      <td>Atraso Problemático na Entrega Por Caminhao</td>\n",
       "      <td>0</td>\n",
       "      <td>310</td>\n",
       "    </tr>\n",
       "    <tr>\n",
       "      <th>5</th>\n",
       "      <td>Atraso Problemático na Entrega Por Navio</td>\n",
       "      <td>0</td>\n",
       "      <td>1307</td>\n",
       "    </tr>\n",
       "    <tr>\n",
       "      <th>6</th>\n",
       "      <td>Atraso Tolerável na Entrega Por Aviao</td>\n",
       "      <td>0</td>\n",
       "      <td>331</td>\n",
       "    </tr>\n",
       "    <tr>\n",
       "      <th>7</th>\n",
       "      <td>Atraso Tolerável na Entrega Por Caminhao</td>\n",
       "      <td>0</td>\n",
       "      <td>350</td>\n",
       "    </tr>\n",
       "    <tr>\n",
       "      <th>8</th>\n",
       "      <td>Atraso Tolerável na Entrega Por Navio</td>\n",
       "      <td>0</td>\n",
       "      <td>1453</td>\n",
       "    </tr>\n",
       "    <tr>\n",
       "      <th>9</th>\n",
       "      <td>Não Houve Atraso</td>\n",
       "      <td>1</td>\n",
       "      <td>6282</td>\n",
       "    </tr>\n",
       "  </tbody>\n",
       "</table>\n",
       "</div>"
      ],
      "text/plain": [
       "                        performance_modo_envio entregue_no_prazo  \\\n",
       "                                                                   \n",
       "0          Atraso Crítico na Entrega Por Aviao                 0   \n",
       "1       Atraso Crítico na Entrega Por Caminhao                 0   \n",
       "2          Atraso Crítico na Entrega Por Navio                 0   \n",
       "3     Atraso Problemático na Entrega Por Aviao                 0   \n",
       "4  Atraso Problemático na Entrega Por Caminhao                 0   \n",
       "5     Atraso Problemático na Entrega Por Navio                 0   \n",
       "6        Atraso Tolerável na Entrega Por Aviao                 0   \n",
       "7     Atraso Tolerável na Entrega Por Caminhao                 0   \n",
       "8        Atraso Tolerável na Entrega Por Navio                 0   \n",
       "9                             Não Houve Atraso                 1   \n",
       "\n",
       "  prioridade_produto  \n",
       "               count  \n",
       "0                 65  \n",
       "1                 51  \n",
       "2                194  \n",
       "3                300  \n",
       "4                310  \n",
       "5               1307  \n",
       "6                331  \n",
       "7                350  \n",
       "8               1453  \n",
       "9               6282  "
      ]
     },
     "execution_count": 72,
     "metadata": {},
     "output_type": "execute_result"
    }
   ],
   "source": [
    "# Agrupamos os dados para análise\n",
    "df_report2 = df_eng.groupby(['performance_modo_envio', \n",
    "                             'entregue_no_prazo']).agg({'prioridade_produto': ['count']}).reset_index()\n",
    "df_report2.head(10)"
   ]
  },
  {
   "cell_type": "code",
   "execution_count": 73,
   "id": "74a1efe0",
   "metadata": {},
   "outputs": [
    {
     "data": {
      "text/html": [
       "<div>\n",
       "<style scoped>\n",
       "    .dataframe tbody tr th:only-of-type {\n",
       "        vertical-align: middle;\n",
       "    }\n",
       "\n",
       "    .dataframe tbody tr th {\n",
       "        vertical-align: top;\n",
       "    }\n",
       "\n",
       "    .dataframe thead th {\n",
       "        text-align: right;\n",
       "    }\n",
       "</style>\n",
       "<table border=\"1\" class=\"dataframe\">\n",
       "  <thead>\n",
       "    <tr style=\"text-align: right;\">\n",
       "      <th></th>\n",
       "      <th>performance_modo_envio</th>\n",
       "      <th>entregue_no_prazo</th>\n",
       "      <th>contagem</th>\n",
       "    </tr>\n",
       "  </thead>\n",
       "  <tbody>\n",
       "    <tr>\n",
       "      <th>0</th>\n",
       "      <td>Atraso Crítico na Entrega Por Aviao</td>\n",
       "      <td>0</td>\n",
       "      <td>65</td>\n",
       "    </tr>\n",
       "    <tr>\n",
       "      <th>1</th>\n",
       "      <td>Atraso Crítico na Entrega Por Caminhao</td>\n",
       "      <td>0</td>\n",
       "      <td>51</td>\n",
       "    </tr>\n",
       "    <tr>\n",
       "      <th>2</th>\n",
       "      <td>Atraso Crítico na Entrega Por Navio</td>\n",
       "      <td>0</td>\n",
       "      <td>194</td>\n",
       "    </tr>\n",
       "    <tr>\n",
       "      <th>3</th>\n",
       "      <td>Atraso Problemático na Entrega Por Aviao</td>\n",
       "      <td>0</td>\n",
       "      <td>300</td>\n",
       "    </tr>\n",
       "    <tr>\n",
       "      <th>4</th>\n",
       "      <td>Atraso Problemático na Entrega Por Caminhao</td>\n",
       "      <td>0</td>\n",
       "      <td>310</td>\n",
       "    </tr>\n",
       "    <tr>\n",
       "      <th>5</th>\n",
       "      <td>Atraso Problemático na Entrega Por Navio</td>\n",
       "      <td>0</td>\n",
       "      <td>1307</td>\n",
       "    </tr>\n",
       "    <tr>\n",
       "      <th>6</th>\n",
       "      <td>Atraso Tolerável na Entrega Por Aviao</td>\n",
       "      <td>0</td>\n",
       "      <td>331</td>\n",
       "    </tr>\n",
       "    <tr>\n",
       "      <th>7</th>\n",
       "      <td>Atraso Tolerável na Entrega Por Caminhao</td>\n",
       "      <td>0</td>\n",
       "      <td>350</td>\n",
       "    </tr>\n",
       "    <tr>\n",
       "      <th>8</th>\n",
       "      <td>Atraso Tolerável na Entrega Por Navio</td>\n",
       "      <td>0</td>\n",
       "      <td>1453</td>\n",
       "    </tr>\n",
       "    <tr>\n",
       "      <th>9</th>\n",
       "      <td>Não Houve Atraso</td>\n",
       "      <td>1</td>\n",
       "      <td>6282</td>\n",
       "    </tr>\n",
       "  </tbody>\n",
       "</table>\n",
       "</div>"
      ],
      "text/plain": [
       "                        performance_modo_envio  entregue_no_prazo  contagem\n",
       "0          Atraso Crítico na Entrega Por Aviao                  0        65\n",
       "1       Atraso Crítico na Entrega Por Caminhao                  0        51\n",
       "2          Atraso Crítico na Entrega Por Navio                  0       194\n",
       "3     Atraso Problemático na Entrega Por Aviao                  0       300\n",
       "4  Atraso Problemático na Entrega Por Caminhao                  0       310\n",
       "5     Atraso Problemático na Entrega Por Navio                  0      1307\n",
       "6        Atraso Tolerável na Entrega Por Aviao                  0       331\n",
       "7     Atraso Tolerável na Entrega Por Caminhao                  0       350\n",
       "8        Atraso Tolerável na Entrega Por Navio                  0      1453\n",
       "9                             Não Houve Atraso                  1      6282"
      ]
     },
     "execution_count": 73,
     "metadata": {},
     "output_type": "execute_result"
    }
   ],
   "source": [
    "df_report2.columns = ['performance_modo_envio', 'entregue_no_prazo', 'contagem']\n",
    "df_report2.head(10)"
   ]
  },
  {
   "cell_type": "code",
   "execution_count": 74,
   "id": "315beb12",
   "metadata": {},
   "outputs": [
    {
     "data": {
      "text/html": [
       "<div>\n",
       "<style scoped>\n",
       "    .dataframe tbody tr th:only-of-type {\n",
       "        vertical-align: middle;\n",
       "    }\n",
       "\n",
       "    .dataframe tbody tr th {\n",
       "        vertical-align: top;\n",
       "    }\n",
       "\n",
       "    .dataframe thead th {\n",
       "        text-align: right;\n",
       "    }\n",
       "</style>\n",
       "<table border=\"1\" class=\"dataframe\">\n",
       "  <thead>\n",
       "    <tr style=\"text-align: right;\">\n",
       "      <th>entregue_no_prazo</th>\n",
       "      <th>performance_modo_envio</th>\n",
       "      <th>0</th>\n",
       "      <th>1</th>\n",
       "    </tr>\n",
       "  </thead>\n",
       "  <tbody>\n",
       "    <tr>\n",
       "      <th>0</th>\n",
       "      <td>Atraso Crítico na Entrega Por Aviao</td>\n",
       "      <td>65.0</td>\n",
       "      <td>NaN</td>\n",
       "    </tr>\n",
       "    <tr>\n",
       "      <th>1</th>\n",
       "      <td>Atraso Crítico na Entrega Por Caminhao</td>\n",
       "      <td>51.0</td>\n",
       "      <td>NaN</td>\n",
       "    </tr>\n",
       "    <tr>\n",
       "      <th>2</th>\n",
       "      <td>Atraso Crítico na Entrega Por Navio</td>\n",
       "      <td>194.0</td>\n",
       "      <td>NaN</td>\n",
       "    </tr>\n",
       "    <tr>\n",
       "      <th>3</th>\n",
       "      <td>Atraso Problemático na Entrega Por Aviao</td>\n",
       "      <td>300.0</td>\n",
       "      <td>NaN</td>\n",
       "    </tr>\n",
       "    <tr>\n",
       "      <th>4</th>\n",
       "      <td>Atraso Problemático na Entrega Por Caminhao</td>\n",
       "      <td>310.0</td>\n",
       "      <td>NaN</td>\n",
       "    </tr>\n",
       "    <tr>\n",
       "      <th>5</th>\n",
       "      <td>Atraso Problemático na Entrega Por Navio</td>\n",
       "      <td>1307.0</td>\n",
       "      <td>NaN</td>\n",
       "    </tr>\n",
       "    <tr>\n",
       "      <th>6</th>\n",
       "      <td>Atraso Tolerável na Entrega Por Aviao</td>\n",
       "      <td>331.0</td>\n",
       "      <td>NaN</td>\n",
       "    </tr>\n",
       "    <tr>\n",
       "      <th>7</th>\n",
       "      <td>Atraso Tolerável na Entrega Por Caminhao</td>\n",
       "      <td>350.0</td>\n",
       "      <td>NaN</td>\n",
       "    </tr>\n",
       "    <tr>\n",
       "      <th>8</th>\n",
       "      <td>Atraso Tolerável na Entrega Por Navio</td>\n",
       "      <td>1453.0</td>\n",
       "      <td>NaN</td>\n",
       "    </tr>\n",
       "    <tr>\n",
       "      <th>9</th>\n",
       "      <td>Não Houve Atraso</td>\n",
       "      <td>NaN</td>\n",
       "      <td>6282.0</td>\n",
       "    </tr>\n",
       "  </tbody>\n",
       "</table>\n",
       "</div>"
      ],
      "text/plain": [
       "entregue_no_prazo                       performance_modo_envio       0       1\n",
       "0                          Atraso Crítico na Entrega Por Aviao    65.0     NaN\n",
       "1                       Atraso Crítico na Entrega Por Caminhao    51.0     NaN\n",
       "2                          Atraso Crítico na Entrega Por Navio   194.0     NaN\n",
       "3                     Atraso Problemático na Entrega Por Aviao   300.0     NaN\n",
       "4                  Atraso Problemático na Entrega Por Caminhao   310.0     NaN\n",
       "5                     Atraso Problemático na Entrega Por Navio  1307.0     NaN\n",
       "6                        Atraso Tolerável na Entrega Por Aviao   331.0     NaN\n",
       "7                     Atraso Tolerável na Entrega Por Caminhao   350.0     NaN\n",
       "8                        Atraso Tolerável na Entrega Por Navio  1453.0     NaN\n",
       "9                                             Não Houve Atraso     NaN  6282.0"
      ]
     },
     "execution_count": 74,
     "metadata": {},
     "output_type": "execute_result"
    }
   ],
   "source": [
    "# Pivot\n",
    "df_report2 = pd.pivot_table(df_report2,\n",
    "                            index = 'performance_modo_envio',\n",
    "                            columns = 'entregue_no_prazo',\n",
    "                            values = 'contagem').reset_index()\n",
    "df_report2.head(10)"
   ]
  },
  {
   "cell_type": "code",
   "execution_count": 75,
   "id": "ff88ac2f",
   "metadata": {},
   "outputs": [
    {
     "data": {
      "text/html": [
       "<div>\n",
       "<style scoped>\n",
       "    .dataframe tbody tr th:only-of-type {\n",
       "        vertical-align: middle;\n",
       "    }\n",
       "\n",
       "    .dataframe tbody tr th {\n",
       "        vertical-align: top;\n",
       "    }\n",
       "\n",
       "    .dataframe thead th {\n",
       "        text-align: right;\n",
       "    }\n",
       "</style>\n",
       "<table border=\"1\" class=\"dataframe\">\n",
       "  <thead>\n",
       "    <tr style=\"text-align: right;\">\n",
       "      <th></th>\n",
       "      <th>Status do Envio</th>\n",
       "      <th>Total Atraso</th>\n",
       "      <th>Total no Prazo</th>\n",
       "    </tr>\n",
       "  </thead>\n",
       "  <tbody>\n",
       "    <tr>\n",
       "      <th>0</th>\n",
       "      <td>Atraso Crítico na Entrega Por Aviao</td>\n",
       "      <td>65.0</td>\n",
       "      <td>NaN</td>\n",
       "    </tr>\n",
       "    <tr>\n",
       "      <th>1</th>\n",
       "      <td>Atraso Crítico na Entrega Por Caminhao</td>\n",
       "      <td>51.0</td>\n",
       "      <td>NaN</td>\n",
       "    </tr>\n",
       "    <tr>\n",
       "      <th>2</th>\n",
       "      <td>Atraso Crítico na Entrega Por Navio</td>\n",
       "      <td>194.0</td>\n",
       "      <td>NaN</td>\n",
       "    </tr>\n",
       "    <tr>\n",
       "      <th>3</th>\n",
       "      <td>Atraso Problemático na Entrega Por Aviao</td>\n",
       "      <td>300.0</td>\n",
       "      <td>NaN</td>\n",
       "    </tr>\n",
       "    <tr>\n",
       "      <th>4</th>\n",
       "      <td>Atraso Problemático na Entrega Por Caminhao</td>\n",
       "      <td>310.0</td>\n",
       "      <td>NaN</td>\n",
       "    </tr>\n",
       "    <tr>\n",
       "      <th>5</th>\n",
       "      <td>Atraso Problemático na Entrega Por Navio</td>\n",
       "      <td>1307.0</td>\n",
       "      <td>NaN</td>\n",
       "    </tr>\n",
       "    <tr>\n",
       "      <th>6</th>\n",
       "      <td>Atraso Tolerável na Entrega Por Aviao</td>\n",
       "      <td>331.0</td>\n",
       "      <td>NaN</td>\n",
       "    </tr>\n",
       "    <tr>\n",
       "      <th>7</th>\n",
       "      <td>Atraso Tolerável na Entrega Por Caminhao</td>\n",
       "      <td>350.0</td>\n",
       "      <td>NaN</td>\n",
       "    </tr>\n",
       "    <tr>\n",
       "      <th>8</th>\n",
       "      <td>Atraso Tolerável na Entrega Por Navio</td>\n",
       "      <td>1453.0</td>\n",
       "      <td>NaN</td>\n",
       "    </tr>\n",
       "    <tr>\n",
       "      <th>9</th>\n",
       "      <td>Não Houve Atraso</td>\n",
       "      <td>NaN</td>\n",
       "      <td>6282.0</td>\n",
       "    </tr>\n",
       "  </tbody>\n",
       "</table>\n",
       "</div>"
      ],
      "text/plain": [
       "                               Status do Envio  Total Atraso  Total no Prazo\n",
       "0          Atraso Crítico na Entrega Por Aviao          65.0             NaN\n",
       "1       Atraso Crítico na Entrega Por Caminhao          51.0             NaN\n",
       "2          Atraso Crítico na Entrega Por Navio         194.0             NaN\n",
       "3     Atraso Problemático na Entrega Por Aviao         300.0             NaN\n",
       "4  Atraso Problemático na Entrega Por Caminhao         310.0             NaN\n",
       "5     Atraso Problemático na Entrega Por Navio        1307.0             NaN\n",
       "6        Atraso Tolerável na Entrega Por Aviao         331.0             NaN\n",
       "7     Atraso Tolerável na Entrega Por Caminhao         350.0             NaN\n",
       "8        Atraso Tolerável na Entrega Por Navio        1453.0             NaN\n",
       "9                             Não Houve Atraso           NaN          6282.0"
      ]
     },
     "execution_count": 75,
     "metadata": {},
     "output_type": "execute_result"
    }
   ],
   "source": [
    "df_report2.columns = ['Status do Envio', 'Total Atraso', 'Total no Prazo']\n",
    "df_report2.head(10)"
   ]
  },
  {
   "cell_type": "code",
   "execution_count": 76,
   "id": "e9eeb7ca",
   "metadata": {},
   "outputs": [
    {
     "data": {
      "text/html": [
       "<div>\n",
       "<style scoped>\n",
       "    .dataframe tbody tr th:only-of-type {\n",
       "        vertical-align: middle;\n",
       "    }\n",
       "\n",
       "    .dataframe tbody tr th {\n",
       "        vertical-align: top;\n",
       "    }\n",
       "\n",
       "    .dataframe thead th {\n",
       "        text-align: right;\n",
       "    }\n",
       "</style>\n",
       "<table border=\"1\" class=\"dataframe\">\n",
       "  <thead>\n",
       "    <tr style=\"text-align: right;\">\n",
       "      <th></th>\n",
       "      <th>Status do Envio</th>\n",
       "      <th>Total Atraso</th>\n",
       "      <th>Total no Prazo</th>\n",
       "    </tr>\n",
       "  </thead>\n",
       "  <tbody>\n",
       "    <tr>\n",
       "      <th>0</th>\n",
       "      <td>Atraso Crítico na Entrega Por Aviao</td>\n",
       "      <td>65.0</td>\n",
       "      <td>0.0</td>\n",
       "    </tr>\n",
       "    <tr>\n",
       "      <th>1</th>\n",
       "      <td>Atraso Crítico na Entrega Por Caminhao</td>\n",
       "      <td>51.0</td>\n",
       "      <td>0.0</td>\n",
       "    </tr>\n",
       "    <tr>\n",
       "      <th>2</th>\n",
       "      <td>Atraso Crítico na Entrega Por Navio</td>\n",
       "      <td>194.0</td>\n",
       "      <td>0.0</td>\n",
       "    </tr>\n",
       "    <tr>\n",
       "      <th>3</th>\n",
       "      <td>Atraso Problemático na Entrega Por Aviao</td>\n",
       "      <td>300.0</td>\n",
       "      <td>0.0</td>\n",
       "    </tr>\n",
       "    <tr>\n",
       "      <th>4</th>\n",
       "      <td>Atraso Problemático na Entrega Por Caminhao</td>\n",
       "      <td>310.0</td>\n",
       "      <td>0.0</td>\n",
       "    </tr>\n",
       "    <tr>\n",
       "      <th>5</th>\n",
       "      <td>Atraso Problemático na Entrega Por Navio</td>\n",
       "      <td>1307.0</td>\n",
       "      <td>0.0</td>\n",
       "    </tr>\n",
       "    <tr>\n",
       "      <th>6</th>\n",
       "      <td>Atraso Tolerável na Entrega Por Aviao</td>\n",
       "      <td>331.0</td>\n",
       "      <td>0.0</td>\n",
       "    </tr>\n",
       "    <tr>\n",
       "      <th>7</th>\n",
       "      <td>Atraso Tolerável na Entrega Por Caminhao</td>\n",
       "      <td>350.0</td>\n",
       "      <td>0.0</td>\n",
       "    </tr>\n",
       "    <tr>\n",
       "      <th>8</th>\n",
       "      <td>Atraso Tolerável na Entrega Por Navio</td>\n",
       "      <td>1453.0</td>\n",
       "      <td>0.0</td>\n",
       "    </tr>\n",
       "    <tr>\n",
       "      <th>9</th>\n",
       "      <td>Não Houve Atraso</td>\n",
       "      <td>0.0</td>\n",
       "      <td>6282.0</td>\n",
       "    </tr>\n",
       "  </tbody>\n",
       "</table>\n",
       "</div>"
      ],
      "text/plain": [
       "                               Status do Envio  Total Atraso  Total no Prazo\n",
       "0          Atraso Crítico na Entrega Por Aviao          65.0             0.0\n",
       "1       Atraso Crítico na Entrega Por Caminhao          51.0             0.0\n",
       "2          Atraso Crítico na Entrega Por Navio         194.0             0.0\n",
       "3     Atraso Problemático na Entrega Por Aviao         300.0             0.0\n",
       "4  Atraso Problemático na Entrega Por Caminhao         310.0             0.0\n",
       "5     Atraso Problemático na Entrega Por Navio        1307.0             0.0\n",
       "6        Atraso Tolerável na Entrega Por Aviao         331.0             0.0\n",
       "7     Atraso Tolerável na Entrega Por Caminhao         350.0             0.0\n",
       "8        Atraso Tolerável na Entrega Por Navio        1453.0             0.0\n",
       "9                             Não Houve Atraso           0.0          6282.0"
      ]
     },
     "execution_count": 76,
     "metadata": {},
     "output_type": "execute_result"
    }
   ],
   "source": [
    "# Replace do valor nan por zero\n",
    "df_report2['Total Atraso'] = df_report2['Total Atraso'].replace(np.nan, 0)\n",
    "df_report2['Total no Prazo'] = df_report2['Total no Prazo'].replace(np.nan, 0)\n",
    "df_report2.head(10)"
   ]
  },
  {
   "cell_type": "code",
   "execution_count": 77,
   "id": "e9edb496",
   "metadata": {},
   "outputs": [
    {
     "data": {
      "text/html": [
       "<div>\n",
       "<style scoped>\n",
       "    .dataframe tbody tr th:only-of-type {\n",
       "        vertical-align: middle;\n",
       "    }\n",
       "\n",
       "    .dataframe tbody tr th {\n",
       "        vertical-align: top;\n",
       "    }\n",
       "\n",
       "    .dataframe thead th {\n",
       "        text-align: right;\n",
       "    }\n",
       "</style>\n",
       "<table border=\"1\" class=\"dataframe\">\n",
       "  <thead>\n",
       "    <tr style=\"text-align: right;\">\n",
       "      <th></th>\n",
       "      <th>Status do Envio</th>\n",
       "      <th>Total Atraso</th>\n",
       "      <th>Total no Prazo</th>\n",
       "      <th>Total</th>\n",
       "    </tr>\n",
       "  </thead>\n",
       "  <tbody>\n",
       "    <tr>\n",
       "      <th>0</th>\n",
       "      <td>Atraso Crítico na Entrega Por Aviao</td>\n",
       "      <td>65.0</td>\n",
       "      <td>0.0</td>\n",
       "      <td>65.0</td>\n",
       "    </tr>\n",
       "    <tr>\n",
       "      <th>1</th>\n",
       "      <td>Atraso Crítico na Entrega Por Caminhao</td>\n",
       "      <td>51.0</td>\n",
       "      <td>0.0</td>\n",
       "      <td>51.0</td>\n",
       "    </tr>\n",
       "    <tr>\n",
       "      <th>2</th>\n",
       "      <td>Atraso Crítico na Entrega Por Navio</td>\n",
       "      <td>194.0</td>\n",
       "      <td>0.0</td>\n",
       "      <td>194.0</td>\n",
       "    </tr>\n",
       "    <tr>\n",
       "      <th>3</th>\n",
       "      <td>Atraso Problemático na Entrega Por Aviao</td>\n",
       "      <td>300.0</td>\n",
       "      <td>0.0</td>\n",
       "      <td>300.0</td>\n",
       "    </tr>\n",
       "    <tr>\n",
       "      <th>4</th>\n",
       "      <td>Atraso Problemático na Entrega Por Caminhao</td>\n",
       "      <td>310.0</td>\n",
       "      <td>0.0</td>\n",
       "      <td>310.0</td>\n",
       "    </tr>\n",
       "    <tr>\n",
       "      <th>5</th>\n",
       "      <td>Atraso Problemático na Entrega Por Navio</td>\n",
       "      <td>1307.0</td>\n",
       "      <td>0.0</td>\n",
       "      <td>1307.0</td>\n",
       "    </tr>\n",
       "    <tr>\n",
       "      <th>6</th>\n",
       "      <td>Atraso Tolerável na Entrega Por Aviao</td>\n",
       "      <td>331.0</td>\n",
       "      <td>0.0</td>\n",
       "      <td>331.0</td>\n",
       "    </tr>\n",
       "    <tr>\n",
       "      <th>7</th>\n",
       "      <td>Atraso Tolerável na Entrega Por Caminhao</td>\n",
       "      <td>350.0</td>\n",
       "      <td>0.0</td>\n",
       "      <td>350.0</td>\n",
       "    </tr>\n",
       "    <tr>\n",
       "      <th>8</th>\n",
       "      <td>Atraso Tolerável na Entrega Por Navio</td>\n",
       "      <td>1453.0</td>\n",
       "      <td>0.0</td>\n",
       "      <td>1453.0</td>\n",
       "    </tr>\n",
       "    <tr>\n",
       "      <th>9</th>\n",
       "      <td>Não Houve Atraso</td>\n",
       "      <td>0.0</td>\n",
       "      <td>6282.0</td>\n",
       "      <td>6282.0</td>\n",
       "    </tr>\n",
       "  </tbody>\n",
       "</table>\n",
       "</div>"
      ],
      "text/plain": [
       "                               Status do Envio  Total Atraso  Total no Prazo  \\\n",
       "0          Atraso Crítico na Entrega Por Aviao          65.0             0.0   \n",
       "1       Atraso Crítico na Entrega Por Caminhao          51.0             0.0   \n",
       "2          Atraso Crítico na Entrega Por Navio         194.0             0.0   \n",
       "3     Atraso Problemático na Entrega Por Aviao         300.0             0.0   \n",
       "4  Atraso Problemático na Entrega Por Caminhao         310.0             0.0   \n",
       "5     Atraso Problemático na Entrega Por Navio        1307.0             0.0   \n",
       "6        Atraso Tolerável na Entrega Por Aviao         331.0             0.0   \n",
       "7     Atraso Tolerável na Entrega Por Caminhao         350.0             0.0   \n",
       "8        Atraso Tolerável na Entrega Por Navio        1453.0             0.0   \n",
       "9                             Não Houve Atraso           0.0          6282.0   \n",
       "\n",
       "    Total  \n",
       "0    65.0  \n",
       "1    51.0  \n",
       "2   194.0  \n",
       "3   300.0  \n",
       "4   310.0  \n",
       "5  1307.0  \n",
       "6   331.0  \n",
       "7   350.0  \n",
       "8  1453.0  \n",
       "9  6282.0  "
      ]
     },
     "execution_count": 77,
     "metadata": {},
     "output_type": "execute_result"
    }
   ],
   "source": [
    "# Concatena colunas criando uma terceira variável\n",
    "df_report2[\"Total\"] = df_report2[\"Total Atraso\"] + df_report2[\"Total no Prazo\"]\n",
    "df_report2.head(10)"
   ]
  },
  {
   "cell_type": "code",
   "execution_count": 78,
   "id": "ed2e904c",
   "metadata": {},
   "outputs": [
    {
     "data": {
      "text/html": [
       "<div>\n",
       "<style scoped>\n",
       "    .dataframe tbody tr th:only-of-type {\n",
       "        vertical-align: middle;\n",
       "    }\n",
       "\n",
       "    .dataframe tbody tr th {\n",
       "        vertical-align: top;\n",
       "    }\n",
       "\n",
       "    .dataframe thead th {\n",
       "        text-align: right;\n",
       "    }\n",
       "</style>\n",
       "<table border=\"1\" class=\"dataframe\">\n",
       "  <thead>\n",
       "    <tr style=\"text-align: right;\">\n",
       "      <th></th>\n",
       "      <th>Status do Envio</th>\n",
       "      <th>Total</th>\n",
       "    </tr>\n",
       "  </thead>\n",
       "  <tbody>\n",
       "    <tr>\n",
       "      <th>0</th>\n",
       "      <td>Atraso Crítico na Entrega Por Aviao</td>\n",
       "      <td>65.0</td>\n",
       "    </tr>\n",
       "    <tr>\n",
       "      <th>1</th>\n",
       "      <td>Atraso Crítico na Entrega Por Caminhao</td>\n",
       "      <td>51.0</td>\n",
       "    </tr>\n",
       "    <tr>\n",
       "      <th>2</th>\n",
       "      <td>Atraso Crítico na Entrega Por Navio</td>\n",
       "      <td>194.0</td>\n",
       "    </tr>\n",
       "    <tr>\n",
       "      <th>3</th>\n",
       "      <td>Atraso Problemático na Entrega Por Aviao</td>\n",
       "      <td>300.0</td>\n",
       "    </tr>\n",
       "    <tr>\n",
       "      <th>4</th>\n",
       "      <td>Atraso Problemático na Entrega Por Caminhao</td>\n",
       "      <td>310.0</td>\n",
       "    </tr>\n",
       "    <tr>\n",
       "      <th>5</th>\n",
       "      <td>Atraso Problemático na Entrega Por Navio</td>\n",
       "      <td>1307.0</td>\n",
       "    </tr>\n",
       "    <tr>\n",
       "      <th>6</th>\n",
       "      <td>Atraso Tolerável na Entrega Por Aviao</td>\n",
       "      <td>331.0</td>\n",
       "    </tr>\n",
       "    <tr>\n",
       "      <th>7</th>\n",
       "      <td>Atraso Tolerável na Entrega Por Caminhao</td>\n",
       "      <td>350.0</td>\n",
       "    </tr>\n",
       "    <tr>\n",
       "      <th>8</th>\n",
       "      <td>Atraso Tolerável na Entrega Por Navio</td>\n",
       "      <td>1453.0</td>\n",
       "    </tr>\n",
       "    <tr>\n",
       "      <th>9</th>\n",
       "      <td>Não Houve Atraso</td>\n",
       "      <td>6282.0</td>\n",
       "    </tr>\n",
       "  </tbody>\n",
       "</table>\n",
       "</div>"
      ],
      "text/plain": [
       "                               Status do Envio   Total\n",
       "0          Atraso Crítico na Entrega Por Aviao    65.0\n",
       "1       Atraso Crítico na Entrega Por Caminhao    51.0\n",
       "2          Atraso Crítico na Entrega Por Navio   194.0\n",
       "3     Atraso Problemático na Entrega Por Aviao   300.0\n",
       "4  Atraso Problemático na Entrega Por Caminhao   310.0\n",
       "5     Atraso Problemático na Entrega Por Navio  1307.0\n",
       "6        Atraso Tolerável na Entrega Por Aviao   331.0\n",
       "7     Atraso Tolerável na Entrega Por Caminhao   350.0\n",
       "8        Atraso Tolerável na Entrega Por Navio  1453.0\n",
       "9                             Não Houve Atraso  6282.0"
      ]
     },
     "execution_count": 78,
     "metadata": {},
     "output_type": "execute_result"
    }
   ],
   "source": [
    "# Não precisamos mais dessas colunas. Vamos removê-las.\n",
    "df_report2.drop(df_report2.columns[[1, 2]], axis = 1, inplace = True)\n",
    "df_report2.head(10)"
   ]
  },
  {
   "cell_type": "code",
   "execution_count": 79,
   "id": "d26f99d5",
   "metadata": {},
   "outputs": [
    {
     "data": {
      "image/png": "[encoded data removed]",
      "text/plain": [
       "<Figure size 1440x576 with 1 Axes>"
      ]
     },
     "metadata": {
      "needs_background": "light"
     },
     "output_type": "display_data"
    }
   ],
   "source": [
    "# Plot\n",
    "df_report2.set_index(\"Status do Envio\").plot(kind = 'bar', \n",
    "                title = 'Total de Envios dos Produtos Por Status',\n",
    "                ylabel = 'Total', \n",
    "                xlabel = '\\nStatus do Envio',\n",
    "                colormap = 'viridis',\n",
    "                figsize = (20,8))\n",
    "plt.xticks(rotation = 80)\n",
    "plt.show()"
   ]
  },
  {
   "cell_type": "markdown",
   "id": "382fb243",
   "metadata": {},
   "source": [
    "### 3- Performance de Envio dos Produtos Considerando os Descontos\n",
    "\n",
    "Há diferença na performance de envio dos produtos quando o produto recebe algum tipo de desconto?\n",
    "\n",
    "Criaremos duas novas variáveis com base na seguinte regra de negócio:\n",
    "\n",
    "**Variável 1 - faixa_desconto**\n",
    "\n",
    "- Desconto acima ou igual à média\n",
    "- Desconto abaixo da média\n",
    "\n",
    "**Variável 2 - performance_faixa_desconto**\n",
    "\n",
    "- Se a faixa de desconto foi acima ou igual à média e houve atraso na entrega = \"Atraso na Entrega com Desconto Acima da Média\"\n",
    "\n",
    "- Se a faixa de desconto foi acima ou igual à e não houve atraso na entrega = \"Entrega no Prazo com Desconto Acima da Média\"\n",
    "\n",
    "- Se a faixa de desconto foi abaixo da média e houve atraso na entrega = \"Atraso na Entrega com Desconto Abaixo da Média\"\n",
    "\n",
    "- Se a faixa de desconto foi abaixo da média e não houve atraso na entrega = \"Entrega no Prazo com Desconto Abaixo da Média\""
   ]
  },
  {
   "cell_type": "code",
   "execution_count": 80,
   "id": "014017de",
   "metadata": {},
   "outputs": [
    {
     "data": {
      "text/html": [
       "<div>\n",
       "<style scoped>\n",
       "    .dataframe tbody tr th:only-of-type {\n",
       "        vertical-align: middle;\n",
       "    }\n",
       "\n",
       "    .dataframe tbody tr th {\n",
       "        vertical-align: top;\n",
       "    }\n",
       "\n",
       "    .dataframe thead th {\n",
       "        text-align: right;\n",
       "    }\n",
       "</style>\n",
       "<table border=\"1\" class=\"dataframe\">\n",
       "  <thead>\n",
       "    <tr style=\"text-align: right;\">\n",
       "      <th></th>\n",
       "      <th>ID</th>\n",
       "      <th>corredor_armazem</th>\n",
       "      <th>modo_envio</th>\n",
       "      <th>numero_chamadas_cliente</th>\n",
       "      <th>avaliacao_cliente</th>\n",
       "      <th>custo_produto</th>\n",
       "      <th>compras_anteriores</th>\n",
       "      <th>prioridade_produto</th>\n",
       "      <th>genero</th>\n",
       "      <th>desconto</th>\n",
       "      <th>peso_gramas</th>\n",
       "      <th>entregue_no_prazo</th>\n",
       "      <th>performance_prioridade_envio</th>\n",
       "      <th>performance_modo_envio</th>\n",
       "    </tr>\n",
       "  </thead>\n",
       "  <tbody>\n",
       "    <tr>\n",
       "      <th>9702</th>\n",
       "      <td>9703</td>\n",
       "      <td>D</td>\n",
       "      <td>Caminhao</td>\n",
       "      <td>6</td>\n",
       "      <td>3</td>\n",
       "      <td>264</td>\n",
       "      <td>4</td>\n",
       "      <td>media</td>\n",
       "      <td>F</td>\n",
       "      <td>3</td>\n",
       "      <td>1498</td>\n",
       "      <td>1</td>\n",
       "      <td>Não Houve Atraso</td>\n",
       "      <td>Não Houve Atraso</td>\n",
       "    </tr>\n",
       "    <tr>\n",
       "      <th>2573</th>\n",
       "      <td>2574</td>\n",
       "      <td>F</td>\n",
       "      <td>Navio</td>\n",
       "      <td>3</td>\n",
       "      <td>5</td>\n",
       "      <td>165</td>\n",
       "      <td>3</td>\n",
       "      <td>media</td>\n",
       "      <td>M</td>\n",
       "      <td>33</td>\n",
       "      <td>1500</td>\n",
       "      <td>1</td>\n",
       "      <td>Não Houve Atraso</td>\n",
       "      <td>Não Houve Atraso</td>\n",
       "    </tr>\n",
       "    <tr>\n",
       "      <th>4238</th>\n",
       "      <td>4239</td>\n",
       "      <td>A</td>\n",
       "      <td>Caminhao</td>\n",
       "      <td>2</td>\n",
       "      <td>5</td>\n",
       "      <td>273</td>\n",
       "      <td>2</td>\n",
       "      <td>alta</td>\n",
       "      <td>M</td>\n",
       "      <td>5</td>\n",
       "      <td>4236</td>\n",
       "      <td>0</td>\n",
       "      <td>Atraso Crítico</td>\n",
       "      <td>Atraso Crítico na Entrega Por Caminhao</td>\n",
       "    </tr>\n",
       "    <tr>\n",
       "      <th>8371</th>\n",
       "      <td>8372</td>\n",
       "      <td>F</td>\n",
       "      <td>Aviao</td>\n",
       "      <td>5</td>\n",
       "      <td>4</td>\n",
       "      <td>254</td>\n",
       "      <td>3</td>\n",
       "      <td>baixa</td>\n",
       "      <td>F</td>\n",
       "      <td>4</td>\n",
       "      <td>5611</td>\n",
       "      <td>1</td>\n",
       "      <td>Não Houve Atraso</td>\n",
       "      <td>Não Houve Atraso</td>\n",
       "    </tr>\n",
       "    <tr>\n",
       "      <th>4822</th>\n",
       "      <td>4823</td>\n",
       "      <td>C</td>\n",
       "      <td>Navio</td>\n",
       "      <td>6</td>\n",
       "      <td>3</td>\n",
       "      <td>260</td>\n",
       "      <td>4</td>\n",
       "      <td>media</td>\n",
       "      <td>M</td>\n",
       "      <td>9</td>\n",
       "      <td>1800</td>\n",
       "      <td>0</td>\n",
       "      <td>Atraso Problemático</td>\n",
       "      <td>Atraso Problemático na Entrega Por Navio</td>\n",
       "    </tr>\n",
       "  </tbody>\n",
       "</table>\n",
       "</div>"
      ],
      "text/plain": [
       "        ID corredor_armazem modo_envio  numero_chamadas_cliente  \\\n",
       "9702  9703                D   Caminhao                        6   \n",
       "2573  2574                F      Navio                        3   \n",
       "4238  4239                A   Caminhao                        2   \n",
       "8371  8372                F      Aviao                        5   \n",
       "4822  4823                C      Navio                        6   \n",
       "\n",
       "      avaliacao_cliente  custo_produto  compras_anteriores prioridade_produto  \\\n",
       "9702                  3            264                   4              media   \n",
       "2573                  5            165                   3              media   \n",
       "4238                  5            273                   2               alta   \n",
       "8371                  4            254                   3              baixa   \n",
       "4822                  3            260                   4              media   \n",
       "\n",
       "     genero  desconto  peso_gramas  entregue_no_prazo  \\\n",
       "9702      F         3         1498                  1   \n",
       "2573      M        33         1500                  1   \n",
       "4238      M         5         4236                  0   \n",
       "8371      F         4         5611                  1   \n",
       "4822      M         9         1800                  0   \n",
       "\n",
       "     performance_prioridade_envio                    performance_modo_envio  \n",
       "9702             Não Houve Atraso                          Não Houve Atraso  \n",
       "2573             Não Houve Atraso                          Não Houve Atraso  \n",
       "4238               Atraso Crítico    Atraso Crítico na Entrega Por Caminhao  \n",
       "8371             Não Houve Atraso                          Não Houve Atraso  \n",
       "4822          Atraso Problemático  Atraso Problemático na Entrega Por Navio  "
      ]
     },
     "execution_count": 80,
     "metadata": {},
     "output_type": "execute_result"
    }
   ],
   "source": [
    "df_eng.sample(5)"
   ]
  },
  {
   "cell_type": "code",
   "execution_count": 81,
   "id": "d7a16e7a",
   "metadata": {},
   "outputs": [
    {
     "data": {
      "text/plain": [
       "Index(['ID', 'corredor_armazem', 'modo_envio', 'numero_chamadas_cliente',\n",
       "       'avaliacao_cliente', 'custo_produto', 'compras_anteriores',\n",
       "       'prioridade_produto', 'genero', 'desconto', 'peso_gramas',\n",
       "       'entregue_no_prazo', 'performance_prioridade_envio',\n",
       "       'performance_modo_envio'],\n",
       "      dtype='object')"
      ]
     },
     "execution_count": 81,
     "metadata": {},
     "output_type": "execute_result"
    }
   ],
   "source": [
    "df_eng.columns"
   ]
  },
  {
   "cell_type": "code",
   "execution_count": 82,
   "id": "587466be",
   "metadata": {},
   "outputs": [
    {
     "data": {
      "text/plain": [
       "count    10643.000000\n",
       "mean        12.528047\n",
       "std         14.991968\n",
       "min          1.000000\n",
       "25%          4.000000\n",
       "50%          7.000000\n",
       "75%         10.000000\n",
       "max         61.000000\n",
       "Name: desconto, dtype: float64"
      ]
     },
     "execution_count": 82,
     "metadata": {},
     "output_type": "execute_result"
    }
   ],
   "source": [
    "df_eng.desconto.describe()"
   ]
  },
  {
   "cell_type": "code",
   "execution_count": 83,
   "id": "241d3567",
   "metadata": {},
   "outputs": [],
   "source": [
    "# Variável 1\n",
    "df_eng['faixa_desconto'] = np.where(df_eng.desconto >= 12, \"Desconto Acima da Media\", \"Desconto Abaixo da Media\") "
   ]
  },
  {
   "cell_type": "code",
   "execution_count": 84,
   "id": "f72fe63d",
   "metadata": {},
   "outputs": [
    {
     "data": {
      "text/plain": [
       "Desconto Abaixo da Media    8269\n",
       "Desconto Acima da Media     2374\n",
       "Name: faixa_desconto, dtype: int64"
      ]
     },
     "execution_count": 84,
     "metadata": {},
     "output_type": "execute_result"
    }
   ],
   "source": [
    "df_eng['faixa_desconto'].value_counts()"
   ]
  },
  {
   "cell_type": "code",
   "execution_count": 85,
   "id": "8311c0e0",
   "metadata": {},
   "outputs": [
    {
     "data": {
      "text/html": [
       "<div>\n",
       "<style scoped>\n",
       "    .dataframe tbody tr th:only-of-type {\n",
       "        vertical-align: middle;\n",
       "    }\n",
       "\n",
       "    .dataframe tbody tr th {\n",
       "        vertical-align: top;\n",
       "    }\n",
       "\n",
       "    .dataframe thead th {\n",
       "        text-align: right;\n",
       "    }\n",
       "</style>\n",
       "<table border=\"1\" class=\"dataframe\">\n",
       "  <thead>\n",
       "    <tr style=\"text-align: right;\">\n",
       "      <th></th>\n",
       "      <th>ID</th>\n",
       "      <th>corredor_armazem</th>\n",
       "      <th>modo_envio</th>\n",
       "      <th>numero_chamadas_cliente</th>\n",
       "      <th>avaliacao_cliente</th>\n",
       "      <th>custo_produto</th>\n",
       "      <th>compras_anteriores</th>\n",
       "      <th>prioridade_produto</th>\n",
       "      <th>genero</th>\n",
       "      <th>desconto</th>\n",
       "      <th>peso_gramas</th>\n",
       "      <th>entregue_no_prazo</th>\n",
       "      <th>performance_prioridade_envio</th>\n",
       "      <th>performance_modo_envio</th>\n",
       "      <th>faixa_desconto</th>\n",
       "    </tr>\n",
       "  </thead>\n",
       "  <tbody>\n",
       "    <tr>\n",
       "      <th>3221</th>\n",
       "      <td>3222</td>\n",
       "      <td>F</td>\n",
       "      <td>Navio</td>\n",
       "      <td>3</td>\n",
       "      <td>4</td>\n",
       "      <td>155</td>\n",
       "      <td>2</td>\n",
       "      <td>baixa</td>\n",
       "      <td>M</td>\n",
       "      <td>3</td>\n",
       "      <td>5481</td>\n",
       "      <td>1</td>\n",
       "      <td>Não Houve Atraso</td>\n",
       "      <td>Não Houve Atraso</td>\n",
       "      <td>Desconto Abaixo da Media</td>\n",
       "    </tr>\n",
       "    <tr>\n",
       "      <th>4722</th>\n",
       "      <td>4723</td>\n",
       "      <td>D</td>\n",
       "      <td>Navio</td>\n",
       "      <td>3</td>\n",
       "      <td>2</td>\n",
       "      <td>191</td>\n",
       "      <td>2</td>\n",
       "      <td>media</td>\n",
       "      <td>M</td>\n",
       "      <td>7</td>\n",
       "      <td>5357</td>\n",
       "      <td>0</td>\n",
       "      <td>Atraso Problemático</td>\n",
       "      <td>Atraso Problemático na Entrega Por Navio</td>\n",
       "      <td>Desconto Abaixo da Media</td>\n",
       "    </tr>\n",
       "    <tr>\n",
       "      <th>3866</th>\n",
       "      <td>3867</td>\n",
       "      <td>A</td>\n",
       "      <td>Navio</td>\n",
       "      <td>2</td>\n",
       "      <td>2</td>\n",
       "      <td>157</td>\n",
       "      <td>2</td>\n",
       "      <td>media</td>\n",
       "      <td>M</td>\n",
       "      <td>9</td>\n",
       "      <td>5875</td>\n",
       "      <td>0</td>\n",
       "      <td>Atraso Problemático</td>\n",
       "      <td>Atraso Problemático na Entrega Por Navio</td>\n",
       "      <td>Desconto Abaixo da Media</td>\n",
       "    </tr>\n",
       "    <tr>\n",
       "      <th>7245</th>\n",
       "      <td>7246</td>\n",
       "      <td>B</td>\n",
       "      <td>Caminhao</td>\n",
       "      <td>3</td>\n",
       "      <td>5</td>\n",
       "      <td>205</td>\n",
       "      <td>4</td>\n",
       "      <td>baixa</td>\n",
       "      <td>M</td>\n",
       "      <td>2</td>\n",
       "      <td>5294</td>\n",
       "      <td>0</td>\n",
       "      <td>Atraso Tolerável</td>\n",
       "      <td>Atraso Tolerável na Entrega Por Caminhao</td>\n",
       "      <td>Desconto Abaixo da Media</td>\n",
       "    </tr>\n",
       "    <tr>\n",
       "      <th>6547</th>\n",
       "      <td>6548</td>\n",
       "      <td>F</td>\n",
       "      <td>Navio</td>\n",
       "      <td>6</td>\n",
       "      <td>2</td>\n",
       "      <td>251</td>\n",
       "      <td>4</td>\n",
       "      <td>media</td>\n",
       "      <td>F</td>\n",
       "      <td>6</td>\n",
       "      <td>1864</td>\n",
       "      <td>0</td>\n",
       "      <td>Atraso Problemático</td>\n",
       "      <td>Atraso Problemático na Entrega Por Navio</td>\n",
       "      <td>Desconto Abaixo da Media</td>\n",
       "    </tr>\n",
       "  </tbody>\n",
       "</table>\n",
       "</div>"
      ],
      "text/plain": [
       "        ID corredor_armazem modo_envio  numero_chamadas_cliente  \\\n",
       "3221  3222                F      Navio                        3   \n",
       "4722  4723                D      Navio                        3   \n",
       "3866  3867                A      Navio                        2   \n",
       "7245  7246                B   Caminhao                        3   \n",
       "6547  6548                F      Navio                        6   \n",
       "\n",
       "      avaliacao_cliente  custo_produto  compras_anteriores prioridade_produto  \\\n",
       "3221                  4            155                   2              baixa   \n",
       "4722                  2            191                   2              media   \n",
       "3866                  2            157                   2              media   \n",
       "7245                  5            205                   4              baixa   \n",
       "6547                  2            251                   4              media   \n",
       "\n",
       "     genero  desconto  peso_gramas  entregue_no_prazo  \\\n",
       "3221      M         3         5481                  1   \n",
       "4722      M         7         5357                  0   \n",
       "3866      M         9         5875                  0   \n",
       "7245      M         2         5294                  0   \n",
       "6547      F         6         1864                  0   \n",
       "\n",
       "     performance_prioridade_envio                    performance_modo_envio  \\\n",
       "3221             Não Houve Atraso                          Não Houve Atraso   \n",
       "4722          Atraso Problemático  Atraso Problemático na Entrega Por Navio   \n",
       "3866          Atraso Problemático  Atraso Problemático na Entrega Por Navio   \n",
       "7245             Atraso Tolerável  Atraso Tolerável na Entrega Por Caminhao   \n",
       "6547          Atraso Problemático  Atraso Problemático na Entrega Por Navio   \n",
       "\n",
       "                faixa_desconto  \n",
       "3221  Desconto Abaixo da Media  \n",
       "4722  Desconto Abaixo da Media  \n",
       "3866  Desconto Abaixo da Media  \n",
       "7245  Desconto Abaixo da Media  \n",
       "6547  Desconto Abaixo da Media  "
      ]
     },
     "execution_count": 85,
     "metadata": {},
     "output_type": "execute_result"
    }
   ],
   "source": [
    "df_eng.sample(5)"
   ]
  },
  {
   "cell_type": "code",
   "execution_count": 86,
   "id": "11793be9",
   "metadata": {},
   "outputs": [],
   "source": [
    "# Variável 2\n",
    "df_eng['performance_faixa_desconto'] = np.where(\n",
    "        (df_eng['faixa_desconto'] == 'Desconto Acima da Media') & (df_eng['entregue_no_prazo'] == 0), \"Atraso na Entrega com Desconto Acima da Media\", \n",
    "    np.where(\n",
    "        (df_eng['faixa_desconto'] == 'Desconto Abaixo da Media') & (df_eng['entregue_no_prazo'] == 0), \"Atraso na Entrega com Desconto Abaixo da Media\",\n",
    "    np.where(\n",
    "        (df_eng['faixa_desconto'] == 'Desconto Acima da Media') & (df_eng['entregue_no_prazo'] == 1), \"Entrega no Prazo com Desconto Acima da Media\",\n",
    "    np.where(\n",
    "        (df_eng['faixa_desconto'] == 'Desconto Abaixo da Media') & (df_eng['entregue_no_prazo'] == 1), \"Entrega no Prazo com Desconto Abaixo da Media\",\n",
    "   \"NA\"))))"
   ]
  },
  {
   "cell_type": "code",
   "execution_count": 87,
   "id": "a8b36f3c",
   "metadata": {},
   "outputs": [
    {
     "data": {
      "text/html": [
       "<div>\n",
       "<style scoped>\n",
       "    .dataframe tbody tr th:only-of-type {\n",
       "        vertical-align: middle;\n",
       "    }\n",
       "\n",
       "    .dataframe tbody tr th {\n",
       "        vertical-align: top;\n",
       "    }\n",
       "\n",
       "    .dataframe thead th {\n",
       "        text-align: right;\n",
       "    }\n",
       "</style>\n",
       "<table border=\"1\" class=\"dataframe\">\n",
       "  <thead>\n",
       "    <tr style=\"text-align: right;\">\n",
       "      <th></th>\n",
       "      <th>ID</th>\n",
       "      <th>corredor_armazem</th>\n",
       "      <th>modo_envio</th>\n",
       "      <th>numero_chamadas_cliente</th>\n",
       "      <th>avaliacao_cliente</th>\n",
       "      <th>custo_produto</th>\n",
       "      <th>compras_anteriores</th>\n",
       "      <th>prioridade_produto</th>\n",
       "      <th>genero</th>\n",
       "      <th>desconto</th>\n",
       "      <th>peso_gramas</th>\n",
       "      <th>entregue_no_prazo</th>\n",
       "      <th>performance_prioridade_envio</th>\n",
       "      <th>performance_modo_envio</th>\n",
       "      <th>faixa_desconto</th>\n",
       "      <th>performance_faixa_desconto</th>\n",
       "    </tr>\n",
       "  </thead>\n",
       "  <tbody>\n",
       "    <tr>\n",
       "      <th>6325</th>\n",
       "      <td>6326</td>\n",
       "      <td>F</td>\n",
       "      <td>Navio</td>\n",
       "      <td>3</td>\n",
       "      <td>4</td>\n",
       "      <td>237</td>\n",
       "      <td>3</td>\n",
       "      <td>baixa</td>\n",
       "      <td>M</td>\n",
       "      <td>1</td>\n",
       "      <td>5980</td>\n",
       "      <td>0</td>\n",
       "      <td>Atraso Tolerável</td>\n",
       "      <td>Atraso Tolerável na Entrega Por Navio</td>\n",
       "      <td>Desconto Abaixo da Media</td>\n",
       "      <td>Atraso na Entrega com Desconto Abaixo da Media</td>\n",
       "    </tr>\n",
       "    <tr>\n",
       "      <th>1665</th>\n",
       "      <td>1666</td>\n",
       "      <td>B</td>\n",
       "      <td>Navio</td>\n",
       "      <td>5</td>\n",
       "      <td>2</td>\n",
       "      <td>266</td>\n",
       "      <td>7</td>\n",
       "      <td>baixa</td>\n",
       "      <td>M</td>\n",
       "      <td>40</td>\n",
       "      <td>2304</td>\n",
       "      <td>1</td>\n",
       "      <td>Não Houve Atraso</td>\n",
       "      <td>Não Houve Atraso</td>\n",
       "      <td>Desconto Acima da Media</td>\n",
       "      <td>Entrega no Prazo com Desconto Acima da Media</td>\n",
       "    </tr>\n",
       "    <tr>\n",
       "      <th>9340</th>\n",
       "      <td>9341</td>\n",
       "      <td>C</td>\n",
       "      <td>Navio</td>\n",
       "      <td>3</td>\n",
       "      <td>2</td>\n",
       "      <td>177</td>\n",
       "      <td>3</td>\n",
       "      <td>baixa</td>\n",
       "      <td>F</td>\n",
       "      <td>5</td>\n",
       "      <td>5941</td>\n",
       "      <td>0</td>\n",
       "      <td>Atraso Tolerável</td>\n",
       "      <td>Atraso Tolerável na Entrega Por Navio</td>\n",
       "      <td>Desconto Abaixo da Media</td>\n",
       "      <td>Atraso na Entrega com Desconto Abaixo da Media</td>\n",
       "    </tr>\n",
       "    <tr>\n",
       "      <th>8953</th>\n",
       "      <td>8954</td>\n",
       "      <td>F</td>\n",
       "      <td>Navio</td>\n",
       "      <td>2</td>\n",
       "      <td>2</td>\n",
       "      <td>98</td>\n",
       "      <td>5</td>\n",
       "      <td>media</td>\n",
       "      <td>M</td>\n",
       "      <td>10</td>\n",
       "      <td>4368</td>\n",
       "      <td>0</td>\n",
       "      <td>Atraso Problemático</td>\n",
       "      <td>Atraso Problemático na Entrega Por Navio</td>\n",
       "      <td>Desconto Abaixo da Media</td>\n",
       "      <td>Atraso na Entrega com Desconto Abaixo da Media</td>\n",
       "    </tr>\n",
       "    <tr>\n",
       "      <th>4792</th>\n",
       "      <td>4793</td>\n",
       "      <td>C</td>\n",
       "      <td>Aviao</td>\n",
       "      <td>5</td>\n",
       "      <td>3</td>\n",
       "      <td>272</td>\n",
       "      <td>2</td>\n",
       "      <td>baixa</td>\n",
       "      <td>F</td>\n",
       "      <td>4</td>\n",
       "      <td>5112</td>\n",
       "      <td>0</td>\n",
       "      <td>Atraso Tolerável</td>\n",
       "      <td>Atraso Tolerável na Entrega Por Aviao</td>\n",
       "      <td>Desconto Abaixo da Media</td>\n",
       "      <td>Atraso na Entrega com Desconto Abaixo da Media</td>\n",
       "    </tr>\n",
       "  </tbody>\n",
       "</table>\n",
       "</div>"
      ],
      "text/plain": [
       "        ID corredor_armazem modo_envio  numero_chamadas_cliente  \\\n",
       "6325  6326                F      Navio                        3   \n",
       "1665  1666                B      Navio                        5   \n",
       "9340  9341                C      Navio                        3   \n",
       "8953  8954                F      Navio                        2   \n",
       "4792  4793                C      Aviao                        5   \n",
       "\n",
       "      avaliacao_cliente  custo_produto  compras_anteriores prioridade_produto  \\\n",
       "6325                  4            237                   3              baixa   \n",
       "1665                  2            266                   7              baixa   \n",
       "9340                  2            177                   3              baixa   \n",
       "8953                  2             98                   5              media   \n",
       "4792                  3            272                   2              baixa   \n",
       "\n",
       "     genero  desconto  peso_gramas  entregue_no_prazo  \\\n",
       "6325      M         1         5980                  0   \n",
       "1665      M        40         2304                  1   \n",
       "9340      F         5         5941                  0   \n",
       "8953      M        10         4368                  0   \n",
       "4792      F         4         5112                  0   \n",
       "\n",
       "     performance_prioridade_envio                    performance_modo_envio  \\\n",
       "6325             Atraso Tolerável     Atraso Tolerável na Entrega Por Navio   \n",
       "1665             Não Houve Atraso                          Não Houve Atraso   \n",
       "9340             Atraso Tolerável     Atraso Tolerável na Entrega Por Navio   \n",
       "8953          Atraso Problemático  Atraso Problemático na Entrega Por Navio   \n",
       "4792             Atraso Tolerável     Atraso Tolerável na Entrega Por Aviao   \n",
       "\n",
       "                faixa_desconto                      performance_faixa_desconto  \n",
       "6325  Desconto Abaixo da Media  Atraso na Entrega com Desconto Abaixo da Media  \n",
       "1665   Desconto Acima da Media    Entrega no Prazo com Desconto Acima da Media  \n",
       "9340  Desconto Abaixo da Media  Atraso na Entrega com Desconto Abaixo da Media  \n",
       "8953  Desconto Abaixo da Media  Atraso na Entrega com Desconto Abaixo da Media  \n",
       "4792  Desconto Abaixo da Media  Atraso na Entrega com Desconto Abaixo da Media  "
      ]
     },
     "execution_count": 87,
     "metadata": {},
     "output_type": "execute_result"
    }
   ],
   "source": [
    "df_eng.sample(5)"
   ]
  },
  {
   "cell_type": "code",
   "execution_count": 88,
   "id": "e09333ce",
   "metadata": {},
   "outputs": [
    {
     "data": {
      "text/plain": [
       "Atraso na Entrega com Desconto Abaixo da Media    4361\n",
       "Entrega no Prazo com Desconto Abaixo da Media     3908\n",
       "Entrega no Prazo com Desconto Acima da Media      2374\n",
       "Name: performance_faixa_desconto, dtype: int64"
      ]
     },
     "execution_count": 88,
     "metadata": {},
     "output_type": "execute_result"
    }
   ],
   "source": [
    "df_eng['performance_faixa_desconto'].value_counts()"
   ]
  },
  {
   "cell_type": "code",
   "execution_count": 89,
   "id": "021e5758",
   "metadata": {},
   "outputs": [
    {
     "data": {
      "text/html": [
       "<div>\n",
       "<style scoped>\n",
       "    .dataframe tbody tr th:only-of-type {\n",
       "        vertical-align: middle;\n",
       "    }\n",
       "\n",
       "    .dataframe tbody tr th {\n",
       "        vertical-align: top;\n",
       "    }\n",
       "\n",
       "    .dataframe thead tr th {\n",
       "        text-align: left;\n",
       "    }\n",
       "</style>\n",
       "<table border=\"1\" class=\"dataframe\">\n",
       "  <thead>\n",
       "    <tr>\n",
       "      <th></th>\n",
       "      <th>performance_faixa_desconto</th>\n",
       "      <th>entregue_no_prazo</th>\n",
       "      <th>ID</th>\n",
       "    </tr>\n",
       "    <tr>\n",
       "      <th></th>\n",
       "      <th></th>\n",
       "      <th></th>\n",
       "      <th>count</th>\n",
       "    </tr>\n",
       "  </thead>\n",
       "  <tbody>\n",
       "    <tr>\n",
       "      <th>0</th>\n",
       "      <td>Atraso na Entrega com Desconto Abaixo da Media</td>\n",
       "      <td>0</td>\n",
       "      <td>4361</td>\n",
       "    </tr>\n",
       "    <tr>\n",
       "      <th>1</th>\n",
       "      <td>Entrega no Prazo com Desconto Abaixo da Media</td>\n",
       "      <td>1</td>\n",
       "      <td>3908</td>\n",
       "    </tr>\n",
       "    <tr>\n",
       "      <th>2</th>\n",
       "      <td>Entrega no Prazo com Desconto Acima da Media</td>\n",
       "      <td>1</td>\n",
       "      <td>2374</td>\n",
       "    </tr>\n",
       "  </tbody>\n",
       "</table>\n",
       "</div>"
      ],
      "text/plain": [
       "                       performance_faixa_desconto entregue_no_prazo    ID\n",
       "                                                                    count\n",
       "0  Atraso na Entrega com Desconto Abaixo da Media                 0  4361\n",
       "1   Entrega no Prazo com Desconto Abaixo da Media                 1  3908\n",
       "2    Entrega no Prazo com Desconto Acima da Media                 1  2374"
      ]
     },
     "execution_count": 89,
     "metadata": {},
     "output_type": "execute_result"
    }
   ],
   "source": [
    "# Agrupamos os dados para análise\n",
    "df_report3 = df_eng.groupby(['performance_faixa_desconto', \n",
    "                             'entregue_no_prazo']).agg({'ID': ['count']}).reset_index()\n",
    "df_report3.head()"
   ]
  },
  {
   "cell_type": "code",
   "execution_count": 90,
   "id": "9148bf01",
   "metadata": {},
   "outputs": [
    {
     "data": {
      "text/html": [
       "<div>\n",
       "<style scoped>\n",
       "    .dataframe tbody tr th:only-of-type {\n",
       "        vertical-align: middle;\n",
       "    }\n",
       "\n",
       "    .dataframe tbody tr th {\n",
       "        vertical-align: top;\n",
       "    }\n",
       "\n",
       "    .dataframe thead th {\n",
       "        text-align: right;\n",
       "    }\n",
       "</style>\n",
       "<table border=\"1\" class=\"dataframe\">\n",
       "  <thead>\n",
       "    <tr style=\"text-align: right;\">\n",
       "      <th></th>\n",
       "      <th>performance_faixa_desconto</th>\n",
       "      <th>entregue_no_prazo</th>\n",
       "      <th>contagem</th>\n",
       "    </tr>\n",
       "  </thead>\n",
       "  <tbody>\n",
       "    <tr>\n",
       "      <th>0</th>\n",
       "      <td>Atraso na Entrega com Desconto Abaixo da Media</td>\n",
       "      <td>0</td>\n",
       "      <td>4361</td>\n",
       "    </tr>\n",
       "    <tr>\n",
       "      <th>1</th>\n",
       "      <td>Entrega no Prazo com Desconto Abaixo da Media</td>\n",
       "      <td>1</td>\n",
       "      <td>3908</td>\n",
       "    </tr>\n",
       "    <tr>\n",
       "      <th>2</th>\n",
       "      <td>Entrega no Prazo com Desconto Acima da Media</td>\n",
       "      <td>1</td>\n",
       "      <td>2374</td>\n",
       "    </tr>\n",
       "  </tbody>\n",
       "</table>\n",
       "</div>"
      ],
      "text/plain": [
       "                       performance_faixa_desconto  entregue_no_prazo  contagem\n",
       "0  Atraso na Entrega com Desconto Abaixo da Media                  0      4361\n",
       "1   Entrega no Prazo com Desconto Abaixo da Media                  1      3908\n",
       "2    Entrega no Prazo com Desconto Acima da Media                  1      2374"
      ]
     },
     "execution_count": 90,
     "metadata": {},
     "output_type": "execute_result"
    }
   ],
   "source": [
    "df_report3.columns = ['performance_faixa_desconto', 'entregue_no_prazo', 'contagem']\n",
    "df_report3.head()"
   ]
  },
  {
   "cell_type": "code",
   "execution_count": 91,
   "id": "35b2bc33",
   "metadata": {},
   "outputs": [
    {
     "data": {
      "text/html": [
       "<div>\n",
       "<style scoped>\n",
       "    .dataframe tbody tr th:only-of-type {\n",
       "        vertical-align: middle;\n",
       "    }\n",
       "\n",
       "    .dataframe tbody tr th {\n",
       "        vertical-align: top;\n",
       "    }\n",
       "\n",
       "    .dataframe thead th {\n",
       "        text-align: right;\n",
       "    }\n",
       "</style>\n",
       "<table border=\"1\" class=\"dataframe\">\n",
       "  <thead>\n",
       "    <tr style=\"text-align: right;\">\n",
       "      <th>entregue_no_prazo</th>\n",
       "      <th>performance_faixa_desconto</th>\n",
       "      <th>0</th>\n",
       "      <th>1</th>\n",
       "    </tr>\n",
       "  </thead>\n",
       "  <tbody>\n",
       "    <tr>\n",
       "      <th>0</th>\n",
       "      <td>Atraso na Entrega com Desconto Abaixo da Media</td>\n",
       "      <td>4361.0</td>\n",
       "      <td>NaN</td>\n",
       "    </tr>\n",
       "    <tr>\n",
       "      <th>1</th>\n",
       "      <td>Entrega no Prazo com Desconto Abaixo da Media</td>\n",
       "      <td>NaN</td>\n",
       "      <td>3908.0</td>\n",
       "    </tr>\n",
       "    <tr>\n",
       "      <th>2</th>\n",
       "      <td>Entrega no Prazo com Desconto Acima da Media</td>\n",
       "      <td>NaN</td>\n",
       "      <td>2374.0</td>\n",
       "    </tr>\n",
       "  </tbody>\n",
       "</table>\n",
       "</div>"
      ],
      "text/plain": [
       "entregue_no_prazo                      performance_faixa_desconto       0  \\\n",
       "0                  Atraso na Entrega com Desconto Abaixo da Media  4361.0   \n",
       "1                   Entrega no Prazo com Desconto Abaixo da Media     NaN   \n",
       "2                    Entrega no Prazo com Desconto Acima da Media     NaN   \n",
       "\n",
       "entregue_no_prazo       1  \n",
       "0                     NaN  \n",
       "1                  3908.0  \n",
       "2                  2374.0  "
      ]
     },
     "execution_count": 91,
     "metadata": {},
     "output_type": "execute_result"
    }
   ],
   "source": [
    "# Pivot\n",
    "df_report3 = pd.pivot_table(df_report3,\n",
    "                             index = 'performance_faixa_desconto',\n",
    "                             columns = 'entregue_no_prazo',\n",
    "                             values = 'contagem').reset_index()\n",
    "df_report3.head()"
   ]
  },
  {
   "cell_type": "code",
   "execution_count": 92,
   "id": "74681dcb",
   "metadata": {},
   "outputs": [
    {
     "data": {
      "text/html": [
       "<div>\n",
       "<style scoped>\n",
       "    .dataframe tbody tr th:only-of-type {\n",
       "        vertical-align: middle;\n",
       "    }\n",
       "\n",
       "    .dataframe tbody tr th {\n",
       "        vertical-align: top;\n",
       "    }\n",
       "\n",
       "    .dataframe thead th {\n",
       "        text-align: right;\n",
       "    }\n",
       "</style>\n",
       "<table border=\"1\" class=\"dataframe\">\n",
       "  <thead>\n",
       "    <tr style=\"text-align: right;\">\n",
       "      <th></th>\n",
       "      <th>Status do Envio</th>\n",
       "      <th>Total Atraso</th>\n",
       "      <th>Total no Prazo</th>\n",
       "    </tr>\n",
       "  </thead>\n",
       "  <tbody>\n",
       "    <tr>\n",
       "      <th>0</th>\n",
       "      <td>Atraso na Entrega com Desconto Abaixo da Media</td>\n",
       "      <td>4361.0</td>\n",
       "      <td>NaN</td>\n",
       "    </tr>\n",
       "    <tr>\n",
       "      <th>1</th>\n",
       "      <td>Entrega no Prazo com Desconto Abaixo da Media</td>\n",
       "      <td>NaN</td>\n",
       "      <td>3908.0</td>\n",
       "    </tr>\n",
       "    <tr>\n",
       "      <th>2</th>\n",
       "      <td>Entrega no Prazo com Desconto Acima da Media</td>\n",
       "      <td>NaN</td>\n",
       "      <td>2374.0</td>\n",
       "    </tr>\n",
       "  </tbody>\n",
       "</table>\n",
       "</div>"
      ],
      "text/plain": [
       "                                  Status do Envio  Total Atraso  \\\n",
       "0  Atraso na Entrega com Desconto Abaixo da Media        4361.0   \n",
       "1   Entrega no Prazo com Desconto Abaixo da Media           NaN   \n",
       "2    Entrega no Prazo com Desconto Acima da Media           NaN   \n",
       "\n",
       "   Total no Prazo  \n",
       "0             NaN  \n",
       "1          3908.0  \n",
       "2          2374.0  "
      ]
     },
     "execution_count": 92,
     "metadata": {},
     "output_type": "execute_result"
    }
   ],
   "source": [
    "df_report3.columns = ['Status do Envio', 'Total Atraso', 'Total no Prazo']\n",
    "df_report3.head()"
   ]
  },
  {
   "cell_type": "code",
   "execution_count": 93,
   "id": "4d871891",
   "metadata": {},
   "outputs": [
    {
     "data": {
      "text/html": [
       "<div>\n",
       "<style scoped>\n",
       "    .dataframe tbody tr th:only-of-type {\n",
       "        vertical-align: middle;\n",
       "    }\n",
       "\n",
       "    .dataframe tbody tr th {\n",
       "        vertical-align: top;\n",
       "    }\n",
       "\n",
       "    .dataframe thead th {\n",
       "        text-align: right;\n",
       "    }\n",
       "</style>\n",
       "<table border=\"1\" class=\"dataframe\">\n",
       "  <thead>\n",
       "    <tr style=\"text-align: right;\">\n",
       "      <th></th>\n",
       "      <th>Status do Envio</th>\n",
       "      <th>Total Atraso</th>\n",
       "      <th>Total no Prazo</th>\n",
       "    </tr>\n",
       "  </thead>\n",
       "  <tbody>\n",
       "    <tr>\n",
       "      <th>0</th>\n",
       "      <td>Atraso na Entrega com Desconto Abaixo da Media</td>\n",
       "      <td>4361.0</td>\n",
       "      <td>0.0</td>\n",
       "    </tr>\n",
       "    <tr>\n",
       "      <th>1</th>\n",
       "      <td>Entrega no Prazo com Desconto Abaixo da Media</td>\n",
       "      <td>0.0</td>\n",
       "      <td>3908.0</td>\n",
       "    </tr>\n",
       "    <tr>\n",
       "      <th>2</th>\n",
       "      <td>Entrega no Prazo com Desconto Acima da Media</td>\n",
       "      <td>0.0</td>\n",
       "      <td>2374.0</td>\n",
       "    </tr>\n",
       "  </tbody>\n",
       "</table>\n",
       "</div>"
      ],
      "text/plain": [
       "                                  Status do Envio  Total Atraso  \\\n",
       "0  Atraso na Entrega com Desconto Abaixo da Media        4361.0   \n",
       "1   Entrega no Prazo com Desconto Abaixo da Media           0.0   \n",
       "2    Entrega no Prazo com Desconto Acima da Media           0.0   \n",
       "\n",
       "   Total no Prazo  \n",
       "0             0.0  \n",
       "1          3908.0  \n",
       "2          2374.0  "
      ]
     },
     "execution_count": 93,
     "metadata": {},
     "output_type": "execute_result"
    }
   ],
   "source": [
    "# Replace do valor nan por zero\n",
    "df_report3['Total Atraso'] = df_report3['Total Atraso'].replace(np.nan, 0)\n",
    "df_report3['Total no Prazo'] = df_report3['Total no Prazo'].replace(np.nan, 0)\n",
    "df_report3.head()"
   ]
  },
  {
   "cell_type": "code",
   "execution_count": 94,
   "id": "f6bd9d02",
   "metadata": {},
   "outputs": [
    {
     "data": {
      "text/html": [
       "<div>\n",
       "<style scoped>\n",
       "    .dataframe tbody tr th:only-of-type {\n",
       "        vertical-align: middle;\n",
       "    }\n",
       "\n",
       "    .dataframe tbody tr th {\n",
       "        vertical-align: top;\n",
       "    }\n",
       "\n",
       "    .dataframe thead th {\n",
       "        text-align: right;\n",
       "    }\n",
       "</style>\n",
       "<table border=\"1\" class=\"dataframe\">\n",
       "  <thead>\n",
       "    <tr style=\"text-align: right;\">\n",
       "      <th></th>\n",
       "      <th>Status do Envio</th>\n",
       "      <th>Total Atraso</th>\n",
       "      <th>Total no Prazo</th>\n",
       "      <th>Total</th>\n",
       "    </tr>\n",
       "  </thead>\n",
       "  <tbody>\n",
       "    <tr>\n",
       "      <th>0</th>\n",
       "      <td>Atraso na Entrega com Desconto Abaixo da Media</td>\n",
       "      <td>4361.0</td>\n",
       "      <td>0.0</td>\n",
       "      <td>4361.0</td>\n",
       "    </tr>\n",
       "    <tr>\n",
       "      <th>1</th>\n",
       "      <td>Entrega no Prazo com Desconto Abaixo da Media</td>\n",
       "      <td>0.0</td>\n",
       "      <td>3908.0</td>\n",
       "      <td>3908.0</td>\n",
       "    </tr>\n",
       "    <tr>\n",
       "      <th>2</th>\n",
       "      <td>Entrega no Prazo com Desconto Acima da Media</td>\n",
       "      <td>0.0</td>\n",
       "      <td>2374.0</td>\n",
       "      <td>2374.0</td>\n",
       "    </tr>\n",
       "  </tbody>\n",
       "</table>\n",
       "</div>"
      ],
      "text/plain": [
       "                                  Status do Envio  Total Atraso  \\\n",
       "0  Atraso na Entrega com Desconto Abaixo da Media        4361.0   \n",
       "1   Entrega no Prazo com Desconto Abaixo da Media           0.0   \n",
       "2    Entrega no Prazo com Desconto Acima da Media           0.0   \n",
       "\n",
       "   Total no Prazo   Total  \n",
       "0             0.0  4361.0  \n",
       "1          3908.0  3908.0  \n",
       "2          2374.0  2374.0  "
      ]
     },
     "execution_count": 94,
     "metadata": {},
     "output_type": "execute_result"
    }
   ],
   "source": [
    "# Concatena colunas criando uma terceira variável\n",
    "df_report3[\"Total\"] = df_report3[\"Total Atraso\"] + df_report3[\"Total no Prazo\"]\n",
    "df_report3.head()"
   ]
  },
  {
   "cell_type": "code",
   "execution_count": 95,
   "id": "75498554",
   "metadata": {},
   "outputs": [
    {
     "data": {
      "text/html": [
       "<div>\n",
       "<style scoped>\n",
       "    .dataframe tbody tr th:only-of-type {\n",
       "        vertical-align: middle;\n",
       "    }\n",
       "\n",
       "    .dataframe tbody tr th {\n",
       "        vertical-align: top;\n",
       "    }\n",
       "\n",
       "    .dataframe thead th {\n",
       "        text-align: right;\n",
       "    }\n",
       "</style>\n",
       "<table border=\"1\" class=\"dataframe\">\n",
       "  <thead>\n",
       "    <tr style=\"text-align: right;\">\n",
       "      <th></th>\n",
       "      <th>Status do Envio</th>\n",
       "      <th>Total</th>\n",
       "    </tr>\n",
       "  </thead>\n",
       "  <tbody>\n",
       "    <tr>\n",
       "      <th>0</th>\n",
       "      <td>Atraso na Entrega com Desconto Abaixo da Media</td>\n",
       "      <td>4361.0</td>\n",
       "    </tr>\n",
       "    <tr>\n",
       "      <th>1</th>\n",
       "      <td>Entrega no Prazo com Desconto Abaixo da Media</td>\n",
       "      <td>3908.0</td>\n",
       "    </tr>\n",
       "    <tr>\n",
       "      <th>2</th>\n",
       "      <td>Entrega no Prazo com Desconto Acima da Media</td>\n",
       "      <td>2374.0</td>\n",
       "    </tr>\n",
       "  </tbody>\n",
       "</table>\n",
       "</div>"
      ],
      "text/plain": [
       "                                  Status do Envio   Total\n",
       "0  Atraso na Entrega com Desconto Abaixo da Media  4361.0\n",
       "1   Entrega no Prazo com Desconto Abaixo da Media  3908.0\n",
       "2    Entrega no Prazo com Desconto Acima da Media  2374.0"
      ]
     },
     "execution_count": 95,
     "metadata": {},
     "output_type": "execute_result"
    }
   ],
   "source": [
    "# Não precisamos mais dessas colunas. Vamos removê-las.\n",
    "df_report3.drop(df_report3.columns[[1, 2]], axis = 1, inplace = True)\n",
    "df_report3.head()"
   ]
  },
  {
   "cell_type": "code",
   "execution_count": 96,
   "id": "258d4406",
   "metadata": {},
   "outputs": [
    {
     "data": {
      "image/png": "[encoded data removed]",
      "text/plain": [
       "<Figure size 1440x576 with 1 Axes>"
      ]
     },
     "metadata": {
      "needs_background": "light"
     },
     "output_type": "display_data"
    }
   ],
   "source": [
    "# Plot\n",
    "df_report3.set_index(\"Status do Envio\").plot(kind = 'bar', \n",
    "                title = 'Total de Envios dos Produtos Por Status',\n",
    "                ylabel = 'Total', \n",
    "                xlabel = '\\nStatus do Envio',\n",
    "                colormap = 'plasma',\n",
    "                figsize = (20,8))\n",
    "plt.xticks(rotation = 0)\n",
    "plt.show()"
   ]
  },
  {
   "cell_type": "code",
   "execution_count": 97,
   "id": "7f5b2202",
   "metadata": {},
   "outputs": [
    {
     "data": {
      "text/html": [
       "<div>\n",
       "<style scoped>\n",
       "    .dataframe tbody tr th:only-of-type {\n",
       "        vertical-align: middle;\n",
       "    }\n",
       "\n",
       "    .dataframe tbody tr th {\n",
       "        vertical-align: top;\n",
       "    }\n",
       "\n",
       "    .dataframe thead th {\n",
       "        text-align: right;\n",
       "    }\n",
       "</style>\n",
       "<table border=\"1\" class=\"dataframe\">\n",
       "  <thead>\n",
       "    <tr style=\"text-align: right;\">\n",
       "      <th></th>\n",
       "      <th>ID</th>\n",
       "      <th>corredor_armazem</th>\n",
       "      <th>modo_envio</th>\n",
       "      <th>numero_chamadas_cliente</th>\n",
       "      <th>avaliacao_cliente</th>\n",
       "      <th>custo_produto</th>\n",
       "      <th>compras_anteriores</th>\n",
       "      <th>prioridade_produto</th>\n",
       "      <th>genero</th>\n",
       "      <th>desconto</th>\n",
       "      <th>peso_gramas</th>\n",
       "      <th>entregue_no_prazo</th>\n",
       "      <th>performance_prioridade_envio</th>\n",
       "      <th>performance_modo_envio</th>\n",
       "      <th>faixa_desconto</th>\n",
       "      <th>performance_faixa_desconto</th>\n",
       "    </tr>\n",
       "  </thead>\n",
       "  <tbody>\n",
       "    <tr>\n",
       "      <th>8581</th>\n",
       "      <td>8582</td>\n",
       "      <td>F</td>\n",
       "      <td>Navio</td>\n",
       "      <td>4</td>\n",
       "      <td>4</td>\n",
       "      <td>243</td>\n",
       "      <td>5</td>\n",
       "      <td>media</td>\n",
       "      <td>M</td>\n",
       "      <td>10</td>\n",
       "      <td>4356</td>\n",
       "      <td>0</td>\n",
       "      <td>Atraso Problemático</td>\n",
       "      <td>Atraso Problemático na Entrega Por Navio</td>\n",
       "      <td>Desconto Abaixo da Media</td>\n",
       "      <td>Atraso na Entrega com Desconto Abaixo da Media</td>\n",
       "    </tr>\n",
       "    <tr>\n",
       "      <th>704</th>\n",
       "      <td>705</td>\n",
       "      <td>A</td>\n",
       "      <td>Navio</td>\n",
       "      <td>5</td>\n",
       "      <td>1</td>\n",
       "      <td>200</td>\n",
       "      <td>8</td>\n",
       "      <td>baixa</td>\n",
       "      <td>F</td>\n",
       "      <td>18</td>\n",
       "      <td>3806</td>\n",
       "      <td>1</td>\n",
       "      <td>Não Houve Atraso</td>\n",
       "      <td>Não Houve Atraso</td>\n",
       "      <td>Desconto Acima da Media</td>\n",
       "      <td>Entrega no Prazo com Desconto Acima da Media</td>\n",
       "    </tr>\n",
       "    <tr>\n",
       "      <th>9829</th>\n",
       "      <td>9830</td>\n",
       "      <td>F</td>\n",
       "      <td>Navio</td>\n",
       "      <td>5</td>\n",
       "      <td>3</td>\n",
       "      <td>201</td>\n",
       "      <td>6</td>\n",
       "      <td>baixa</td>\n",
       "      <td>F</td>\n",
       "      <td>3</td>\n",
       "      <td>4025</td>\n",
       "      <td>1</td>\n",
       "      <td>Não Houve Atraso</td>\n",
       "      <td>Não Houve Atraso</td>\n",
       "      <td>Desconto Abaixo da Media</td>\n",
       "      <td>Entrega no Prazo com Desconto Abaixo da Media</td>\n",
       "    </tr>\n",
       "    <tr>\n",
       "      <th>3864</th>\n",
       "      <td>3865</td>\n",
       "      <td>D</td>\n",
       "      <td>Navio</td>\n",
       "      <td>6</td>\n",
       "      <td>2</td>\n",
       "      <td>218</td>\n",
       "      <td>6</td>\n",
       "      <td>media</td>\n",
       "      <td>M</td>\n",
       "      <td>1</td>\n",
       "      <td>4558</td>\n",
       "      <td>1</td>\n",
       "      <td>Não Houve Atraso</td>\n",
       "      <td>Não Houve Atraso</td>\n",
       "      <td>Desconto Abaixo da Media</td>\n",
       "      <td>Entrega no Prazo com Desconto Abaixo da Media</td>\n",
       "    </tr>\n",
       "    <tr>\n",
       "      <th>5281</th>\n",
       "      <td>5282</td>\n",
       "      <td>F</td>\n",
       "      <td>Navio</td>\n",
       "      <td>5</td>\n",
       "      <td>2</td>\n",
       "      <td>136</td>\n",
       "      <td>2</td>\n",
       "      <td>baixa</td>\n",
       "      <td>M</td>\n",
       "      <td>3</td>\n",
       "      <td>1370</td>\n",
       "      <td>0</td>\n",
       "      <td>Atraso Tolerável</td>\n",
       "      <td>Atraso Tolerável na Entrega Por Navio</td>\n",
       "      <td>Desconto Abaixo da Media</td>\n",
       "      <td>Atraso na Entrega com Desconto Abaixo da Media</td>\n",
       "    </tr>\n",
       "    <tr>\n",
       "      <th>10355</th>\n",
       "      <td>10356</td>\n",
       "      <td>F</td>\n",
       "      <td>Navio</td>\n",
       "      <td>3</td>\n",
       "      <td>5</td>\n",
       "      <td>171</td>\n",
       "      <td>3</td>\n",
       "      <td>media</td>\n",
       "      <td>F</td>\n",
       "      <td>7</td>\n",
       "      <td>5318</td>\n",
       "      <td>1</td>\n",
       "      <td>Não Houve Atraso</td>\n",
       "      <td>Não Houve Atraso</td>\n",
       "      <td>Desconto Abaixo da Media</td>\n",
       "      <td>Entrega no Prazo com Desconto Abaixo da Media</td>\n",
       "    </tr>\n",
       "    <tr>\n",
       "      <th>5024</th>\n",
       "      <td>5025</td>\n",
       "      <td>A</td>\n",
       "      <td>Navio</td>\n",
       "      <td>7</td>\n",
       "      <td>2</td>\n",
       "      <td>310</td>\n",
       "      <td>4</td>\n",
       "      <td>baixa</td>\n",
       "      <td>F</td>\n",
       "      <td>7</td>\n",
       "      <td>1294</td>\n",
       "      <td>0</td>\n",
       "      <td>Atraso Tolerável</td>\n",
       "      <td>Atraso Tolerável na Entrega Por Navio</td>\n",
       "      <td>Desconto Abaixo da Media</td>\n",
       "      <td>Atraso na Entrega com Desconto Abaixo da Media</td>\n",
       "    </tr>\n",
       "    <tr>\n",
       "      <th>6316</th>\n",
       "      <td>6317</td>\n",
       "      <td>C</td>\n",
       "      <td>Aviao</td>\n",
       "      <td>7</td>\n",
       "      <td>3</td>\n",
       "      <td>310</td>\n",
       "      <td>4</td>\n",
       "      <td>media</td>\n",
       "      <td>F</td>\n",
       "      <td>8</td>\n",
       "      <td>1497</td>\n",
       "      <td>0</td>\n",
       "      <td>Atraso Problemático</td>\n",
       "      <td>Atraso Problemático na Entrega Por Aviao</td>\n",
       "      <td>Desconto Abaixo da Media</td>\n",
       "      <td>Atraso na Entrega com Desconto Abaixo da Media</td>\n",
       "    </tr>\n",
       "    <tr>\n",
       "      <th>1820</th>\n",
       "      <td>1821</td>\n",
       "      <td>A</td>\n",
       "      <td>Navio</td>\n",
       "      <td>4</td>\n",
       "      <td>3</td>\n",
       "      <td>201</td>\n",
       "      <td>2</td>\n",
       "      <td>media</td>\n",
       "      <td>F</td>\n",
       "      <td>18</td>\n",
       "      <td>3461</td>\n",
       "      <td>1</td>\n",
       "      <td>Não Houve Atraso</td>\n",
       "      <td>Não Houve Atraso</td>\n",
       "      <td>Desconto Acima da Media</td>\n",
       "      <td>Entrega no Prazo com Desconto Acima da Media</td>\n",
       "    </tr>\n",
       "    <tr>\n",
       "      <th>7603</th>\n",
       "      <td>7604</td>\n",
       "      <td>F</td>\n",
       "      <td>Navio</td>\n",
       "      <td>4</td>\n",
       "      <td>1</td>\n",
       "      <td>240</td>\n",
       "      <td>4</td>\n",
       "      <td>media</td>\n",
       "      <td>M</td>\n",
       "      <td>7</td>\n",
       "      <td>4818</td>\n",
       "      <td>1</td>\n",
       "      <td>Não Houve Atraso</td>\n",
       "      <td>Não Houve Atraso</td>\n",
       "      <td>Desconto Abaixo da Media</td>\n",
       "      <td>Entrega no Prazo com Desconto Abaixo da Media</td>\n",
       "    </tr>\n",
       "  </tbody>\n",
       "</table>\n",
       "</div>"
      ],
      "text/plain": [
       "          ID corredor_armazem modo_envio  numero_chamadas_cliente  \\\n",
       "8581    8582                F      Navio                        4   \n",
       "704      705                A      Navio                        5   \n",
       "9829    9830                F      Navio                        5   \n",
       "3864    3865                D      Navio                        6   \n",
       "5281    5282                F      Navio                        5   \n",
       "10355  10356                F      Navio                        3   \n",
       "5024    5025                A      Navio                        7   \n",
       "6316    6317                C      Aviao                        7   \n",
       "1820    1821                A      Navio                        4   \n",
       "7603    7604                F      Navio                        4   \n",
       "\n",
       "       avaliacao_cliente  custo_produto  compras_anteriores  \\\n",
       "8581                   4            243                   5   \n",
       "704                    1            200                   8   \n",
       "9829                   3            201                   6   \n",
       "3864                   2            218                   6   \n",
       "5281                   2            136                   2   \n",
       "10355                  5            171                   3   \n",
       "5024                   2            310                   4   \n",
       "6316                   3            310                   4   \n",
       "1820                   3            201                   2   \n",
       "7603                   1            240                   4   \n",
       "\n",
       "      prioridade_produto genero  desconto  peso_gramas  entregue_no_prazo  \\\n",
       "8581               media      M        10         4356                  0   \n",
       "704                baixa      F        18         3806                  1   \n",
       "9829               baixa      F         3         4025                  1   \n",
       "3864               media      M         1         4558                  1   \n",
       "5281               baixa      M         3         1370                  0   \n",
       "10355              media      F         7         5318                  1   \n",
       "5024               baixa      F         7         1294                  0   \n",
       "6316               media      F         8         1497                  0   \n",
       "1820               media      F        18         3461                  1   \n",
       "7603               media      M         7         4818                  1   \n",
       "\n",
       "      performance_prioridade_envio                    performance_modo_envio  \\\n",
       "8581           Atraso Problemático  Atraso Problemático na Entrega Por Navio   \n",
       "704               Não Houve Atraso                          Não Houve Atraso   \n",
       "9829              Não Houve Atraso                          Não Houve Atraso   \n",
       "3864              Não Houve Atraso                          Não Houve Atraso   \n",
       "5281              Atraso Tolerável     Atraso Tolerável na Entrega Por Navio   \n",
       "10355             Não Houve Atraso                          Não Houve Atraso   \n",
       "5024              Atraso Tolerável     Atraso Tolerável na Entrega Por Navio   \n",
       "6316           Atraso Problemático  Atraso Problemático na Entrega Por Aviao   \n",
       "1820              Não Houve Atraso                          Não Houve Atraso   \n",
       "7603              Não Houve Atraso                          Não Houve Atraso   \n",
       "\n",
       "                 faixa_desconto  \\\n",
       "8581   Desconto Abaixo da Media   \n",
       "704     Desconto Acima da Media   \n",
       "9829   Desconto Abaixo da Media   \n",
       "3864   Desconto Abaixo da Media   \n",
       "5281   Desconto Abaixo da Media   \n",
       "10355  Desconto Abaixo da Media   \n",
       "5024   Desconto Abaixo da Media   \n",
       "6316   Desconto Abaixo da Media   \n",
       "1820    Desconto Acima da Media   \n",
       "7603   Desconto Abaixo da Media   \n",
       "\n",
       "                           performance_faixa_desconto  \n",
       "8581   Atraso na Entrega com Desconto Abaixo da Media  \n",
       "704      Entrega no Prazo com Desconto Acima da Media  \n",
       "9829    Entrega no Prazo com Desconto Abaixo da Media  \n",
       "3864    Entrega no Prazo com Desconto Abaixo da Media  \n",
       "5281   Atraso na Entrega com Desconto Abaixo da Media  \n",
       "10355   Entrega no Prazo com Desconto Abaixo da Media  \n",
       "5024   Atraso na Entrega com Desconto Abaixo da Media  \n",
       "6316   Atraso na Entrega com Desconto Abaixo da Media  \n",
       "1820     Entrega no Prazo com Desconto Acima da Media  \n",
       "7603    Entrega no Prazo com Desconto Abaixo da Media  "
      ]
     },
     "execution_count": 97,
     "metadata": {},
     "output_type": "execute_result"
    }
   ],
   "source": [
    "df_eng.sample(10)"
   ]
  },
  {
   "cell_type": "code",
   "execution_count": 98,
   "id": "fcda72ed",
   "metadata": {},
   "outputs": [
    {
     "ename": "OSError",
     "evalue": "Cannot save file into a non-existent directory: 'dados'",
     "output_type": "error",
     "traceback": [
      "\u001b[1;31m---------------------------------------------------------------------------\u001b[0m",
      "\u001b[1;31mOSError\u001b[0m                                   Traceback (most recent call last)",
      "\u001b[1;32m<ipython-input-98-0d8d46636c09>\u001b[0m in \u001b[0;36m<module>\u001b[1;34m\u001b[0m\n\u001b[0;32m      1\u001b[0m \u001b[1;31m# Salva o dataframe\u001b[0m\u001b[1;33m\u001b[0m\u001b[1;33m\u001b[0m\u001b[1;33m\u001b[0m\u001b[0m\n\u001b[1;32m----> 2\u001b[1;33m \u001b[0mdf_eng\u001b[0m\u001b[1;33m.\u001b[0m\u001b[0mto_csv\u001b[0m\u001b[1;33m(\u001b[0m\u001b[1;34m'dados/df_eng.csv'\u001b[0m\u001b[1;33m,\u001b[0m \u001b[0msep\u001b[0m \u001b[1;33m=\u001b[0m \u001b[1;34m','\u001b[0m\u001b[1;33m,\u001b[0m \u001b[0mencoding\u001b[0m \u001b[1;33m=\u001b[0m \u001b[1;34m'utf-8'\u001b[0m\u001b[1;33m)\u001b[0m\u001b[1;33m\u001b[0m\u001b[1;33m\u001b[0m\u001b[0m\n\u001b[0m",
      "\u001b[1;32m~\\AppData\\Roaming\\Python\\Python38\\site-packages\\pandas\\core\\generic.py\u001b[0m in \u001b[0;36mto_csv\u001b[1;34m(self, path_or_buf, sep, na_rep, float_format, columns, header, index, index_label, mode, encoding, compression, quoting, quotechar, line_terminator, chunksize, date_format, doublequote, escapechar, decimal, errors, storage_options)\u001b[0m\n\u001b[0;32m   3549\u001b[0m         )\n\u001b[0;32m   3550\u001b[0m \u001b[1;33m\u001b[0m\u001b[0m\n\u001b[1;32m-> 3551\u001b[1;33m         return DataFrameRenderer(formatter).to_csv(\n\u001b[0m\u001b[0;32m   3552\u001b[0m             \u001b[0mpath_or_buf\u001b[0m\u001b[1;33m,\u001b[0m\u001b[1;33m\u001b[0m\u001b[1;33m\u001b[0m\u001b[0m\n\u001b[0;32m   3553\u001b[0m             \u001b[0mline_terminator\u001b[0m\u001b[1;33m=\u001b[0m\u001b[0mline_terminator\u001b[0m\u001b[1;33m,\u001b[0m\u001b[1;33m\u001b[0m\u001b[1;33m\u001b[0m\u001b[0m\n",
      "\u001b[1;32m~\\AppData\\Roaming\\Python\\Python38\\site-packages\\pandas\\io\\formats\\format.py\u001b[0m in \u001b[0;36mto_csv\u001b[1;34m(self, path_or_buf, encoding, sep, columns, index_label, mode, compression, quoting, quotechar, line_terminator, chunksize, date_format, doublequote, escapechar, errors, storage_options)\u001b[0m\n\u001b[0;32m   1178\u001b[0m             \u001b[0mformatter\u001b[0m\u001b[1;33m=\u001b[0m\u001b[0mself\u001b[0m\u001b[1;33m.\u001b[0m\u001b[0mfmt\u001b[0m\u001b[1;33m,\u001b[0m\u001b[1;33m\u001b[0m\u001b[1;33m\u001b[0m\u001b[0m\n\u001b[0;32m   1179\u001b[0m         )\n\u001b[1;32m-> 1180\u001b[1;33m         \u001b[0mcsv_formatter\u001b[0m\u001b[1;33m.\u001b[0m\u001b[0msave\u001b[0m\u001b[1;33m(\u001b[0m\u001b[1;33m)\u001b[0m\u001b[1;33m\u001b[0m\u001b[1;33m\u001b[0m\u001b[0m\n\u001b[0m\u001b[0;32m   1181\u001b[0m \u001b[1;33m\u001b[0m\u001b[0m\n\u001b[0;32m   1182\u001b[0m         \u001b[1;32mif\u001b[0m \u001b[0mcreated_buffer\u001b[0m\u001b[1;33m:\u001b[0m\u001b[1;33m\u001b[0m\u001b[1;33m\u001b[0m\u001b[0m\n",
      "\u001b[1;32m~\\AppData\\Roaming\\Python\\Python38\\site-packages\\pandas\\io\\formats\\csvs.py\u001b[0m in \u001b[0;36msave\u001b[1;34m(self)\u001b[0m\n\u001b[0;32m    239\u001b[0m         \"\"\"\n\u001b[0;32m    240\u001b[0m         \u001b[1;31m# apply compression and byte/text conversion\u001b[0m\u001b[1;33m\u001b[0m\u001b[1;33m\u001b[0m\u001b[1;33m\u001b[0m\u001b[0m\n\u001b[1;32m--> 241\u001b[1;33m         with get_handle(\n\u001b[0m\u001b[0;32m    242\u001b[0m             \u001b[0mself\u001b[0m\u001b[1;33m.\u001b[0m\u001b[0mfilepath_or_buffer\u001b[0m\u001b[1;33m,\u001b[0m\u001b[1;33m\u001b[0m\u001b[1;33m\u001b[0m\u001b[0m\n\u001b[0;32m    243\u001b[0m             \u001b[0mself\u001b[0m\u001b[1;33m.\u001b[0m\u001b[0mmode\u001b[0m\u001b[1;33m,\u001b[0m\u001b[1;33m\u001b[0m\u001b[1;33m\u001b[0m\u001b[0m\n",
      "\u001b[1;32m~\\AppData\\Roaming\\Python\\Python38\\site-packages\\pandas\\io\\common.py\u001b[0m in \u001b[0;36mget_handle\u001b[1;34m(path_or_buf, mode, encoding, compression, memory_map, is_text, errors, storage_options)\u001b[0m\n\u001b[0;32m    695\u001b[0m     \u001b[1;31m# Only for write methods\u001b[0m\u001b[1;33m\u001b[0m\u001b[1;33m\u001b[0m\u001b[1;33m\u001b[0m\u001b[0m\n\u001b[0;32m    696\u001b[0m     \u001b[1;32mif\u001b[0m \u001b[1;34m\"r\"\u001b[0m \u001b[1;32mnot\u001b[0m \u001b[1;32min\u001b[0m \u001b[0mmode\u001b[0m \u001b[1;32mand\u001b[0m \u001b[0mis_path\u001b[0m\u001b[1;33m:\u001b[0m\u001b[1;33m\u001b[0m\u001b[1;33m\u001b[0m\u001b[0m\n\u001b[1;32m--> 697\u001b[1;33m         \u001b[0mcheck_parent_directory\u001b[0m\u001b[1;33m(\u001b[0m\u001b[0mstr\u001b[0m\u001b[1;33m(\u001b[0m\u001b[0mhandle\u001b[0m\u001b[1;33m)\u001b[0m\u001b[1;33m)\u001b[0m\u001b[1;33m\u001b[0m\u001b[1;33m\u001b[0m\u001b[0m\n\u001b[0m\u001b[0;32m    698\u001b[0m \u001b[1;33m\u001b[0m\u001b[0m\n\u001b[0;32m    699\u001b[0m     \u001b[1;32mif\u001b[0m \u001b[0mcompression\u001b[0m\u001b[1;33m:\u001b[0m\u001b[1;33m\u001b[0m\u001b[1;33m\u001b[0m\u001b[0m\n",
      "\u001b[1;32m~\\AppData\\Roaming\\Python\\Python38\\site-packages\\pandas\\io\\common.py\u001b[0m in \u001b[0;36mcheck_parent_directory\u001b[1;34m(path)\u001b[0m\n\u001b[0;32m    569\u001b[0m     \u001b[0mparent\u001b[0m \u001b[1;33m=\u001b[0m \u001b[0mPath\u001b[0m\u001b[1;33m(\u001b[0m\u001b[0mpath\u001b[0m\u001b[1;33m)\u001b[0m\u001b[1;33m.\u001b[0m\u001b[0mparent\u001b[0m\u001b[1;33m\u001b[0m\u001b[1;33m\u001b[0m\u001b[0m\n\u001b[0;32m    570\u001b[0m     \u001b[1;32mif\u001b[0m \u001b[1;32mnot\u001b[0m \u001b[0mparent\u001b[0m\u001b[1;33m.\u001b[0m\u001b[0mis_dir\u001b[0m\u001b[1;33m(\u001b[0m\u001b[1;33m)\u001b[0m\u001b[1;33m:\u001b[0m\u001b[1;33m\u001b[0m\u001b[1;33m\u001b[0m\u001b[0m\n\u001b[1;32m--> 571\u001b[1;33m         \u001b[1;32mraise\u001b[0m \u001b[0mOSError\u001b[0m\u001b[1;33m(\u001b[0m\u001b[1;34mrf\"Cannot save file into a non-existent directory: '{parent}'\"\u001b[0m\u001b[1;33m)\u001b[0m\u001b[1;33m\u001b[0m\u001b[1;33m\u001b[0m\u001b[0m\n\u001b[0m\u001b[0;32m    572\u001b[0m \u001b[1;33m\u001b[0m\u001b[0m\n\u001b[0;32m    573\u001b[0m \u001b[1;33m\u001b[0m\u001b[0m\n",
      "\u001b[1;31mOSError\u001b[0m: Cannot save file into a non-existent directory: 'dados'"
     ]
    }
   ],
   "source": [
    "# Salva o dataframe\n",
    "df_eng.to_csv('dados/df_eng.csv', sep = ',', encoding = 'utf-8')"
   ]
  },
  {
   "cell_type": "markdown",
   "id": "eceedff9",
   "metadata": {
    "id": "VmKPATOgP6BI"
   },
   "source": [
    "# Fim"
   ]
  }
 ],
 "metadata": {
  "colab": {
   "collapsed_sections": [],
   "name": "Stage 2 Final Project - W3.Solutions().ipynb",
   "provenance": []
  },
  "kernelspec": {
   "display_name": "Python 3",
   "language": "python",
   "name": "python3"
  },
  "language_info": {
   "codemirror_mode": {
    "name": "ipython",
    "version": 3
   },
   "file_extension": ".py",
   "mimetype": "text/x-python",
   "name": "python",
   "nbconvert_exporter": "python",
   "pygments_lexer": "ipython3",
   "version": "3.8.8"
  }
 },
 "nbformat": 4,
 "nbformat_minor": 5
}
