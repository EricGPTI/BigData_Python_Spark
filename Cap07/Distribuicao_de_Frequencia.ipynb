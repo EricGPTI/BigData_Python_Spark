{
 "cells": [
  {
   "cell_type": "markdown",
   "id": "00e74fa8-58f7-4169-a21e-6aee3757b724",
   "metadata": {},
   "source": [
    "# Capítulo 7 - Estatística Descritiva"
   ]
  },
  {
   "cell_type": "code",
   "execution_count": 4,
   "id": "ac3b973e-4bc5-4655-89fb-33d4f56009d2",
   "metadata": {},
   "outputs": [
    {
     "name": "stdout",
     "output_type": "stream",
     "text": [
      "Versão da Linguagem Python Usada Neste Jupyter Notebook: 3.8.8\n"
     ]
    }
   ],
   "source": [
    "# Versão do Python\n",
    "from platform import python_version\n",
    "print('Versão da Linguagem Python Usada Neste Jupyter Notebook:' ,  python_version())"
   ]
  },
  {
   "cell_type": "code",
   "execution_count": 5,
   "id": "551ae3bc-dd20-483b-8d3e-380cea69aaa2",
   "metadata": {},
   "outputs": [],
   "source": [
    "# Se precisar atualizar algum pacote remova os comentários e atualize os comandos.\n",
    "# Última Versão\n",
    "# pip install -U nome_pacote\n",
    "\n",
    "# Versão específica\n",
    "#!pip install nome_pacote == versão_desejada\n",
    "\n",
    "# Depois de instalar, reiniciar o notebook"
   ]
  },
  {
   "cell_type": "code",
   "execution_count": 6,
   "id": "899e5ac0-afd6-423e-a472-e23cb546d512",
   "metadata": {},
   "outputs": [
    {
     "name": "stderr",
     "output_type": "stream",
     "text": [
      "WARNING: Ignoring invalid distribution -umpy (c:\\programdata\\anaconda3\\lib\\site-packages)\n",
      "WARNING: Ignoring invalid distribution - (c:\\programdata\\anaconda3\\lib\\site-packages)\n",
      "WARNING: Ignoring invalid distribution -eaborn (c:\\programdata\\anaconda3\\lib\\site-packages)\n",
      "WARNING: Ignoring invalid distribution -andas (c:\\programdata\\anaconda3\\lib\\site-packages)\n",
      "WARNING: Ignoring invalid distribution -umpy (c:\\programdata\\anaconda3\\lib\\site-packages)\n",
      "WARNING: Ignoring invalid distribution - (c:\\programdata\\anaconda3\\lib\\site-packages)\n",
      "WARNING: Ignoring invalid distribution -eaborn (c:\\programdata\\anaconda3\\lib\\site-packages)\n",
      "WARNING: Ignoring invalid distribution -andas (c:\\programdata\\anaconda3\\lib\\site-packages)\n",
      "WARNING: Ignoring invalid distribution -umpy (c:\\programdata\\anaconda3\\lib\\site-packages)\n",
      "WARNING: Ignoring invalid distribution - (c:\\programdata\\anaconda3\\lib\\site-packages)\n",
      "WARNING: Ignoring invalid distribution -eaborn (c:\\programdata\\anaconda3\\lib\\site-packages)\n",
      "WARNING: Ignoring invalid distribution -andas (c:\\programdata\\anaconda3\\lib\\site-packages)\n",
      "WARNING: Ignoring invalid distribution -umpy (c:\\programdata\\anaconda3\\lib\\site-packages)\n",
      "WARNING: Ignoring invalid distribution - (c:\\programdata\\anaconda3\\lib\\site-packages)\n",
      "WARNING: Ignoring invalid distribution -eaborn (c:\\programdata\\anaconda3\\lib\\site-packages)\n",
      "WARNING: Ignoring invalid distribution -andas (c:\\programdata\\anaconda3\\lib\\site-packages)\n",
      "WARNING: Ignoring invalid distribution -umpy (c:\\programdata\\anaconda3\\lib\\site-packages)\n",
      "WARNING: Ignoring invalid distribution - (c:\\programdata\\anaconda3\\lib\\site-packages)\n",
      "WARNING: Ignoring invalid distribution -eaborn (c:\\programdata\\anaconda3\\lib\\site-packages)\n",
      "WARNING: Ignoring invalid distribution -andas (c:\\programdata\\anaconda3\\lib\\site-packages)\n",
      "WARNING: Ignoring invalid distribution -umpy (c:\\programdata\\anaconda3\\lib\\site-packages)\n",
      "WARNING: Ignoring invalid distribution - (c:\\programdata\\anaconda3\\lib\\site-packages)\n",
      "WARNING: Ignoring invalid distribution -eaborn (c:\\programdata\\anaconda3\\lib\\site-packages)\n",
      "WARNING: Ignoring invalid distribution -andas (c:\\programdata\\anaconda3\\lib\\site-packages)\n"
     ]
    }
   ],
   "source": [
    "# Pacote Watermark\n",
    "# Esse pacote é usado para gravar as versões de outros pacotes usados neste jupyter notebook.\n",
    "! pip install -q -U watermark"
   ]
  },
  {
   "cell_type": "markdown",
   "id": "f00b1ab6-a0f6-46f0-b10f-38bc2f2f10b5",
   "metadata": {},
   "source": [
    "### Distribuição de Frequência "
   ]
  },
  {
   "cell_type": "markdown",
   "id": "9ea2c837-a840-462a-a6f7-34ac15125cf5",
   "metadata": {},
   "source": [
    "O instrutor da DSA coletou as notas de todos os alunos na avaliação final do curso de Machine Learning. O instrutor gostaria de tabular os dados a fim de extrair insights e compreender como os dados estão organizados. Crie uma distribuição de frequência para ajudar o instrutor"
   ]
  },
  {
   "cell_type": "code",
   "execution_count": 13,
   "id": "92436c50-ddbe-40c9-bbc1-d4dc32fc29d4",
   "metadata": {},
   "outputs": [],
   "source": [
    "# Imports\n",
    "import pandas as pd\n",
    "import warnings\n",
    "\n",
    "# Ignorando warnings.\n",
    "warnings.filterwarnings('ignore')"
   ]
  },
  {
   "cell_type": "code",
   "execution_count": 8,
   "id": "de4ae66b-ef17-44e9-9a50-97f53a63f84c",
   "metadata": {},
   "outputs": [],
   "source": [
    "# Lista de notas de alunos na avaliação final do curso de Machine Learning.\n",
    "notas_alunos = [92, 81, 100, 92, 71, 73, 100, 92, 84, 100, 73, 92, 84, 92, 92, 92, 84, 73, 100]"
   ]
  },
  {
   "cell_type": "code",
   "execution_count": 10,
   "id": "ed8c9344-2115-4e1b-807c-b02105a86550",
   "metadata": {},
   "outputs": [
    {
     "data": {
      "text/plain": [
       "19"
      ]
     },
     "execution_count": 10,
     "metadata": {},
     "output_type": "execute_result"
    }
   ],
   "source": [
    "len(notas_alunos)"
   ]
  },
  {
   "cell_type": "markdown",
   "id": "ff260b3d-87b7-4f76-8bfd-9d6dad1ef2be",
   "metadata": {},
   "source": [
    "### Solução com Series em Pandas"
   ]
  },
  {
   "cell_type": "code",
   "execution_count": 16,
   "id": "ce87ca37-938a-46f9-9349-eae74eefcf4d",
   "metadata": {},
   "outputs": [],
   "source": [
    "# Criar uma série com notas e frequências (contagens por notas)\n",
    "df1 = pd.Series(notas_alunos).value_counts().reset_index().sort_values('index').reset_index(drop = True)"
   ]
  },
  {
   "cell_type": "code",
   "execution_count": 19,
   "id": "367ea055-37eb-47ed-addc-a121a70a629a",
   "metadata": {},
   "outputs": [
    {
     "data": {
      "text/plain": [
       "pandas.core.frame.DataFrame"
      ]
     },
     "execution_count": 19,
     "metadata": {},
     "output_type": "execute_result"
    }
   ],
   "source": [
    "type(df1)"
   ]
  },
  {
   "cell_type": "code",
   "execution_count": 21,
   "id": "df01a5b5-5b84-4075-af5d-a53c59f6993d",
   "metadata": {},
   "outputs": [],
   "source": [
    "# Alterar os nomes das colunas\n",
    "df1.columns = ['Nota', 'Frequência']"
   ]
  },
  {
   "cell_type": "code",
   "execution_count": 22,
   "id": "8cae7d3a-924c-4468-8338-884d32e6661a",
   "metadata": {},
   "outputs": [
    {
     "name": "stdout",
     "output_type": "stream",
     "text": [
      "   Nota  Frequência\n",
      "0    71           1\n",
      "1    73           3\n",
      "2    81           1\n",
      "3    84           3\n",
      "4    92           7\n",
      "5   100           4\n"
     ]
    }
   ],
   "source": [
    "print(df1)"
   ]
  },
  {
   "cell_type": "code",
   "execution_count": 24,
   "id": "a2582b66-82de-4943-b16d-a84d441dcf1b",
   "metadata": {},
   "outputs": [
    {
     "name": "stdout",
     "output_type": "stream",
     "text": [
      "              Notas  Frequencia\n",
      "0   (70.97, 80.667]           4\n",
      "1  (80.667, 90.333]           4\n",
      "2   (90.333, 100.0]          11\n"
     ]
    }
   ],
   "source": [
    "# Série com notas e frequências, alterando a quantidade de calsses.\n",
    "df1 = pd.Series(notas_alunos).value_counts(bins=3).reset_index().sort_values('index').reset_index(drop=True)\n",
    "df1.columns = ['Notas', 'Frequencia']\n",
    "print(df1)"
   ]
  },
  {
   "cell_type": "markdown",
   "id": "69ccea9e-4835-49c8-9d55-952290e0bd2d",
   "metadata": {},
   "source": [
    "## Solução com DataFrame em Pandas"
   ]
  },
  {
   "cell_type": "markdown",
   "id": "12365ae1-1f42-41e1-8b21-5d157df7ed23",
   "metadata": {},
   "source": [
    "### Distribuição de Frequência Simples ou Absoluta fi\n",
    "\n",
    "São valores que representam o número de dados de cada calsse. A soma das frequências simples é igual ao número total de dados."
   ]
  },
  {
   "cell_type": "code",
   "execution_count": 26,
   "id": "3fca545c-7f87-4259-98de-4e30c004f1d6",
   "metadata": {},
   "outputs": [
    {
     "name": "stdout",
     "output_type": "stream",
     "text": [
      "       fi\n",
      "Notas    \n",
      "71      1\n",
      "73      3\n",
      "81      1\n",
      "84      3\n",
      "92      7\n",
      "100     4\n"
     ]
    }
   ],
   "source": [
    "df2 = pd.value_counts(notas_alunos).to_frame(name = 'fi').rename_axis('Notas').sort_index()\n",
    "print(df2)"
   ]
  },
  {
   "cell_type": "markdown",
   "id": "b973a179-4e74-4e24-a4a8-33b6f83606e6",
   "metadata": {},
   "source": [
    "### Distribuição de Frequência Relativa Simples - fri\n",
    "\n",
    "Permite visualizar os valores das razões entre as Frequência Simples e a Frquência Total"
   ]
  },
  {
   "cell_type": "code",
   "execution_count": 28,
   "id": "15718836-8bca-48b1-9305-26704815e05d",
   "metadata": {},
   "outputs": [
    {
     "name": "stdout",
     "output_type": "stream",
     "text": [
      "       fi       fri\n",
      "Notas              \n",
      "71      1  0.052632\n",
      "73      3  0.157895\n",
      "81      1  0.052632\n",
      "84      3  0.157895\n",
      "92      7  0.368421\n",
      "100     4  0.210526\n"
     ]
    }
   ],
   "source": [
    "df2['fri'] = pd.value_counts(notas_alunos) / len(notas_alunos)\n",
    "print(df2)"
   ]
  },
  {
   "cell_type": "markdown",
   "id": "a806bfee-fc42-4973-ba01-e9eb374a72e5",
   "metadata": {},
   "source": [
    "### Distribuição de Frequência Acumulada - Fi\n",
    "\n",
    "Permite Visualizar o total das Frequências de todos os valores inferiores ao limite superior do intervalo de uma dada classe."
   ]
  },
  {
   "cell_type": "code",
   "execution_count": 29,
   "id": "f65383aa-ad4d-4863-ab63-d96a07990802",
   "metadata": {},
   "outputs": [
    {
     "name": "stdout",
     "output_type": "stream",
     "text": [
      "       fi       fri  Fi\n",
      "Notas                  \n",
      "71      1  0.052632   1\n",
      "73      3  0.157895   4\n",
      "81      1  0.052632   5\n",
      "84      3  0.157895   8\n",
      "92      7  0.368421  15\n",
      "100     4  0.210526  19\n"
     ]
    }
   ],
   "source": [
    "df2['Fi'] = df2.fi.cumsum()\n",
    "print(df2)"
   ]
  },
  {
   "cell_type": "markdown",
   "id": "c247492d-2bdf-4262-a300-93ccb10268de",
   "metadata": {},
   "source": [
    "### Distribuição de Frequência Relativa Acumulada - Fri"
   ]
  },
  {
   "cell_type": "markdown",
   "id": "64d1577a-5898-4f3c-86fa-799cc2a48992",
   "metadata": {},
   "source": [
    "Permite visualizar a frequência acumulada da classe, dividida pela frquência total da distribuição."
   ]
  },
  {
   "cell_type": "code",
   "execution_count": 31,
   "id": "6a45e5c0-f330-4f66-a9ac-67a81a80e138",
   "metadata": {},
   "outputs": [
    {
     "name": "stdout",
     "output_type": "stream",
     "text": [
      "       fi       fri  Fi       Fri\n",
      "Notas                            \n",
      "71      1  0.052632   1  0.052632\n",
      "73      3  0.157895   4  0.210526\n",
      "81      1  0.052632   5  0.263158\n",
      "84      3  0.157895   8  0.421053\n",
      "92      7  0.368421  15  0.789474\n",
      "100     4  0.210526  19  1.000000\n"
     ]
    }
   ],
   "source": [
    "df2['Fri'] = df2.fi.cumsum() / len(notas_alunos)\n",
    "print(df2)"
   ]
  },
  {
   "cell_type": "code",
   "execution_count": 33,
   "id": "60e55cdc-b20a-4264-96f6-d53d1ef5f02a",
   "metadata": {},
   "outputs": [
    {
     "name": "stdout",
     "output_type": "stream",
     "text": [
      "Author: Data Science Academy\n",
      "\n",
      "pandas: 1.4.2\n",
      "\n"
     ]
    }
   ],
   "source": [
    "# Versões dos pacotes usados neste jupyter\n",
    "%reload_ext watermark\n",
    "%watermark -a \"Data Science Academy\" --iversions"
   ]
  },
  {
   "cell_type": "code",
   "execution_count": null,
   "id": "d2b431f8-121b-4f31-b713-20beb2a9f03a",
   "metadata": {},
   "outputs": [],
   "source": []
  }
 ],
 "metadata": {
  "kernelspec": {
   "display_name": "Python 3 (ipykernel)",
   "language": "python",
   "name": "python3"
  },
  "language_info": {
   "codemirror_mode": {
    "name": "ipython",
    "version": 3
   },
   "file_extension": ".py",
   "mimetype": "text/x-python",
   "name": "python",
   "nbconvert_exporter": "python",
   "pygments_lexer": "ipython3",
   "version": "3.8.8"
  }
 },
 "nbformat": 4,
 "nbformat_minor": 5
}
