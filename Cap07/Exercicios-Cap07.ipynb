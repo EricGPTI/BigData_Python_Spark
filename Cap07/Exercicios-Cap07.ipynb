{
 "cells": [
  {
   "cell_type": "markdown",
   "id": "cbc7e7e2",
   "metadata": {},
   "source": [
    "# <font color='blue'>Data Science Academy</font>\n",
    "# <font color='blue'>Big Data Real-Time Analytics com Python e Spark</font>\n",
    "\n",
    "## <font color='blue'>Exercícios do Capítulo 7</font>"
   ]
  },
  {
   "cell_type": "markdown",
   "id": "289211b6",
   "metadata": {},
   "source": [
    "O objetivo destes exercícios é desenvolver suas habilidades de programação ao mesmo tempo que pratica alguns dos principais conceitos de Estatística Descritiva. \n",
    "\n",
    "Uma parte do código está preenchida para você. A solução será apresentada no começo do próximo capítulo."
   ]
  },
  {
   "cell_type": "code",
   "execution_count": 1,
   "id": "95bbb2fa",
   "metadata": {},
   "outputs": [
    {
     "name": "stdout",
     "output_type": "stream",
     "text": [
      "Versão da Linguagem Python Usada Neste Jupyter Notebook: 3.8.8\n"
     ]
    }
   ],
   "source": [
    "# Versão da Linguagem Python\n",
    "from platform import python_version\n",
    "print('Versão da Linguagem Python Usada Neste Jupyter Notebook:', python_version())"
   ]
  },
  {
   "cell_type": "code",
   "execution_count": 2,
   "id": "78658596",
   "metadata": {},
   "outputs": [
    {
     "name": "stderr",
     "output_type": "stream",
     "text": [
      "WARNING: Ignoring invalid distribution -umpy (c:\\programdata\\anaconda3\\lib\\site-packages)\n",
      "WARNING: Ignoring invalid distribution - (c:\\programdata\\anaconda3\\lib\\site-packages)\n",
      "WARNING: Ignoring invalid distribution -eaborn (c:\\programdata\\anaconda3\\lib\\site-packages)\n",
      "WARNING: Ignoring invalid distribution -andas (c:\\programdata\\anaconda3\\lib\\site-packages)\n",
      "WARNING: Ignoring invalid distribution -umpy (c:\\programdata\\anaconda3\\lib\\site-packages)\n",
      "WARNING: Ignoring invalid distribution - (c:\\programdata\\anaconda3\\lib\\site-packages)\n",
      "WARNING: Ignoring invalid distribution -eaborn (c:\\programdata\\anaconda3\\lib\\site-packages)\n",
      "WARNING: Ignoring invalid distribution -andas (c:\\programdata\\anaconda3\\lib\\site-packages)\n",
      "WARNING: Ignoring invalid distribution -umpy (c:\\programdata\\anaconda3\\lib\\site-packages)\n",
      "WARNING: Ignoring invalid distribution - (c:\\programdata\\anaconda3\\lib\\site-packages)\n",
      "WARNING: Ignoring invalid distribution -eaborn (c:\\programdata\\anaconda3\\lib\\site-packages)\n",
      "WARNING: Ignoring invalid distribution -andas (c:\\programdata\\anaconda3\\lib\\site-packages)\n",
      "WARNING: Ignoring invalid distribution -umpy (c:\\programdata\\anaconda3\\lib\\site-packages)\n",
      "WARNING: Ignoring invalid distribution - (c:\\programdata\\anaconda3\\lib\\site-packages)\n",
      "WARNING: Ignoring invalid distribution -eaborn (c:\\programdata\\anaconda3\\lib\\site-packages)\n",
      "WARNING: Ignoring invalid distribution -andas (c:\\programdata\\anaconda3\\lib\\site-packages)\n",
      "WARNING: Ignoring invalid distribution -umpy (c:\\programdata\\anaconda3\\lib\\site-packages)\n",
      "WARNING: Ignoring invalid distribution - (c:\\programdata\\anaconda3\\lib\\site-packages)\n",
      "WARNING: Ignoring invalid distribution -eaborn (c:\\programdata\\anaconda3\\lib\\site-packages)\n",
      "WARNING: Ignoring invalid distribution -andas (c:\\programdata\\anaconda3\\lib\\site-packages)\n",
      "WARNING: Ignoring invalid distribution -umpy (c:\\programdata\\anaconda3\\lib\\site-packages)\n",
      "WARNING: Ignoring invalid distribution - (c:\\programdata\\anaconda3\\lib\\site-packages)\n",
      "WARNING: Ignoring invalid distribution -eaborn (c:\\programdata\\anaconda3\\lib\\site-packages)\n",
      "WARNING: Ignoring invalid distribution -andas (c:\\programdata\\anaconda3\\lib\\site-packages)\n"
     ]
    }
   ],
   "source": [
    "# Para atualizar um pacote, execute o comando abaixo no terminal ou prompt de comando:\n",
    "# pip install -U nome_pacote\n",
    "\n",
    "# Para instalar a versão exata de um pacote, execute o comando abaixo no terminal ou prompt de comando:\n",
    "#!pip install nome_pacote==versão_desejada\n",
    "\n",
    "# Depois de instalar ou atualizar o pacote, reinicie o jupyter notebook.\n",
    "\n",
    "# Instala o pacote watermark. \n",
    "# Esse pacote é usado para gravar as versões de outros pacotes usados neste jupyter notebook.\n",
    "!pip install -q -U watermark"
   ]
  },
  {
   "cell_type": "markdown",
   "id": "379088a1",
   "metadata": {},
   "source": [
    "### Exercício 1 - Crie uma função Python usando somente operações matemáticas (não use outras funções ou métodos) que receba uma lista de números como argumento e devolva como resultado a média da lista de números."
   ]
  },
  {
   "cell_type": "code",
   "execution_count": 7,
   "id": "c911d2f2",
   "metadata": {},
   "outputs": [
    {
     "data": {
      "text/plain": [
       "81.5"
      ]
     },
     "execution_count": 7,
     "metadata": {},
     "output_type": "execute_result"
    }
   ],
   "source": [
    "# Solução\n",
    "\n",
    "# Lista de números\n",
    "lista_numeros = [78, 80, 79, 80, 87, 85]\n",
    "\n",
    "# Função\n",
    "def calcula_media(lista):\n",
    "    tamanho = len(lista)\n",
    "    return sum(lista)/tamanho \n",
    "# Chamada à função\n",
    "calcula_media(lista_numeros)                          "
   ]
  },
  {
   "cell_type": "markdown",
   "id": "3a82d0d7",
   "metadata": {},
   "source": [
    "### Exercício 2 - Crie uma função Python que receba uma lista como argumento e retorne a mediana. A função deve retornar a mediana para lista com qualquer número de elementos. Use métodos auxiliares se necessário."
   ]
  },
  {
   "cell_type": "code",
   "execution_count": 37,
   "id": "e309e500",
   "metadata": {},
   "outputs": [
    {
     "name": "stdout",
     "output_type": "stream",
     "text": [
      "A mediana da lista 1 é: 80.5\n",
      "A mediana da lista 2 é: 80\n"
     ]
    }
   ],
   "source": [
    "# Solução\n",
    "\n",
    "# Listas de números\n",
    "lista_numeros_1 = [78, 80, 79, 81, 87, 85]\n",
    "lista_numeros_2 = [78, 80, 79, 87, 85]\n",
    "\n",
    "# Função\n",
    "def calcula_mediana(nums):\n",
    "    ordered_list = sorted(nums)\n",
    "    tamanho = len(nums)\n",
    "    if tamanho % 2 == 0:\n",
    "        p1 = int((tamanho / 2) - 1)\n",
    "        p2 = int(tamanho / 2)\n",
    "        median = (ordered_list[p1] + ordered_list[p2]) / 2\n",
    "        return median\n",
    "    else:\n",
    "        position = (tamanho // 2)\n",
    "        median = ordered_list[position]\n",
    "        return median\n",
    "    \n",
    "# Chamada à função\n",
    "resultado1 = calcula_mediana(lista_numeros_1)\n",
    "resultado2 = calcula_mediana(lista_numeros_2)\n",
    "\n",
    "print(\"A mediana da lista 1 é:\", resultado1)\n",
    "print(\"A mediana da lista 2 é:\", resultado2)"
   ]
  },
  {
   "cell_type": "markdown",
   "id": "17a0fa81",
   "metadata": {},
   "source": [
    "### Exercício 3 - Considerando a lista de elementos abaixo que representa o número de produtos vendidos por dia em uma empresa, crie uma função Python que receba a lista e retorne a variância. Use métodos auxiliares se necessário.\n",
    "\n",
    "Fórmula da variância:"
   ]
  },
  {
   "cell_type": "markdown",
   "id": "13b7e500",
   "metadata": {},
   "source": [
    "![title](imagens/var.png)"
   ]
  },
  {
   "cell_type": "code",
   "execution_count": 38,
   "id": "00c6f2f9",
   "metadata": {},
   "outputs": [],
   "source": [
    "# Lista de números\n",
    "unidades_vendidas = [5, 4, 3, 4, 8, 2, 5, 2, 5, 8, 10, 8, 7, 8, 7, 9, 10, 5, 7, 5, 7, 5, 4, 3, 5, 8, 4]"
   ]
  },
  {
   "cell_type": "code",
   "execution_count": 39,
   "id": "327d146e",
   "metadata": {},
   "outputs": [
    {
     "name": "stdout",
     "output_type": "stream",
     "text": [
      "A variância da lista é: 5.09\n"
     ]
    }
   ],
   "source": [
    "# Solução\n",
    "\n",
    "# Função \n",
    "def calcula_variancia(data):\n",
    "    media = sum(data) / len(data)\n",
    "    sum_val = 0\n",
    "    for x in data:\n",
    "        sum_val += (x - media) ** 2\n",
    "    var = sum_val / len(data)\n",
    "    return var\n",
    "\n",
    "# Chamada à função\n",
    "v = round(calcula_variancia(unidades_vendidas), 2)\n",
    "\n",
    "print(\"A variância da lista é:\", v)"
   ]
  },
  {
   "cell_type": "markdown",
   "id": "5c5fdd1f",
   "metadata": {},
   "source": [
    "### Exercício 4 - Considerando a lista de elementos abaixo que representa o número de produtos vendidos por dia em uma empresa, crie uma função que calcule o desvio padrão. Desvio padrão é o quadrado da variância."
   ]
  },
  {
   "cell_type": "code",
   "execution_count": 40,
   "id": "f8395dcc",
   "metadata": {},
   "outputs": [],
   "source": [
    "# Lista de números\n",
    "unidades_vendidas = [5, 4, 3, 4, 8, 2, 5, 2, 5, 8, 10, 8, 7, 8, 7, 9, 10, 5, 7, 5, 7, 5, 4, 3, 5, 8, 4]"
   ]
  },
  {
   "cell_type": "code",
   "execution_count": 41,
   "id": "f7db955d",
   "metadata": {},
   "outputs": [
    {
     "name": "stdout",
     "output_type": "stream",
     "text": [
      "O desvio padrão da lista é: 2.26\n"
     ]
    }
   ],
   "source": [
    "# Solução\n",
    "\n",
    "# Import\n",
    "import math\n",
    "\n",
    "# Função\n",
    "def calcula_std(dados):\n",
    "    var = round(calcula_variancia(unidades_vendidas), 2)\n",
    "    std = math.sqrt(var)\n",
    "    return std\n",
    "\n",
    "# Chamada à função\n",
    "s = round(calcula_std(unidades_vendidas), 2)\n",
    "print(\"O desvio padrão da lista é:\", s)"
   ]
  },
  {
   "cell_type": "markdown",
   "id": "24285ddc",
   "metadata": {},
   "source": [
    "### Exercício 5 - Usando os pacotes NumPy e Scipy, calcule as estatísticas descritivas de tendência central e dispersão da lista abaixo."
   ]
  },
  {
   "cell_type": "code",
   "execution_count": 42,
   "id": "788995db",
   "metadata": {},
   "outputs": [],
   "source": [
    "# Lista de números\n",
    "unidades = [5, 4, 3, 5, 8, 2, 5, 2, 5, 8, 10, 8, 7, 9, 10, 5, 7, 5, 7, 5, 4, 3, 5, 8, 4]"
   ]
  },
  {
   "cell_type": "code",
   "execution_count": 57,
   "id": "1cbfb92f",
   "metadata": {},
   "outputs": [
    {
     "name": "stdout",
     "output_type": "stream",
     "text": [
      "DescribeResult(nobs=25, minmax=(2, 10), mean=5.76, variance=5.3566666666666665, skewness=0.23636648438778793, kurtosis=-0.8647340179806067)\n",
      "5.76\n",
      "5.0\n",
      "5.1424\n",
      "2.267686045289339\n",
      "1.0\n"
     ]
    }
   ],
   "source": [
    "# Solução\n",
    "\n",
    "# Imports\n",
    "import numpy as np\n",
    "import scipy\n",
    "from scipy import stats\n",
    "\n",
    "# Scipy\n",
    "print(stats.describe(unidades))\n",
    "\n",
    "# Numpy\n",
    "print(np.mean(unidades))\n",
    "print(np.median(unidades))\n",
    "print(np.var(unidades))\n",
    "print(np.std(unidades))\n",
    "print(np.corrcoef(unidades))\n",
    "\n",
    "# Coloque aqui sua solução"
   ]
  },
  {
   "cell_type": "code",
   "execution_count": 58,
   "id": "8edacecf-233b-4e3f-9a20-8f5ccec8e712",
   "metadata": {},
   "outputs": [],
   "source": [
    "#!pip install scipy"
   ]
  },
  {
   "cell_type": "code",
   "execution_count": 59,
   "id": "7ed37f2b",
   "metadata": {},
   "outputs": [
    {
     "name": "stdout",
     "output_type": "stream",
     "text": [
      "Author: Data Science Academy\n",
      "\n",
      "numpy: 1.22.3\n",
      "scipy: 1.8.1\n",
      "\n"
     ]
    }
   ],
   "source": [
    "# Versões dos pacotes usados neste jupyter notebook\n",
    "%reload_ext watermark\n",
    "%watermark -a \"Data Science Academy\" --iversions"
   ]
  },
  {
   "cell_type": "markdown",
   "id": "cdb99d20",
   "metadata": {},
   "source": [
    "# Fim"
   ]
  }
 ],
 "metadata": {
  "kernelspec": {
   "display_name": "Python 3 (ipykernel)",
   "language": "python",
   "name": "python3"
  },
  "language_info": {
   "codemirror_mode": {
    "name": "ipython",
    "version": 3
   },
   "file_extension": ".py",
   "mimetype": "text/x-python",
   "name": "python",
   "nbconvert_exporter": "python",
   "pygments_lexer": "ipython3",
   "version": "3.8.8"
  }
 },
 "nbformat": 4,
 "nbformat_minor": 5
}
